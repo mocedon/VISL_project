{
  "cells": [
    {
      "cell_type": "markdown",
      "source": [
        "Structure:\n",
        "\n",
        "- Get images\n",
        "  - Per patient\n",
        "  - Train\n",
        "  - Test\n",
        "-Run all images through feature detection\n",
        "-Take each patient, run PCA with k =?\n",
        "-Run MLP classifier / linear discriminator"
      ],
      "metadata": {
        "id": "hGa51nBR-3Xf"
      }
    },
    {
      "cell_type": "code",
      "source": [
        "import os\n",
        "import numpy as np\n",
        "import pandas as pd\n",
        "import torch\n",
        "import torch.nn as nn\n",
        "import torchvision\n",
        "import torchvision.models as models\n",
        "import torchvision.transforms as transforms\n",
        "import matplotlib.pyplot as plt\n",
        "import time\n",
        "import datetime\n",
        "\n",
        "from sklearn.decomposition import PCA, KernelPCA\n",
        "\n",
        "# %matplotlib notebook\n",
        "%matplotlib inline"
      ],
      "metadata": {
        "id": "hjYfD2Z1BMtV"
      },
      "execution_count": 1,
      "outputs": []
    },
    {
      "cell_type": "code",
      "source": [
        "def fake_data(dir = './data', ptns=12, pchs=10):\n",
        "  imgs = torch.rand((ptns, pchs,3, 224,224))\n",
        "  os.mkdir(dir)\n",
        "  classes = []\n",
        "  for p in range(ptns):\n",
        "    case = 'A' if torch.randn(1) > 0 else 'B'\n",
        "    classes.append(case)\n",
        "    p_name = \"ptn-{}-{}\".format(str(p).zfill(3), case)\n",
        "    pth = os.path.join(dir, p_name)\n",
        "    os.mkdir(pth)\n",
        "    for i in range(pchs):\n",
        "      im = imgs[int(p),i]\n",
        "      if case is 'B':\n",
        "        im = im / 2\n",
        "      fname = os.path.join(dir ,p_name, str(i).zfill(3) + '.png')\n",
        "      torchvision.utils.save_image(im, fname)\n",
        "  return classes"
      ],
      "metadata": {
        "id": "vT4M9f7I-e2u"
      },
      "execution_count": 2,
      "outputs": []
    },
    {
      "cell_type": "code",
      "source": [
        "!rm -fr data*\n",
        "!rm -fr aug_data*\n",
        "!ls"
      ],
      "metadata": {
        "colab": {
          "base_uri": "https://localhost:8080/"
        },
        "id": "KT2ybGgdSEBI",
        "outputId": "0a87b6eb-7972-435a-95d4-f06209b3405a"
      },
      "execution_count": 3,
      "outputs": [
        {
          "output_type": "stream",
          "name": "stdout",
          "text": [
            "sample_data\n"
          ]
        }
      ]
    },
    {
      "cell_type": "code",
      "source": [
        "dir = './data'\n",
        "classes = fake_data(dir)\n",
        "!ls"
      ],
      "metadata": {
        "colab": {
          "base_uri": "https://localhost:8080/"
        },
        "id": "HYnmUlwtB1JI",
        "outputId": "5a23554e-552e-4ecf-eb78-653e8025fd7a"
      },
      "execution_count": 4,
      "outputs": [
        {
          "output_type": "stream",
          "name": "stdout",
          "text": [
            "data  sample_data\n"
          ]
        }
      ]
    },
    {
      "cell_type": "code",
      "source": [
        ""
      ],
      "metadata": {
        "id": "blvS7YZeOvuG"
      },
      "execution_count": 4,
      "outputs": []
    },
    {
      "cell_type": "code",
      "source": [
        "def get_device():\n",
        "  dev = \"cuda:0\" if torch.cuda.is_available() else \"cpu\"\n",
        "  device = torch.device(dev)\n",
        "  return device\n",
        "\n",
        "\n",
        "def get_transform(dir):\n",
        "  default_transform = transforms.Compose([transforms.CenterCrop(224), transforms.ToPILImage(), transforms.ToTensor()])\n",
        "  dataset = torchvision.datasets.DatasetFolder(root=dir, loader=torchvision.io.read_image, extensions='.png', transform=default_transform)\n",
        "  clc = []\n",
        "  for img, lbl in dataset:\n",
        "    clc.append(img)\n",
        "  print(\"clc: [{} , {}]\".format(len(clc),clc[0].shape))\n",
        "\n",
        "  tn = torch.Tensor(len(clc), *clc[0].shape)\n",
        "  print(tn.shape)\n",
        "  for i in range(len(clc)):\n",
        "    tn[i] = clc[i]\n",
        "  print(tn.shape)\n",
        "  tn.to(get_device())\n",
        "  dim = [i for i in range(2, len(tn.shape))]\n",
        "  print('dim is : {}'.format(dim))\n",
        "  mean = tn.mean(dim=(0,*dim)).cpu()\n",
        "  std = tn.std(dim=(0,2,3)).cpu()\n",
        "  print(\"mean = {}\".format(mean))\n",
        "  print(\"std = {}\".format(std))\n",
        "\n",
        "  normal_transform = transforms.Compose([default_transform,\n",
        "                                         transforms.Normalize(mean=mean, std=std)])\n",
        "  return normal_transform"
      ],
      "metadata": {
        "id": "OeJEgOYgMAhQ"
      },
      "execution_count": 5,
      "outputs": []
    },
    {
      "cell_type": "code",
      "source": [
        "def batch_PCA_(imgs ,k=16):\n",
        "  print(\"batch input size: {}\".format(imgs.shape))\n",
        "  ret = imgs.mean(dim=0)\n",
        "  print(\"batch new size: {}\".format(ret.shape))\n",
        "  return ret"
      ],
      "metadata": {
        "id": "wjgM5J7Ln2Fu"
      },
      "execution_count": 6,
      "outputs": []
    },
    {
      "cell_type": "code",
      "source": [
        "def get_class(ds, dir):\n",
        "  cls = ds.find_classes(dir)[0]\n",
        "  ret = []\n",
        "  for c in cls:\n",
        "    case = c[-1]\n",
        "    ret.append(case)\n",
        "  return ret"
      ],
      "metadata": {
        "id": "zLBpwMzK0AC0"
      },
      "execution_count": 7,
      "outputs": []
    },
    {
      "cell_type": "code",
      "source": [
        "def batch_PCA(imgs, fx, k=8):\n",
        "  bts = imgs.shape[0]\n",
        "  print(\"Batch PCA input size: {}\".format(imgs.shape))\n",
        "  ftrs = fx(imgs).reshape(bts, -1).cpu().numpy()\n",
        "  #ftr_var = (ftrs.T @ ftrs).cpu().numpy()\n",
        "  PCA_comp = PCA(k, svd_solver='full').fit(ftrs)\n",
        "  eig_vec = torch.Tensor(PCA_comp.components_)\n",
        "  print(\"Eigen Vector size :{} , with max: {}\".format(eig_vec.shape, eig_vec.max()))\n",
        "  return eig_vec"
      ],
      "metadata": {
        "id": "WQ5gJRu8-oF0"
      },
      "execution_count": 8,
      "outputs": []
    },
    {
      "cell_type": "code",
      "source": [
        "def ds_img(imgs):\n",
        "  s = imgs.shape[-1] // 8\n",
        "  t = transforms.RandomCrop(s)\n",
        "  return t(imgs)\n"
      ],
      "metadata": {
        "id": "tULoXSwVAQpN"
      },
      "execution_count": 9,
      "outputs": []
    },
    {
      "cell_type": "code",
      "source": [
        "class AutoEncoder(nn.Module):\n",
        "\n",
        "  def __init__(self, head, rest):\n",
        "    super(AutoEncoder, self).__init__()\n",
        "    self.encode = head\n",
        "    self.decode = reset\n",
        "  \n",
        "  def forward(self, imgs):\n",
        "    x = self.encode(imgs)\n",
        "    return self.decode(x)\n",
        "\n",
        "  def feature_ext(self, imgs):\n",
        "    return self.encode(imgs)"
      ],
      "metadata": {
        "id": "8ReMGN_XAxsF"
      },
      "execution_count": 10,
      "outputs": []
    },
    {
      "cell_type": "code",
      "source": [
        "def batch_aug(dataset, aug_dir, class_fnc, aug_fnc, fx_fnc):\n",
        "  classes = class_fnc(dataset, dir)\n",
        "\n",
        "  data = [[] for i in range(len(dataset.find_classes(dir)[0]))]\n",
        "  for img, lbl in dataset:\n",
        "    data[lbl].append(img)\n",
        "  print(\"data: [{} , {} , {}]\".format(len(data),len(data[0]), data[0][0].shape))\n",
        "\n",
        "  if not os.path.isdir(aug_dir):\n",
        "    os.mkdir(aug_dir)\n",
        "  \n",
        "  for p, d in enumerate(data):\n",
        "    tn = torch.Tensor(len(d), *d[0].shape)\n",
        "    for i in range(len(d)):\n",
        "      tn[i] = d[i]\n",
        "    tn.requires_grad_(False).to(get_device())\n",
        "\n",
        "    rd = aug_fnc(tn, fx_fnc).cpu().numpy()\n",
        "\n",
        "    curr_dir = os.path.join(aug_dir, classes[p])\n",
        "    if not os.path.isdir(curr_dir):\n",
        "      os.mkdir(curr_dir)\n",
        "    fname = os.path.join(curr_dir , str(p).zfill(3) + '.npy')\n",
        "    with open(fname, 'wb') as f:\n",
        "      np.save(f, rd)\n",
        "\n",
        "\n",
        "def read_mtx(path):\n",
        "  with open(path, 'rb') as f:\n",
        "    return np.load(f)"
      ],
      "metadata": {
        "id": "uc30a7QqwPc9"
      },
      "execution_count": 11,
      "outputs": []
    },
    {
      "cell_type": "code",
      "source": [
        ""
      ],
      "metadata": {
        "id": "3mFaYzhjhrsC"
      },
      "execution_count": 11,
      "outputs": []
    },
    {
      "cell_type": "code",
      "source": [
        "class MLPmodel(nn.Module):\n",
        "  def __init__(self, input):\n",
        "    super(MLPmodel, self).__init__()\n",
        "    self.mlp = nn.Sequential(\n",
        "        nn.Linear(input, input//8),\n",
        "        nn.ReLU(inplace=True),\n",
        "        nn.Linear(input//8, 2), \n",
        "        nn.Softmax(dim=0))\n",
        "\n",
        "    \n",
        "  def forward(self, ev):\n",
        "    ev_ = ev.view(ev.shape[0], -1)\n",
        "    return self.mlp(ev_)\n",
        "\n",
        "\n",
        "class LinearReg(nn.Module):\n",
        "  def __init__(self, input):\n",
        "    super(LinearReg, self).__init__()\n",
        "    self.mlp = nn.Sequential(\n",
        "        nn.Linear(input, 2),\n",
        "        nn.Softmax(dim=0))\n",
        "\n",
        "  def forward(self, ev):\n",
        "    ev_ = ev.view(ev.shape[0], -1)\n",
        "    return self.mlp(ev_)\n",
        "\n",
        "\n",
        "\n",
        "def calculate_accuracy(model, dataloader, criterion, device):\n",
        "    \"\"\"Used on a set model to gain loss and accuracy, does not train\"\"\"\n",
        "    model.eval() # put in evaluation mode\n",
        "    total_correct = 0\n",
        "    total_images = 0\n",
        "    total_loss = 0\n",
        "    with torch.no_grad():\n",
        "        for data in dataloader: # Batch wise check\n",
        "            images, labels = data\n",
        "            images = images.to(device)\n",
        "            labels = labels.to(device)\n",
        "            outputs = model(images) # Run the images through the net\n",
        "            _, predicted = torch.max(outputs.data, 1) # Top  result\n",
        "            total_images += labels.size(0)\n",
        "            total_correct += (predicted == labels).sum().item()\n",
        "            total_loss += criterion(outputs, labels).data.item() / len(dataloader)\n",
        "\n",
        "    model_accuracy = total_correct / total_images * 100\n",
        "    return model_accuracy, total_loss\n",
        "\n",
        "\n",
        "def train(hp):\n",
        "  \n",
        "  model = hp[\"model\"].to(get_device())\n",
        "  criterion = nn.CrossEntropyLoss()\n",
        "  optimizer = torch.optim.Adam(model.parameters(), lr= hp['lr'])\n",
        "  ds_train, ds_test = hp['dataset']\n",
        "  ld_train = torch.utils.data.DataLoader(ds_train, batch_size=hp['bts'], shuffle=True)\n",
        "  ld_test = torch.utils.data.DataLoader(ds_test, batch_size=hp['bts'], shuffle=True)\n",
        "  device = get_device()\n",
        "\n",
        "    # training loop\n",
        "  train_error = []\n",
        "  test_error = []\n",
        "  for epoch in range(1, hp['epochs'] + 1):\n",
        "      model.train()  # put in training mode\n",
        "      running_loss = 0.0\n",
        "      epoch_time = time.time()\n",
        "      for i, data in enumerate(ld_train, 0):\n",
        "          # get the inputs\n",
        "          inputs, labels = data\n",
        "          # send them to device\n",
        "          inputs = inputs.to(device)\n",
        "          labels = labels.to(device)\n",
        "\n",
        "          # forward + backward + optimize\n",
        "          outputs = model(inputs)  # forward pass\n",
        "          loss = criterion(outputs, labels)  # calculate the loss\n",
        "          # always the same 3 steps\n",
        "          optimizer.zero_grad()  # zero the parameter gradients\n",
        "          loss.backward()  # backpropagation\n",
        "          optimizer.step()  # update parameters\n",
        "\n",
        "          # Add statistics\n",
        "          train_error.append(loss.data.item())\n",
        "          running_loss += loss.data.item()\n",
        "\n",
        "      # Advance in learning rate schedule\n",
        "      # Normalizing the loss by the total number of train batches\n",
        "      running_loss /= len(ld_train)\n",
        "\n",
        "      # Calculate training/test set accuracy of the existing model\n",
        "      train_accuracy, _= calculate_accuracy(model, ld_train, criterion, device)\n",
        "      test_accuracy, test_loss = calculate_accuracy(model, ld_test, criterion, device)\n",
        "      test_error.append(test_loss)\n",
        "      log = \"Epoch: {:2d} | Loss: {:.4f} | Training accuracy: {:.3f}% | Test accuracy: {:.3f}% | \".format(epoch, running_loss, train_accuracy, test_accuracy)\n",
        "      #train_error.append(running_loss)\n",
        "      epoch_time = time.time() - epoch_time\n",
        "      log += \"Epoch Time: {:.2f} secs\".format(epoch_time)\n",
        "      print(log)\n",
        "    \n",
        "  print('==> Finished Training ...')\n",
        "\n",
        "  # Graph test and train loss across iterations\n",
        "  batches = len(ld_train)\n",
        "  itr = list(range(hp['epochs'] * batches))\n",
        "  plt.plot(itr, train_error, 'r--', label='Train batch loss', linewidth=0.5)\n",
        "  itr = list(range(batches,(hp['epochs'] * len(ld_train)+batches), batches))\n",
        "  plt.plot(itr, test_error, color='g', label='Test Epoch loss', linewidth= 3)\n",
        "  plt.title('Loss')\n",
        "  plt.xlabel('Batch')\n",
        "  plt.ylim(0, max(train_error))\n",
        "  plt.ylabel('Loss')\n",
        "  plt.legend()\n",
        "  plt.show()\n",
        "\n",
        "  # save model\n",
        "  print('==> Saving model ...')\n",
        "  state = {\n",
        "      'net': model.state_dict(),\n",
        "      'epoch': epoch,\n",
        "  }\n",
        "  if not os.path.isdir('checkpoints'):\n",
        "      os.mkdir('checkpoints')\n",
        "  torch.save(state, './checkpoints/' + hp['name'] +'.pth')\n",
        "   "
      ],
      "metadata": {
        "id": "Wgw2EMQ3DBm_"
      },
      "execution_count": 23,
      "outputs": []
    },
    {
      "cell_type": "code",
      "source": [
        "def preprocess(dir, dir_new):\n",
        "  transform = get_transform(dir)\n",
        "  dataset = torchvision.datasets.DatasetFolder(root=dir, loader=torchvision.io.read_image, extensions='.png', transform=transform)\n",
        "  batch_aug(dataset, dir_new, get_class, batch_PCA, ds_img)\n",
        "\n",
        "def process(dir_train, dir_test , model, name):\n",
        "  transform = transforms.Compose([transforms.ToPILImage(), transforms.ToTensor()])\n",
        "  dataset = []\n",
        "  dataset.append(torchvision.datasets.DatasetFolder(root=dir_train, loader=read_mtx, extensions='.npy', transform=transform))\n",
        "  dataset.append(torchvision.datasets.DatasetFolder(root=dir_test, loader=read_mtx, extensions='.npy', transform=transform))\n",
        "\n",
        "  hyper_parameters = {\n",
        "      'model': model,\n",
        "      'lr': 1e-3,\n",
        "      'bts': 4,\n",
        "      'dataset': dataset,\n",
        "      'epochs': 12,\n",
        "      'name': name\n",
        "  }\n",
        "  train(hyper_parameters)\n",
        "\n",
        "\n"
      ],
      "metadata": {
        "id": "DGNsd8h-TBtE"
      },
      "execution_count": 24,
      "outputs": []
    },
    {
      "cell_type": "code",
      "source": [
        "dir = './data'\n",
        "aug_dir= './aug_data'\n",
        "preprocess(dir, aug_dir)\n",
        "process(aug_dir, aug_dir, MLPmodel(18816), \"MLP_test\")\n",
        "process(aug_dir, aug_dir, LinearReg(18816), \"LR_test\")"
      ],
      "metadata": {
        "colab": {
          "base_uri": "https://localhost:8080/",
          "height": 1000
        },
        "id": "nhaZI7tInWWk",
        "outputId": "aefa5f59-f91e-4070-8743-b9dead024317"
      },
      "execution_count": 25,
      "outputs": [
        {
          "output_type": "stream",
          "name": "stdout",
          "text": [
            "clc: [120 , torch.Size([3, 224, 224])]\n",
            "torch.Size([120, 3, 224, 224])\n",
            "torch.Size([120, 3, 224, 224])\n",
            "dim is : [2, 3]\n",
            "mean = tensor([0.4374, 0.4376, 0.4375])\n",
            "std = tensor([0.2818, 0.2818, 0.2819])\n",
            "data: [12 , 10 , torch.Size([3, 224, 224])]\n",
            "Batch PCA input size: torch.Size([10, 3, 224, 224])\n",
            "Eigen Vector size :torch.Size([8, 2352]) , with max: 0.06640833616256714\n",
            "Batch PCA input size: torch.Size([10, 3, 224, 224])\n",
            "Eigen Vector size :torch.Size([8, 2352]) , with max: 0.07180947810411453\n",
            "Batch PCA input size: torch.Size([10, 3, 224, 224])\n",
            "Eigen Vector size :torch.Size([8, 2352]) , with max: 0.0667317733168602\n",
            "Batch PCA input size: torch.Size([10, 3, 224, 224])\n",
            "Eigen Vector size :torch.Size([8, 2352]) , with max: 0.06613706052303314\n",
            "Batch PCA input size: torch.Size([10, 3, 224, 224])\n",
            "Eigen Vector size :torch.Size([8, 2352]) , with max: 0.07610095292329788\n",
            "Batch PCA input size: torch.Size([10, 3, 224, 224])\n",
            "Eigen Vector size :torch.Size([8, 2352]) , with max: 0.07111746072769165\n",
            "Batch PCA input size: torch.Size([10, 3, 224, 224])\n",
            "Eigen Vector size :torch.Size([8, 2352]) , with max: 0.06928355991840363\n",
            "Batch PCA input size: torch.Size([10, 3, 224, 224])\n",
            "Eigen Vector size :torch.Size([8, 2352]) , with max: 0.07123284786939621\n",
            "Batch PCA input size: torch.Size([10, 3, 224, 224])\n",
            "Eigen Vector size :torch.Size([8, 2352]) , with max: 0.06464438140392303\n",
            "Batch PCA input size: torch.Size([10, 3, 224, 224])\n",
            "Eigen Vector size :torch.Size([8, 2352]) , with max: 0.07427551597356796\n",
            "Batch PCA input size: torch.Size([10, 3, 224, 224])\n",
            "Eigen Vector size :torch.Size([8, 2352]) , with max: 0.07093434035778046\n",
            "Batch PCA input size: torch.Size([10, 3, 224, 224])\n",
            "Eigen Vector size :torch.Size([8, 2352]) , with max: 0.07376471906900406\n",
            "Epoch:  1 | Loss: 0.6930 | Training accuracy: 75.000% | Test accuracy: 83.333% | Epoch Time: 1.59 secs\n",
            "Epoch:  2 | Loss: 0.6455 | Training accuracy: 83.333% | Test accuracy: 100.000% | Epoch Time: 1.52 secs\n",
            "Epoch:  3 | Loss: 0.6470 | Training accuracy: 83.333% | Test accuracy: 83.333% | Epoch Time: 1.51 secs\n",
            "Epoch:  4 | Loss: 0.5610 | Training accuracy: 83.333% | Test accuracy: 100.000% | Epoch Time: 1.50 secs\n",
            "Epoch:  5 | Loss: 0.5585 | Training accuracy: 83.333% | Test accuracy: 75.000% | Epoch Time: 1.52 secs\n",
            "Epoch:  6 | Loss: 0.5627 | Training accuracy: 83.333% | Test accuracy: 75.000% | Epoch Time: 1.49 secs\n",
            "Epoch:  7 | Loss: 0.4894 | Training accuracy: 91.667% | Test accuracy: 75.000% | Epoch Time: 1.51 secs\n",
            "Epoch:  8 | Loss: 0.5592 | Training accuracy: 83.333% | Test accuracy: 100.000% | Epoch Time: 1.56 secs\n",
            "Epoch:  9 | Loss: 0.4893 | Training accuracy: 83.333% | Test accuracy: 83.333% | Epoch Time: 1.50 secs\n",
            "Epoch: 10 | Loss: 0.5586 | Training accuracy: 83.333% | Test accuracy: 100.000% | Epoch Time: 1.48 secs\n",
            "Epoch: 11 | Loss: 0.5583 | Training accuracy: 66.667% | Test accuracy: 83.333% | Epoch Time: 1.51 secs\n",
            "Epoch: 12 | Loss: 0.5523 | Training accuracy: 83.333% | Test accuracy: 83.333% | Epoch Time: 1.47 secs\n",
            "==> Finished Training ...\n"
          ]
        },
        {
          "output_type": "display_data",
          "data": {
            "image/png": "[encoded data removed]",
            "text/plain": [
              "<Figure size 432x288 with 1 Axes>"
            ]
          },
          "metadata": {
            "needs_background": "light"
          }
        },
        {
          "output_type": "stream",
          "name": "stdout",
          "text": [
            "==> Saving model ...\n",
            "Epoch:  1 | Loss: 0.6925 | Training accuracy: 66.667% | Test accuracy: 66.667% | Epoch Time: 0.03 secs\n",
            "Epoch:  2 | Loss: 0.6492 | Training accuracy: 100.000% | Test accuracy: 75.000% | Epoch Time: 0.04 secs\n",
            "Epoch:  3 | Loss: 0.6159 | Training accuracy: 83.333% | Test accuracy: 100.000% | Epoch Time: 0.03 secs\n",
            "Epoch:  4 | Loss: 0.6137 | Training accuracy: 75.000% | Test accuracy: 66.667% | Epoch Time: 0.03 secs\n",
            "Epoch:  5 | Loss: 0.6006 | Training accuracy: 100.000% | Test accuracy: 100.000% | Epoch Time: 0.03 secs\n",
            "Epoch:  6 | Loss: 0.5874 | Training accuracy: 83.333% | Test accuracy: 83.333% | Epoch Time: 0.04 secs\n",
            "Epoch:  7 | Loss: 0.5787 | Training accuracy: 100.000% | Test accuracy: 83.333% | Epoch Time: 0.04 secs\n",
            "Epoch:  8 | Loss: 0.5230 | Training accuracy: 75.000% | Test accuracy: 75.000% | Epoch Time: 0.03 secs\n",
            "Epoch:  9 | Loss: 0.5669 | Training accuracy: 75.000% | Test accuracy: 83.333% | Epoch Time: 0.03 secs\n",
            "Epoch: 10 | Loss: 0.5679 | Training accuracy: 75.000% | Test accuracy: 75.000% | Epoch Time: 0.03 secs\n",
            "Epoch: 11 | Loss: 0.5628 | Training accuracy: 100.000% | Test accuracy: 100.000% | Epoch Time: 0.03 secs\n",
            "Epoch: 12 | Loss: 0.5599 | Training accuracy: 75.000% | Test accuracy: 75.000% | Epoch Time: 0.03 secs\n",
            "==> Finished Training ...\n"
          ]
        },
        {
          "output_type": "display_data",
          "data": {
            "image/png": "[encoded data removed]",
            "text/plain": [
              "<Figure size 432x288 with 1 Axes>"
            ]
          },
          "metadata": {
            "needs_background": "light"
          }
        },
        {
          "output_type": "stream",
          "name": "stdout",
          "text": [
            "==> Saving model ...\n"
          ]
        }
      ]
    },
    {
      "cell_type": "code",
      "source": [
        ""
      ],
      "metadata": {
        "id": "hq76k7k4hyfy"
      },
      "execution_count": null,
      "outputs": []
    },
    {
      "cell_type": "code",
      "source": [
        ""
      ],
      "metadata": {
        "id": "CBbqkQ_-PRfa"
      },
      "execution_count": null,
      "outputs": []
    },
    {
      "cell_type": "code",
      "source": [
        "class patches_DataSet(torchvision.datasets.DatasetFolder):\n",
        "  def __init__(root='./data'):\n",
        "    super(torchvision.datasets.DatasetFolder, seld).init__(root=root, loader=torchvision.io.read_image, extensions='.png')\n",
        "\n",
        "  def find_classes(dir):\n",
        "    return None"
      ],
      "metadata": {
        "id": "5aqZoNEuQTRi"
      },
      "execution_count": null,
      "outputs": []
    }
  ],
  "metadata": {
    "kernelspec": {
      "display_name": "Python 3",
      "language": "python",
      "name": "python3"
    },
    "language_info": {
      "codemirror_mode": {
        "name": "ipython",
        "version": 3
      },
      "file_extension": ".py",
      "mimetype": "text/x-python",
      "name": "python",
      "nbconvert_exporter": "python",
      "pygments_lexer": "ipython3",
      "version": "3.6.9"
    },
    "colab": {
      "name": "Project_jupyter.ipynb",
      "provenance": []
    }
  },
  "nbformat": 4,
  "nbformat_minor": 0
}