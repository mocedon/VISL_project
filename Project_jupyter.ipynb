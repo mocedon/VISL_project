{
  "cells": [
    {
      "cell_type": "markdown",
      "source": [
        "Structure:\n",
        "\n",
        "- Get images\n",
        "  - Per patient\n",
        "  - Train\n",
        "  - Test\n",
        "-Run all images through feature detection\n",
        "-Take each patient, run PCA with k =?\n",
        "-Run MLP classifier / linear discriminator"
      ],
      "metadata": {
        "id": "hGa51nBR-3Xf"
      }
    },
    {
      "cell_type": "markdown",
      "source": [
        "# Imports and drive"
      ],
      "metadata": {
        "id": "c-Gxaaa6oZeG"
      }
    },
    {
      "cell_type": "code",
      "source": [
        "import os\n",
        "import shutil\n",
        "import numpy as np\n",
        "import pandas as pd\n",
        "#import kornia\n",
        "import torch\n",
        "import torch.nn as nn\n",
        "import torchvision\n",
        "import torchvision.models as models\n",
        "import torchvision.transforms as transforms\n",
        "import matplotlib.pyplot as plt\n",
        "import time\n",
        "import datetime\n",
        "import cv2\n",
        "\n",
        "import re\n",
        "import json \n",
        "import glob\n",
        "\n",
        "from torch.utils.data import Dataset, DataLoader\n",
        "\n",
        "from sklearn.decomposition import PCA, KernelPCA\n",
        "\n",
        "# %matplotlib notebook\n",
        "%matplotlib inline"
      ],
      "metadata": {
        "id": "hjYfD2Z1BMtV"
      },
      "execution_count": 1,
      "outputs": []
    },
    {
      "cell_type": "code",
      "source": [
        "# Connect to drive to save work\n",
        "from google.colab import drive\n",
        "drive.mount('/content/gdrive')\n",
        "%cd /content/gdrive/MyDrive/Proj_B\n",
        "#!git clone https://github.com/mocedon/VISL_project\n",
        "#!git pull\n",
        "%cd VISL_project"
      ],
      "metadata": {
        "id": "xWZR02PBun-1",
        "outputId": "0b8c7f80-62e5-4bee-fac0-514aeab5d57d",
        "colab": {
          "base_uri": "https://localhost:8080/"
        }
      },
      "execution_count": 2,
      "outputs": [
        {
          "output_type": "stream",
          "name": "stdout",
          "text": [
            "Mounted at /content/gdrive\n",
            "/content/gdrive/MyDrive/Proj_B\n",
            "/content/gdrive/MyDrive/Proj_B/VISL_project\n"
          ]
        }
      ]
    },
    {
      "cell_type": "markdown",
      "source": [
        "# Util Functions"
      ],
      "metadata": {
        "id": "h9IVl3Rdrk5U"
      }
    },
    {
      "cell_type": "code",
      "source": [
        "def ds_img(imgs):\n",
        "  \"\"\"ds_img(imgs) \n",
        "  takes the images and reduces the size\"\"\"\n",
        "  s = imgs.shape[-1] // 8\n",
        "  t = transforms.RandomCrop(s)\n",
        "  return t(imgs)"
      ],
      "metadata": {
        "id": "tULoXSwVAQpN"
      },
      "execution_count": 3,
      "outputs": []
    },
    {
      "cell_type": "code",
      "source": [
        "def get_device():\n",
        "  \"\"\"CPU or GPU\"\"\"\n",
        "  dev = \"cuda:0\" if torch.cuda.is_available() else \"cpu\"\n",
        "  device = torch.device(dev)\n",
        "  return device"
      ],
      "metadata": {
        "id": "DmE9FA8Grg3R"
      },
      "execution_count": 4,
      "outputs": []
    },
    {
      "cell_type": "code",
      "source": [
        "def parse_patches(fn ,id):\n",
        "  \"\"\"Parse tje filenames of patches in the database\"\"\"\n",
        "  dir, bn = os.path.split(fn)\n",
        "  patient = '-'.join(bn.split('-')[3:5])\n",
        "  dir, label = os.path.split(dir)\n",
        "  dir, ds = os.path.split(dir)\n",
        "  return {'id': id,\n",
        "          'file_name': fn,\n",
        "          'set': ds,\n",
        "          'label': label,\n",
        "          'patient': patient}"
      ],
      "metadata": {
        "id": "PKUYbyo3Df3k"
      },
      "execution_count": 5,
      "outputs": []
    },
    {
      "cell_type": "code",
      "source": [
        "def mkdir(dir_, dir):\n",
        "  \"\"\"Creeates directory if necessary and returns dir path\"\"\"\n",
        "  d = os.path.join(dir_,dir)\n",
        "  if not os.path.isdir(d):\n",
        "    os.mkdir(d)\n",
        "  return d"
      ],
      "metadata": {
        "id": "nKlyd25jVaan"
      },
      "execution_count": 6,
      "outputs": []
    },
    {
      "cell_type": "code",
      "source": [
        "def ds_data(dir, nd, n):\n",
        "  \"\"\"Create a subset of the original DS to a smaller one for debugging\"\"\"\n",
        "  nd = mkdir('./', nd)\n",
        "  for t in ['test', 'train']:\n",
        "    d = mkdir(nd, t)\n",
        "    for m in ['MSI', 'MSS']:\n",
        "      mkdir(d,m)\n",
        "      path = os.path.join(dir, t, m)\n",
        "      print(path)\n",
        "      for im in glob.glob(path + '/*.png')[:n]:\n",
        "        #print(im)\n",
        "        name = os.path.basename(dir)\n",
        "        repl = os.path.basename(nd)\n",
        "        np = im.replace(name, repl)\n",
        "        #print(np)\n",
        "        if not os.path.isfile(np):\n",
        "          shutil.copy(im, np)\n",
        "\n",
        "#ds_data('./../dataset', './../small_dataset', 10000)\n",
        "#ds_data('./../dataset', './../dataset_ds', 1000)"
      ],
      "metadata": {
        "id": "HAZO6Al6_Djz"
      },
      "execution_count": 7,
      "outputs": []
    },
    {
      "cell_type": "code",
      "source": [
        "def exp2(t):\n",
        "  \"\"\"None linear activation function for the PCA function\"\"\"\n",
        "  seq = nn.Sequential(nn.Softmax(dim=1),\n",
        "                      nn.Softmax(dim=1))\n",
        "  return seq(t)"
      ],
      "metadata": {
        "id": "qI3onD2xax_H"
      },
      "execution_count": 8,
      "outputs": []
    },
    {
      "cell_type": "markdown",
      "source": [
        "# Data manipulation"
      ],
      "metadata": {
        "id": "9LnLAM_sq0rC"
      }
    },
    {
      "cell_type": "markdown",
      "source": [
        "## DS Class"
      ],
      "metadata": {
        "id": "2XHqOXIVJhf7"
      }
    },
    {
      "cell_type": "code",
      "source": [
        "class PatchDataset(Dataset):\n",
        "  \"\"\"Dataset comprised from patient data and all of his patches\"\"\"\n",
        "  def __init__(self, dir, parse_fn=parse_patches, transform=None):\n",
        "    self.patch_list = []\n",
        "    for i, fn in enumerate(glob.glob(dir + \"/*/*/*.png\")):\n",
        "      self.patch_list.append(parse_fn(fn, i))\n",
        "    self.active_list = self.patch_list.copy()\n",
        "    self.patient_dict = None\n",
        "    self.transform = transform\n",
        "    print(\"found \"+str(len(self.patch_list)))\n",
        "\n",
        "  def set_filter(self, ds=None, lb=None, pt=None):\n",
        "    \"\"\"Get a choosen subset\"\"\"\n",
        "    if (ds):\n",
        "      self.active_list = [p for p in self.active_list if p['set'] == ds]\n",
        "    if (lb):\n",
        "      self.active_list = [p for p in self.active_list if p['label'] == lb]\n",
        "    if (pt):\n",
        "      self.active_list = [p for p in self.active_list if p['patient'] == pt]\n",
        "  \n",
        "  def reset_filter(self):\n",
        "    self.active_list = self.patch_list.copy()\n",
        "  \n",
        "  def get_sct(self, sect, num=False):\n",
        "    \"\"\"AUX function for filter by keys\"\"\"\n",
        "    l_ = [p[sect] for p in self.active_list]\n",
        "    l_dct = {}\n",
        "    for l in l_:\n",
        "      l_dct[l] = l_dct.get(l, 0) + 1\n",
        "    return l_dct.items() if num else l_dct.keys()\n",
        "\n",
        "  def get_patients(self, num=False):\n",
        "    \"\"\"Get spesific patient\"\"\"\n",
        "    return self.get_sct('patient', num)\n",
        "\n",
        "  def get_sets(self, num=False):\n",
        "    \"\"\"Compromise a train the test datasets\"\"\"\n",
        "    return self.get_sct('set', num)\n",
        "  \n",
        "  def get_labels(self, num=False):\n",
        "    \"\"\"Separate to MSI and MSS\"\"\"\n",
        "    return self.get_sct('label', num)\n",
        "  \n",
        "  def __len__(self):\n",
        "    return len(self.active_list)\n",
        "\n",
        "  def __getitem__(self, index):\n",
        "    fn = self.active_list[index][\"file_name\"]\n",
        "    lb = self.active_list[index]['label']\n",
        "    img = torchvision.io.read_image(fn)\n",
        "    if self.transform:\n",
        "      img = self.transform(img)\n",
        "    return (img, lb)"
      ],
      "metadata": {
        "id": "xcISDAO3AGnw"
      },
      "execution_count": 9,
      "outputs": []
    },
    {
      "cell_type": "markdown",
      "source": [
        "## Dimension reduction "
      ],
      "metadata": {
        "id": "q7AfgojaKAQS"
      }
    },
    {
      "cell_type": "code",
      "source": [
        "def add_vec(mat, vec):\n",
        "  print(\"shape mat\", mat.shape)\n",
        "  print(\"shape vec\", vec.shape)\n",
        "  return mat\n",
        "\n",
        "\n",
        "class batch_PCA():\n",
        "  \"\"\"Class that does the conversion from fature space to PCA data\"\"\"\n",
        "  def __init__(self, k=2, mean=False, eig_val=False, fnc=None):\n",
        "    self.k = k\n",
        "    self.mean = mean\n",
        "    self.eig_val = eig_val\n",
        "    self.fnc = fnc\n",
        "\n",
        "  def __call__(self, ftrs):\n",
        "    if self.fnc is not None: # Any function on the feature space vectors\n",
        "      ftrs = self.fnc(ftrs) \n",
        "    #print(\"Batch PCA input size: {}\".format(ftrs.shape))\n",
        "    p, f = ftrs.shape\n",
        "    if p < f: # In case number of patches is smaller than feature space\n",
        "      avg = torch.mean(ftrs, dim=0)\n",
        "      for i in range(int(p) - int(f)):\n",
        "        ftrs = torch.vstack((ftrs, avg)) # Stack the avg vector to keep the EV\n",
        "    ftrs = ftrs.detach().cpu().numpy()\n",
        "    #ftr_var = (ftrs.T @ ftrs).cpu().numpy()\n",
        "    PCA_comp = PCA(self.k, svd_solver='full').fit(ftrs) # PCA\n",
        "    eig_vec = torch.Tensor(PCA_comp.components_) # eigen vectors\n",
        "    if self.mean: # Add mean of features to the data\n",
        "      mean = torch.mean(torch.from_numpy(ftrs), dim=0)\n",
        "      eig_vec = torch.vstack((eig_vec, mean))\n",
        "    if self.eig_val: # Add the eigen valuse (currently support 2D features only)\n",
        "      eig_val = torch.from_numpy(PCA_comp.singular_values_)\n",
        "      eig_vec = torch.vstack((eig_vec, eig_val))\n",
        "    #print(\"Eigen Vector size :{} , with max: {}\".format(eig_vec.shape, eig_vec.max()))\n",
        "    return eig_vec\n",
        "\n"
      ],
      "metadata": {
        "id": "WQ5gJRu8-oF0"
      },
      "execution_count": 10,
      "outputs": []
    },
    {
      "cell_type": "code",
      "source": [
        "def incpt3_out2():\n",
        "  \"\"\"Incedption model with output 2\"\"\"\n",
        "  model = models.inception_v3(pretrained=True)\n",
        "  model.fc = nn.Sequential(nn.Linear(2048,100), nn.Linear(100,2))\n",
        "  weights = torch.load('./../results/2022_03_13__22_59_56/checkpoints/epoch_17.pth', map_location=torch.device('cpu'))\n",
        "  model.load_state_dict(weights['net'])\n",
        "  model.to(get_device())\n",
        "  model.eval()\n",
        "  return model\n",
        "\n",
        "\n",
        "def incpt3_out100():\n",
        "  \"\"\"Inception model with output 100\"\"\"\n",
        "  model = models.inception_v3(pretrained=True)\n",
        "  model.fc = nn.Sequential(nn.Linear(2048,100), nn.Linear(100,2))\n",
        "  weights = torch.load('./../results/2022_03_13__22_59_56/checkpoints/epoch_17.pth', map_location=torch.device('cpu'))\n",
        "  model.load_state_dict(weights['net'])\n",
        "  model.fc = model.fc[0]\n",
        "  model.to(get_device())\n",
        "  model.eval()\n",
        "  return model\n",
        "\n",
        "\n",
        "def patient_data(dir, nd, model_fnc, dr_fnc, trf=None):\n",
        "  \"\"\"Take the dataset per patient and create new DS according to \n",
        "  the dimension reduction function\"\"\"\n",
        "  model = model_fnc()\n",
        "  ds = PatchDataset(dir, transform=trf)\n",
        "  nd = mkdir('./', nd)\n",
        "  for t in ds.get_sets():\n",
        "    s = mkdir(nd, t)\n",
        "    for m in ds.get_labels():\n",
        "     d = mkdir(s, m)\n",
        "     ds.set_filter(ds=t, lb=m)\n",
        "     for p, sz in ds.get_patients(num=True):\n",
        "       print(\"Patient {} - of group {}-{} has {} patches\".format(p,t,m,sz))\n",
        "       ds.set_filter(ds=t, lb=m, pt=p)\n",
        "       fname = os.path.join(d, p + '.npy')\n",
        "       if (len(ds) >= 2) and not os.path.isfile(fname):\n",
        "        dr = dr_fnc(ds, model).cpu().numpy()\n",
        "        with open(fname, 'wb') as f:\n",
        "           np.save(f, dr)\n",
        "       ds.reset_filter()\n",
        "     ds.reset_filter()\n",
        "\n",
        "\n",
        "def patientRes(ds, model):\n",
        "  \"\"\"STach all patches model output\n",
        "  In case there are too many patches\"\"\"\n",
        "  bt_sz = 64\n",
        "  dl = torch.utils.data.DataLoader(ds, batch_size=bt_sz, shuffle=False, num_workers=4)\n",
        "  ftrs = None\n",
        "  with torch.no_grad():\n",
        "    for data in dl:\n",
        "      imgs = data[0].to(get_device())\n",
        "      ftr = model(imgs)\n",
        "      ftrs = torch.vstack((ftrs, ftr)) if ftrs is not None else ftr\n",
        "  return ftrs\n",
        "\n",
        "\n",
        "def read_mtx(path):\n",
        "  with open(path, 'rb') as f:\n",
        "    return np.load(f)"
      ],
      "metadata": {
        "id": "uc30a7QqwPc9"
      },
      "execution_count": 12,
      "outputs": []
    },
    {
      "cell_type": "markdown",
      "source": [
        "# ML Part"
      ],
      "metadata": {
        "id": "vBUT9hMun8Fn"
      }
    },
    {
      "cell_type": "code",
      "source": [
        "class MLPmodel(nn.Module):\n",
        "  \"\"\"Multilevel perceptron model\"\"\"\n",
        "  def __init__(self, input, fnc):\n",
        "    super(MLPmodel, self).__init__()\n",
        "    self.fnc = fnc\n",
        "    self.mlp = nn.Sequential(\n",
        "        nn.Linear(input, input * 2),\n",
        "        nn.ReLU(inplace=True),\n",
        "        nn.Linear(input*2, input),\n",
        "        nn.ReLU(inplace=True),\n",
        "        nn.Linear(input, 2), \n",
        "        nn.Softmax(dim=1))\n",
        "\n",
        "    \n",
        "  def forward(self, ev):\n",
        "    #print(\"ev\", ev)\n",
        "    ev = self.fnc(ev[0, 0]) # first chane the data to a data fitting the model (PCA)\n",
        "    #print(\"ev fnc\", ev)\n",
        "    ev = torch.flatten(ev)\n",
        "    ev_ = torch.Tensor(1, len(ev))\n",
        "    ev_[0] = ev\n",
        "    ev_ = self.mlp(ev_)\n",
        "    #print(\"result \", ev_)\n",
        "    return ev_\n",
        "\n",
        "\n",
        "class MLPmodel_2(nn.Module):\n",
        "  \"\"\"Muililevel perceptron model, lower chane for over fitting\"\"\"\n",
        "  def __init__(self, input, fnc):\n",
        "    super(MLPmodel_2, self).__init__()\n",
        "    self.fnc = fnc\n",
        "    self.mlp = nn.Sequential(\n",
        "        nn.Linear(input, input // 2),\n",
        "        nn.ReLU(inplace=True),\n",
        "        nn.Linear(input // 2, 2), \n",
        "        nn.Softmax(dim=1))\n",
        "\n",
        "    \n",
        "  def forward(self, ev):\n",
        "    #print(\"ev\", ev)\n",
        "    ev = self.fnc(ev[0, 0])\n",
        "    #print(\"ev fnc\", ev)\n",
        "    ev = torch.flatten(ev)\n",
        "    ev_ = torch.Tensor(1, len(ev))\n",
        "    ev_[0] = ev\n",
        "    ev_ = self.mlp(ev_)\n",
        "    #print(\"result \", ev_)\n",
        "    return ev_\n",
        "\n",
        "\n",
        "class MLPmodel_10(nn.Module):\n",
        "  \"\"\"Muililevel perceptron model, lower chane for over fitting\"\"\"\n",
        "  def __init__(self, input, fnc):\n",
        "    super(MLPmodel_10, self).__init__()\n",
        "    self.fnc = fnc\n",
        "    self.mlp = nn.Sequential(\n",
        "        nn.Linear(input, input // 10),\n",
        "        nn.ReLU(inplace=True),\n",
        "        nn.Linear(input // 10, 2), \n",
        "        nn.Softmax(dim=1))\n",
        "\n",
        "    \n",
        "  def forward(self, ev):\n",
        "    #print(\"ev\", ev)\n",
        "    ev = self.fnc(ev[0, 0])\n",
        "    #print(\"ev fnc\", ev)\n",
        "    ev = torch.flatten(ev)\n",
        "    ev_ = torch.Tensor(1, len(ev))\n",
        "    ev_[0] = ev\n",
        "    ev_ = self.mlp(ev_)\n",
        "    #print(\"result \", ev_)\n",
        "    return ev_"
      ],
      "metadata": {
        "id": "KRwgoPbuuZuI"
      },
      "execution_count": 25,
      "outputs": []
    },
    {
      "cell_type": "code",
      "source": [
        "class LinearReg(nn.Module):\n",
        "  \"\"\"Linear regression model\"\"\"\n",
        "  def __init__(self, input, fnc):\n",
        "    super(LinearReg, self).__init__()\n",
        "    self.fnc = fnc\n",
        "    self.mlp = nn.Sequential(\n",
        "        nn.Linear(input, 2, bias=True),\n",
        "        nn.Softmax(dim=1))\n",
        "\n",
        "  def forward(self, ev):\n",
        "    ev = self.fnc(ev[0, 0])\n",
        "    ev = torch.flatten(ev)\n",
        "    ev_ = torch.Tensor(1, len(ev))\n",
        "    ev_[0] = ev\n",
        "    ev_ = self.mlp(ev_)\n",
        "    print(\"result \", ev_)\n",
        "    return ev_"
      ],
      "metadata": {
        "id": "NHzukB5dg6dQ"
      },
      "execution_count": 18,
      "outputs": []
    },
    {
      "cell_type": "code",
      "source": [
        "class equalDataset(Dataset):\n",
        "  \"\"\"Dataset that has same rate of all labels\"\"\"\n",
        "  def __init__(self, dir, transform=None):\n",
        "    self.classes = {}\n",
        "    cl_lb = {}\n",
        "    glob_list = glob.glob(dir + \"/*/*.npy\")\n",
        "    for i, fn in enumerate(glob_list):\n",
        "      dir, bn = os.path.split(fn)\n",
        "      dir, label = os.path.split(dir)\n",
        "      if label not in cl_lb.keys():\n",
        "        cl_lb[label] = len(self.classes.keys())\n",
        "        self.classes[cl_lb[label]] = []\n",
        "      self.classes[cl_lb[label]].append({'pt': fn, 'id': i})\n",
        "    self.max_cl = max([len(p) for p in self.classes.values()])\n",
        "    self.transform = transform\n",
        "  \n",
        "  def __len__(self):\n",
        "    max_cl = self.max_cl\n",
        "    return max_cl * len(self.classes.keys()) # Each class has as many patches as the bigger class group\n",
        "\n",
        "  def __getitem__(self, index):\n",
        "    lb = index // self.max_cl\n",
        "    i = index % len(self.classes[lb])\n",
        "    fn = self.classes[lb][i][\"pt\"]\n",
        "    img = read_mtx(fn)\n",
        "    if self.transform:\n",
        "      img = self.transform(img)\n",
        "    return (img, lb)"
      ],
      "metadata": {
        "id": "QuLlWWMHHYrh"
      },
      "execution_count": 19,
      "outputs": []
    },
    {
      "cell_type": "markdown",
      "source": [
        "## Train\n",
        "The usual suspects"
      ],
      "metadata": {
        "id": "Q_pswhil1ogM"
      }
    },
    {
      "cell_type": "code",
      "source": [
        "def calculate_accuracy(model, dataloader, criterion, device):\n",
        "    \"\"\"Used on a set model to gain loss and accuracy, does not train\"\"\"\n",
        "    model.eval() # put in evaluation mode\n",
        "    total_correct = 0\n",
        "    total_images = 0\n",
        "    total_loss = 0\n",
        "    with torch.no_grad():\n",
        "        for data in dataloader: # Batch wise check\n",
        "            images, labels = data\n",
        "            images = images.to(device)\n",
        "            labels = labels.to(device)\n",
        "            outputs = model(images) # Run the images through the net\n",
        "            _, predicted = torch.max(outputs.data, 1) # Top  result\n",
        "            total_images += labels.size(0)\n",
        "            total_correct += (predicted == labels).sum().item()\n",
        "            total_loss += criterion(outputs, labels).data.item() / len(dataloader)\n",
        "\n",
        "    model_accuracy = total_correct / total_images * 100\n",
        "    return model_accuracy, total_loss\n",
        "\n",
        "\n",
        "def train(hp):\n",
        "  \n",
        "  model = hp[\"model\"].to(\"cpu\")\n",
        "  criterion = nn.CrossEntropyLoss()\n",
        "  optimizer = torch.optim.Adam(model.parameters(), lr= hp['lr'])\n",
        "  scheduler = torch.optim.lr_scheduler.StepLR(optimizer=optimizer, step_size=5, gamma=0.6)\n",
        "  ds_train, ds_test = hp['dataset']\n",
        "  ld_train = torch.utils.data.DataLoader(ds_train, batch_size=hp['bts'], shuffle=True)\n",
        "  ld_test = torch.utils.data.DataLoader(ds_test, batch_size=hp['bts'], shuffle=True)\n",
        "  device = torch.device(\"cpu\")\n",
        "\n",
        "    # training loop\n",
        "  train_error = []\n",
        "  test_error = []\n",
        "  for epoch in range(1, hp['epochs'] + 1):\n",
        "      model.train()  # put in training mode\n",
        "      running_loss = 0.0\n",
        "      epoch_time = time.time()\n",
        "      for i, data in enumerate(ld_train, 0):\n",
        "          # get the inputs\n",
        "          inputs, labels = data\n",
        "          # send them to device\n",
        "          inputs = inputs.to(device)\n",
        "          labels = labels.to(device)\n",
        "          #ref = torch.Tensor(1, 1)\n",
        "          #ref[0] = labels\n",
        "          #labels = ref\n",
        "\n",
        "          # forward + backward + optimize\n",
        "          outputs = model(inputs)  # forward pass\n",
        "          loss = criterion(outputs, labels)  # calculate the loss\n",
        "          # always the same 3 steps\n",
        "          optimizer.zero_grad()  # zero the parameter gradients\n",
        "          loss.backward()  # backpropagation\n",
        "          optimizer.step()  # update parameters\n",
        "\n",
        "          # Add statistics\n",
        "          train_error.append(loss.data.item())\n",
        "          running_loss += loss.data.item()\n",
        "\n",
        "      # Advance in learning rate schedule\n",
        "      # Normalizing the loss by the total number of train batches\n",
        "      running_loss /= len(ld_train)\n",
        "\n",
        "      # Calculate training/test set accuracy of the existing model\n",
        "      train_accuracy, _= calculate_accuracy(model, ld_train, criterion, device)\n",
        "      test_accuracy, test_loss = calculate_accuracy(model, ld_test, criterion, device)\n",
        "      test_error.append(test_loss)\n",
        "      log = \"Epoch: {:2d} | Loss: {:.4f} | Training accuracy: {:.3f}% | Test accuracy: {:.3f}% | \".format(epoch, running_loss, train_accuracy, test_accuracy)\n",
        "      scheduler.step()\n",
        "      #train_error.append(running_loss)\n",
        "      epoch_time = time.time() - epoch_time\n",
        "      log += \"Epoch Time: {:.2f} secs\".format(epoch_time)\n",
        "      print(log)\n",
        "    \n",
        "  print('==> Finished Training ...')\n",
        "\n",
        "  # Graph test and train loss across iterations\n",
        "  batches = len(ld_train)\n",
        "  itr = list(range(hp['epochs'] * batches))\n",
        "  plt.plot(itr, train_error, 'r--', label='Train batch loss', linewidth=0.5)\n",
        "  itr = list(range(batches,(hp['epochs'] * len(ld_train)+batches), batches))\n",
        "  plt.plot(itr, test_error, color='g', label='Test Epoch loss', linewidth= 3)\n",
        "  plt.title('Loss')\n",
        "  plt.xlabel('Batch')\n",
        "  plt.ylim(0, max(train_error))\n",
        "  plt.ylabel('Loss')\n",
        "  plt.legend()\n",
        "  plt.show()\n",
        "\n",
        "  # save model\n",
        "  print('==> Saving model ...')\n",
        "  state = {\n",
        "      'net': model.state_dict(),\n",
        "      'epoch': epoch,\n",
        "  }\n",
        "  if not os.path.isdir('checkpoints'):\n",
        "      os.mkdir('checkpoints')\n",
        "  torch.save(state, './checkpoints/' + hp['name'] +'.pth')\n",
        "   "
      ],
      "metadata": {
        "id": "Wgw2EMQ3DBm_"
      },
      "execution_count": 20,
      "outputs": []
    },
    {
      "cell_type": "code",
      "source": [
        "def process(dir_train, dir_test , model, name):\n",
        "  transform = transforms.Compose([transforms.ToTensor()])\n",
        "  dataset = []\n",
        "  dataset.append(equalDataset(dir=dir_train, transform=transform))\n",
        "  dataset.append(equalDataset(dir=dir_test, transform=transform))\n",
        "\n",
        "  hyper_parameters = {\n",
        "      'model': model,\n",
        "      'lr': 1e-4,\n",
        "      'bts': 1,\n",
        "      'dataset': dataset,\n",
        "      'epochs': 20,\n",
        "      'name': name\n",
        "  }\n",
        "  train(hyper_parameters)\n",
        "\n",
        "\n",
        "def exp_pca(ftrs):\n",
        "  return batch_PCA(torch.exp(ftrs))"
      ],
      "metadata": {
        "id": "DGNsd8h-TBtE"
      },
      "execution_count": 21,
      "outputs": []
    },
    {
      "cell_type": "markdown",
      "source": [
        "# Run Networks"
      ],
      "metadata": {
        "id": "LdmB6u0loBwR"
      }
    },
    {
      "cell_type": "markdown",
      "source": [
        "## Data stats"
      ],
      "metadata": {
        "id": "3aaFm_f2l3k4"
      }
    },
    {
      "cell_type": "code",
      "source": [
        "# Data histogram\n",
        "class rgb2hsv():\n",
        "    \"\"\"Convert images from RGB to HSV.\"\"\"\n",
        "    def __call__(self, image):\n",
        "        # swap color axis because\n",
        "        # torch image: C x H x W\n",
        "        # numpy image: H x W x C\n",
        "        image = image.cpu().numpy()\n",
        "        image = image.transpose((1, 2, 0))\n",
        "        hsv = cv2.cvtColor(image, cv2.COLOR_RGB2HSV)\n",
        "        hsv = hsv.transpose((2, 0, 1))\n",
        "        hsv = torch.from_numpy(hsv)\n",
        "        return hsv\n",
        "\n",
        "\n",
        "def patch_stat(ds):\n",
        "  dl = torch.utils.data.DataLoader(ds, batch_size=64, shuffle=False)\n",
        "  hist = torch.zeros(3,256)\n",
        "  for im, _ in dl:\n",
        "    for i in range(256):\n",
        "      for c in range(3):\n",
        "        hist[c][i] += torch.sum(im[0][c] == i)\n",
        "  norm = torch.sum(hist[0][:])\n",
        "  hist = hist / norm\n",
        "  plt.plot(range(256), hist[0][:], color='r')\n",
        "  plt.plot(range(256), hist[1][:], color='g')\n",
        "  plt.plot(range(256), hist[2][:], color='b')\n",
        "  #plt.show()\n",
        "  hist /= 3\n",
        "  ent = (-hist) * torch.log(hist + 0.0001)\n",
        "  ent = torch.sum(ent)\n",
        "  print(\"Data entropy is : {}\".format(ent))\n",
        "\n"
      ],
      "metadata": {
        "id": "OeJEgOYgMAhQ"
      },
      "execution_count": null,
      "outputs": []
    },
    {
      "cell_type": "code",
      "source": [
        "plt.figure(figsize=(16, 12))\n",
        "\n",
        "ds_hsv = PatchDataset('./../dataset_ds', transform=rgb2hsv())\n",
        "plt.subplot(321)\n",
        "patch_stat(ds_hsv)\n",
        "plt.title(\"HSV - all\")\n",
        "\n",
        "ds_hsv.set_filter(lb=\"MSI\")\n",
        "plt.subplot(323)\n",
        "patch_stat(ds_hsv)\n",
        "plt.title(\"HSV - MSI\")\n",
        "ds_hsv.reset_filter()\n",
        "\n",
        "ds_hsv.set_filter(lb=\"MSS\")\n",
        "plt.subplot(325)\n",
        "patch_stat(ds_hsv)\n",
        "plt.title(\"HSV - MSS\")\n",
        "\n",
        "\n",
        "ds_rgb = PatchDataset('./../dataset_ds')\n",
        "plt.subplot(322)\n",
        "patch_stat(ds_rgb)\n",
        "plt.title(\"RGB - all\")\n",
        "\n",
        "ds_rgb.set_filter(lb=\"MSI\")\n",
        "plt.subplot(324)\n",
        "patch_stat(ds_rgb)\n",
        "plt.title(\"RGB - MSI\")\n",
        "ds_rgb.reset_filter()\n",
        "\n",
        "ds_rgb.set_filter(lb=\"MSS\")\n",
        "plt.subplot(326)\n",
        "patch_stat(ds_rgb)\n",
        "plt.title(\"RGB - MSS\")"
      ],
      "metadata": {
        "id": "VkN0MKOcX3yg"
      },
      "execution_count": null,
      "outputs": []
    },
    {
      "cell_type": "code",
      "source": [
        "# Show feature space for a patient (2D)\n",
        "def show_res(dir):\n",
        "  ds = torchvision.datasets.DatasetFolder(root=dir, loader=read_mtx, extensions='.npy')\n",
        "  dl = torch.utils.data.DataLoader(ds, batch_size=1, shuffle=True)\n",
        "\n",
        "  for i, data in enumerate(dl):\n",
        "    if i < 1:\n",
        "      mat, lb = data\n",
        "      lb= int(lb.cpu())\n",
        "      mat = mat.numpy()[0]\n",
        "      ln = len(mat[:,0])\n",
        "      cl = 0 if lb == 0 else 90\n",
        "      cl = [cl + int(10*l/ln) for l in range(ln)]\n",
        "      plt.scatter(mat[:,0], mat[:,1])\n",
        "      plt.xlabel(\"MSI - feature score\")\n",
        "      plt.ylabel(\"MSS - feature score\")\n",
        "\n",
        "  plt.show()\n",
        "  \n",
        "show_res('../dataset_2d_res')"
      ],
      "metadata": {
        "id": "0XOtJPuHyN0O",
        "outputId": "ee97bea7-4d47-494d-aff8-f4a5dcf40a03",
        "colab": {
          "base_uri": "https://localhost:8080/",
          "height": 279
        }
      },
      "execution_count": null,
      "outputs": [
        {
          "output_type": "display_data",
          "data": {
            "text/plain": [
              "<Figure size 432x288 with 1 Axes>"
            ],
            "image/png": "[encoded data removed]"
          },
          "metadata": {
            "needs_background": "light"
          }
        }
      ]
    },
    {
      "cell_type": "markdown",
      "source": [
        "## runs"
      ],
      "metadata": {
        "id": "1xQLeTwFl60C"
      }
    },
    {
      "cell_type": "code",
      "source": [
        "# 2D feature space\n",
        "trf = transforms.Compose([transforms.ToPILImage(),\n",
        "                          transforms.ToTensor(),\n",
        "                          transforms.Normalize([0.485, 0.456, 0.406], [0.229, 0.224, 0.225])])\n",
        "patient_data('./../dataset', './../dataset_2d_res', incpt3_out2, patientRes, trf=trf)"
      ],
      "metadata": {
        "id": "U6uLbdNpMFk5"
      },
      "execution_count": null,
      "outputs": []
    },
    {
      "cell_type": "code",
      "source": [
        "# 100D feature space\n",
        "trf = transforms.Compose([transforms.ToPILImage(),\n",
        "                          transforms.ToTensor(),\n",
        "                          transforms.Normalize([0.485, 0.456, 0.406], [0.229, 0.224, 0.225])])\n",
        "patient_data('./../dataset', './../dataset_100d_res', incpt3_out100, patientRes, trf=trf)"
      ],
      "metadata": {
        "id": "5bjNG4Y1BTmA"
      },
      "execution_count": null,
      "outputs": []
    },
    {
      "cell_type": "code",
      "source": [
        "process('../dataset_2d_res/train', '../dataset_2d_res/test', MLPmodel(2, batch_PCA(k=1, mean=False, eig_val=False, fnc=exp2)), \"LR_test\")"
      ],
      "metadata": {
        "colab": {
          "base_uri": "https://localhost:8080/",
          "height": 677
        },
        "id": "gWPSlWJgAljl",
        "outputId": "b7b56fc7-1b4c-4ff1-9db5-cb358b9150b6"
      },
      "execution_count": null,
      "outputs": [
        {
          "output_type": "stream",
          "name": "stdout",
          "text": [
            "Epoch:  1 | Loss: 0.7010 | Training accuracy: 50.000% | Test accuracy: 50.000% | Epoch Time: 2.51 secs\n",
            "Epoch:  2 | Loss: 0.6975 | Training accuracy: 50.000% | Test accuracy: 50.000% | Epoch Time: 2.57 secs\n",
            "Epoch:  3 | Loss: 0.6958 | Training accuracy: 50.000% | Test accuracy: 50.000% | Epoch Time: 2.47 secs\n",
            "Epoch:  4 | Loss: 0.6948 | Training accuracy: 50.000% | Test accuracy: 50.000% | Epoch Time: 2.50 secs\n",
            "Epoch:  5 | Loss: 0.6942 | Training accuracy: 49.774% | Test accuracy: 52.027% | Epoch Time: 2.51 secs\n",
            "Epoch:  6 | Loss: 0.6938 | Training accuracy: 49.774% | Test accuracy: 52.027% | Epoch Time: 2.55 secs\n",
            "Epoch:  7 | Loss: 0.6936 | Training accuracy: 49.774% | Test accuracy: 52.027% | Epoch Time: 2.51 secs\n",
            "Epoch:  8 | Loss: 0.6937 | Training accuracy: 49.774% | Test accuracy: 52.027% | Epoch Time: 2.62 secs\n",
            "Epoch:  9 | Loss: 0.6936 | Training accuracy: 49.774% | Test accuracy: 52.027% | Epoch Time: 2.48 secs\n",
            "Epoch: 10 | Loss: 0.6935 | Training accuracy: 49.774% | Test accuracy: 52.027% | Epoch Time: 2.45 secs\n",
            "Epoch: 11 | Loss: 0.6935 | Training accuracy: 49.774% | Test accuracy: 52.027% | Epoch Time: 2.53 secs\n",
            "Epoch: 12 | Loss: 0.6935 | Training accuracy: 49.774% | Test accuracy: 52.027% | Epoch Time: 2.46 secs\n",
            "Epoch: 13 | Loss: 0.6934 | Training accuracy: 49.774% | Test accuracy: 52.027% | Epoch Time: 2.56 secs\n",
            "Epoch: 14 | Loss: 0.6934 | Training accuracy: 49.774% | Test accuracy: 52.027% | Epoch Time: 2.56 secs\n",
            "Epoch: 15 | Loss: 0.6934 | Training accuracy: 49.774% | Test accuracy: 52.027% | Epoch Time: 2.62 secs\n",
            "Epoch: 16 | Loss: 0.6934 | Training accuracy: 49.774% | Test accuracy: 52.027% | Epoch Time: 2.53 secs\n",
            "Epoch: 17 | Loss: 0.6934 | Training accuracy: 49.774% | Test accuracy: 52.027% | Epoch Time: 2.53 secs\n",
            "Epoch: 18 | Loss: 0.6933 | Training accuracy: 49.774% | Test accuracy: 52.027% | Epoch Time: 2.49 secs\n",
            "Epoch: 19 | Loss: 0.6934 | Training accuracy: 49.774% | Test accuracy: 52.027% | Epoch Time: 2.48 secs\n",
            "Epoch: 20 | Loss: 0.6933 | Training accuracy: 49.774% | Test accuracy: 52.027% | Epoch Time: 2.53 secs\n",
            "==> Finished Training ...\n"
          ]
        },
        {
          "output_type": "display_data",
          "data": {
            "text/plain": [
              "<Figure size 432x288 with 1 Axes>"
            ],
            "image/png": "[encoded data removed]"
          },
          "metadata": {
            "needs_background": "light"
          }
        },
        {
          "output_type": "stream",
          "name": "stdout",
          "text": [
            "==> Saving model ...\n"
          ]
        }
      ]
    },
    {
      "cell_type": "code",
      "source": [
        "process('../dataset_2d_res/train', '../dataset_2d_res/test', MLPmodel(4, batch_PCA(k=1, mean=True, eig_val=False, fnc=exp2)), \"LR_test\")"
      ],
      "metadata": {
        "id": "md61RXkMs9Zm"
      },
      "execution_count": null,
      "outputs": []
    },
    {
      "cell_type": "code",
      "source": [
        "process('../dataset_100d_res/train', '../dataset_100d_res/test', MLPmodel(100, batch_PCA(k=1, mean=False, eig_val=False, fnc=torch.exp)), \"100d_pca\")"
      ],
      "metadata": {
        "id": "BW1D-aHLtqWt",
        "outputId": "eac269ed-8884-40a5-f2a4-b5f81d1cdc81",
        "colab": {
          "base_uri": "https://localhost:8080/",
          "height": 693
        }
      },
      "execution_count": 22,
      "outputs": [
        {
          "output_type": "stream",
          "name": "stdout",
          "text": [
            "Epoch:  1 | Loss: 0.6942 | Training accuracy: 50.000% | Test accuracy: 50.000% | Epoch Time: 110.50 secs\n",
            "Epoch:  2 | Loss: 0.6933 | Training accuracy: 50.000% | Test accuracy: 50.000% | Epoch Time: 14.24 secs\n",
            "Epoch:  3 | Loss: 0.6925 | Training accuracy: 50.000% | Test accuracy: 50.000% | Epoch Time: 11.69 secs\n",
            "Epoch:  4 | Loss: 0.6921 | Training accuracy: 50.000% | Test accuracy: 50.000% | Epoch Time: 12.53 secs\n",
            "Epoch:  5 | Loss: 0.6911 | Training accuracy: 52.715% | Test accuracy: 58.108% | Epoch Time: 11.50 secs\n",
            "Epoch:  6 | Loss: 0.6896 | Training accuracy: 55.204% | Test accuracy: 54.054% | Epoch Time: 12.18 secs\n",
            "Epoch:  7 | Loss: 0.6886 | Training accuracy: 57.014% | Test accuracy: 54.730% | Epoch Time: 10.96 secs\n",
            "Epoch:  8 | Loss: 0.6878 | Training accuracy: 59.502% | Test accuracy: 50.000% | Epoch Time: 12.19 secs\n",
            "Epoch:  9 | Loss: 0.6870 | Training accuracy: 57.014% | Test accuracy: 47.973% | Epoch Time: 12.79 secs\n",
            "Epoch: 10 | Loss: 0.6855 | Training accuracy: 60.407% | Test accuracy: 52.027% | Epoch Time: 12.76 secs\n",
            "Epoch: 11 | Loss: 0.6847 | Training accuracy: 61.312% | Test accuracy: 49.324% | Epoch Time: 12.97 secs\n",
            "Epoch: 12 | Loss: 0.6840 | Training accuracy: 59.729% | Test accuracy: 48.649% | Epoch Time: 13.10 secs\n",
            "Epoch: 13 | Loss: 0.6834 | Training accuracy: 57.014% | Test accuracy: 47.973% | Epoch Time: 11.46 secs\n",
            "Epoch: 14 | Loss: 0.6827 | Training accuracy: 57.919% | Test accuracy: 47.973% | Epoch Time: 13.37 secs\n",
            "Epoch: 15 | Loss: 0.6821 | Training accuracy: 57.014% | Test accuracy: 47.973% | Epoch Time: 11.73 secs\n",
            "Epoch: 16 | Loss: 0.6812 | Training accuracy: 58.145% | Test accuracy: 47.973% | Epoch Time: 11.31 secs\n",
            "Epoch: 17 | Loss: 0.6809 | Training accuracy: 57.919% | Test accuracy: 47.973% | Epoch Time: 11.63 secs\n",
            "Epoch: 18 | Loss: 0.6805 | Training accuracy: 59.050% | Test accuracy: 47.973% | Epoch Time: 11.79 secs\n",
            "Epoch: 19 | Loss: 0.6801 | Training accuracy: 58.145% | Test accuracy: 47.973% | Epoch Time: 12.87 secs\n",
            "Epoch: 20 | Loss: 0.6796 | Training accuracy: 58.824% | Test accuracy: 47.973% | Epoch Time: 12.06 secs\n",
            "==> Finished Training ...\n"
          ]
        },
        {
          "output_type": "display_data",
          "data": {
            "text/plain": [
              "<Figure size 432x288 with 1 Axes>"
            ],
            "image/png": "[encoded data removed]"
          },
          "metadata": {
            "needs_background": "light"
          }
        },
        {
          "output_type": "stream",
          "name": "stdout",
          "text": [
            "==> Saving model ...\n"
          ]
        }
      ]
    },
    {
      "cell_type": "code",
      "source": [
        "process('../dataset_100d_res/train', '../dataset_100d_res/test', MLPmodel_2(100, batch_PCA(k=1, mean=False, eig_val=False, fnc=torch.exp)), \"100d_pca\")"
      ],
      "metadata": {
        "colab": {
          "base_uri": "https://localhost:8080/",
          "height": 693
        },
        "id": "XIe1r3Oot54A",
        "outputId": "d069ee2e-0ef3-4e4c-fe0f-dd64330f3ea6"
      },
      "execution_count": 23,
      "outputs": [
        {
          "output_type": "stream",
          "name": "stdout",
          "text": [
            "Epoch:  1 | Loss: 0.6928 | Training accuracy: 52.036% | Test accuracy: 54.730% | Epoch Time: 13.25 secs\n",
            "Epoch:  2 | Loss: 0.6925 | Training accuracy: 55.656% | Test accuracy: 56.757% | Epoch Time: 13.84 secs\n",
            "Epoch:  3 | Loss: 0.6923 | Training accuracy: 58.371% | Test accuracy: 54.730% | Epoch Time: 13.01 secs\n",
            "Epoch:  4 | Loss: 0.6920 | Training accuracy: 56.561% | Test accuracy: 52.703% | Epoch Time: 13.43 secs\n",
            "Epoch:  5 | Loss: 0.6919 | Training accuracy: 55.204% | Test accuracy: 53.378% | Epoch Time: 13.23 secs\n",
            "Epoch:  6 | Loss: 0.6916 | Training accuracy: 58.597% | Test accuracy: 47.973% | Epoch Time: 13.36 secs\n",
            "Epoch:  7 | Loss: 0.6915 | Training accuracy: 56.787% | Test accuracy: 46.622% | Epoch Time: 12.61 secs\n",
            "Epoch:  8 | Loss: 0.6913 | Training accuracy: 57.014% | Test accuracy: 46.622% | Epoch Time: 12.91 secs\n",
            "Epoch:  9 | Loss: 0.6911 | Training accuracy: 57.919% | Test accuracy: 47.973% | Epoch Time: 13.54 secs\n",
            "Epoch: 10 | Loss: 0.6910 | Training accuracy: 59.050% | Test accuracy: 47.973% | Epoch Time: 13.21 secs\n",
            "Epoch: 11 | Loss: 0.6908 | Training accuracy: 59.729% | Test accuracy: 47.973% | Epoch Time: 13.50 secs\n",
            "Epoch: 12 | Loss: 0.6907 | Training accuracy: 59.729% | Test accuracy: 47.973% | Epoch Time: 12.89 secs\n",
            "Epoch: 13 | Loss: 0.6906 | Training accuracy: 60.407% | Test accuracy: 48.649% | Epoch Time: 12.75 secs\n",
            "Epoch: 14 | Loss: 0.6905 | Training accuracy: 60.407% | Test accuracy: 48.649% | Epoch Time: 12.71 secs\n",
            "Epoch: 15 | Loss: 0.6904 | Training accuracy: 61.086% | Test accuracy: 49.324% | Epoch Time: 13.17 secs\n",
            "Epoch: 16 | Loss: 0.6903 | Training accuracy: 61.538% | Test accuracy: 49.324% | Epoch Time: 12.71 secs\n",
            "Epoch: 17 | Loss: 0.6903 | Training accuracy: 61.086% | Test accuracy: 49.324% | Epoch Time: 13.15 secs\n",
            "Epoch: 18 | Loss: 0.6902 | Training accuracy: 61.086% | Test accuracy: 49.324% | Epoch Time: 13.27 secs\n",
            "Epoch: 19 | Loss: 0.6901 | Training accuracy: 61.538% | Test accuracy: 49.324% | Epoch Time: 13.78 secs\n",
            "Epoch: 20 | Loss: 0.6901 | Training accuracy: 61.538% | Test accuracy: 49.324% | Epoch Time: 13.40 secs\n",
            "==> Finished Training ...\n"
          ]
        },
        {
          "output_type": "display_data",
          "data": {
            "text/plain": [
              "<Figure size 432x288 with 1 Axes>"
            ],
            "image/png": "[encoded data removed]"
          },
          "metadata": {
            "needs_background": "light"
          }
        },
        {
          "output_type": "stream",
          "name": "stdout",
          "text": [
            "==> Saving model ...\n"
          ]
        }
      ]
    },
    {
      "cell_type": "code",
      "source": [
        "process('../dataset_100d_res/train', '../dataset_100d_res/test', MLPmodel_10(200, batch_PCA(k=1, mean=True, eig_val=False, fnc=exp2)), \"100d_pca\")"
      ],
      "metadata": {
        "id": "FCIelEbHuAtW",
        "outputId": "dec43bc3-0389-494e-9724-698a68e08380",
        "colab": {
          "base_uri": "https://localhost:8080/",
          "height": 693
        }
      },
      "execution_count": 30,
      "outputs": [
        {
          "output_type": "stream",
          "name": "stdout",
          "text": [
            "Epoch:  1 | Loss: 0.7908 | Training accuracy: 50.679% | Test accuracy: 48.649% | Epoch Time: 12.71 secs\n",
            "Epoch:  2 | Loss: 0.8156 | Training accuracy: 49.548% | Test accuracy: 49.324% | Epoch Time: 13.05 secs\n",
            "Epoch:  3 | Loss: 0.8142 | Training accuracy: 50.000% | Test accuracy: 50.000% | Epoch Time: 13.12 secs\n",
            "Epoch:  4 | Loss: 0.8123 | Training accuracy: 50.000% | Test accuracy: 50.000% | Epoch Time: 13.27 secs\n",
            "Epoch:  5 | Loss: 0.8119 | Training accuracy: 50.000% | Test accuracy: 50.000% | Epoch Time: 13.78 secs\n",
            "Epoch:  6 | Loss: 0.8116 | Training accuracy: 50.000% | Test accuracy: 50.000% | Epoch Time: 12.53 secs\n",
            "Epoch:  7 | Loss: 0.8115 | Training accuracy: 50.000% | Test accuracy: 50.000% | Epoch Time: 13.22 secs\n",
            "Epoch:  8 | Loss: 0.8114 | Training accuracy: 50.000% | Test accuracy: 50.000% | Epoch Time: 13.21 secs\n",
            "Epoch:  9 | Loss: 0.8113 | Training accuracy: 50.000% | Test accuracy: 50.000% | Epoch Time: 12.85 secs\n",
            "Epoch: 10 | Loss: 0.8112 | Training accuracy: 50.000% | Test accuracy: 50.000% | Epoch Time: 17.64 secs\n",
            "Epoch: 11 | Loss: 0.8111 | Training accuracy: 50.000% | Test accuracy: 50.000% | Epoch Time: 13.33 secs\n",
            "Epoch: 12 | Loss: 0.8110 | Training accuracy: 50.000% | Test accuracy: 50.000% | Epoch Time: 13.68 secs\n",
            "Epoch: 13 | Loss: 0.8109 | Training accuracy: 50.000% | Test accuracy: 50.000% | Epoch Time: 12.80 secs\n",
            "Epoch: 14 | Loss: 0.8109 | Training accuracy: 50.000% | Test accuracy: 50.000% | Epoch Time: 12.71 secs\n",
            "Epoch: 15 | Loss: 0.8108 | Training accuracy: 50.000% | Test accuracy: 50.000% | Epoch Time: 12.89 secs\n",
            "Epoch: 16 | Loss: 0.8107 | Training accuracy: 50.000% | Test accuracy: 50.000% | Epoch Time: 11.75 secs\n",
            "Epoch: 17 | Loss: 0.8107 | Training accuracy: 50.000% | Test accuracy: 50.000% | Epoch Time: 13.79 secs\n",
            "Epoch: 18 | Loss: 0.8106 | Training accuracy: 50.000% | Test accuracy: 50.000% | Epoch Time: 13.74 secs\n",
            "Epoch: 19 | Loss: 0.8106 | Training accuracy: 50.000% | Test accuracy: 50.000% | Epoch Time: 13.06 secs\n",
            "Epoch: 20 | Loss: 0.8106 | Training accuracy: 50.000% | Test accuracy: 50.000% | Epoch Time: 14.50 secs\n",
            "==> Finished Training ...\n"
          ]
        },
        {
          "output_type": "display_data",
          "data": {
            "text/plain": [
              "<Figure size 432x288 with 1 Axes>"
            ],
            "image/png": "[encoded data removed]"
          },
          "metadata": {
            "needs_background": "light"
          }
        },
        {
          "output_type": "stream",
          "name": "stdout",
          "text": [
            "==> Saving model ...\n"
          ]
        }
      ]
    },
    {
      "cell_type": "code",
      "source": [
        "process('../dataset_100d_res/train', '../dataset_100d_res/test', MLPmodel(100, batch_PCA(k=1, mean=False, eig_val=False)), \"100d_pca\")"
      ],
      "metadata": {
        "colab": {
          "base_uri": "https://localhost:8080/",
          "height": 693
        },
        "id": "cmGdAMqj2C_Y",
        "outputId": "60f3cb2d-c624-4aef-8772-951bf0e557cc"
      },
      "execution_count": 27,
      "outputs": [
        {
          "output_type": "stream",
          "name": "stdout",
          "text": [
            "Epoch:  1 | Loss: 0.6937 | Training accuracy: 50.000% | Test accuracy: 50.000% | Epoch Time: 13.44 secs\n",
            "Epoch:  2 | Loss: 0.6938 | Training accuracy: 50.000% | Test accuracy: 50.000% | Epoch Time: 12.90 secs\n",
            "Epoch:  3 | Loss: 0.6936 | Training accuracy: 50.000% | Test accuracy: 50.000% | Epoch Time: 13.93 secs\n",
            "Epoch:  4 | Loss: 0.6935 | Training accuracy: 50.000% | Test accuracy: 50.000% | Epoch Time: 12.09 secs\n",
            "Epoch:  5 | Loss: 0.6935 | Training accuracy: 50.905% | Test accuracy: 50.000% | Epoch Time: 12.16 secs\n",
            "Epoch:  6 | Loss: 0.6933 | Training accuracy: 50.905% | Test accuracy: 50.000% | Epoch Time: 13.90 secs\n",
            "Epoch:  7 | Loss: 0.6932 | Training accuracy: 50.905% | Test accuracy: 50.000% | Epoch Time: 14.17 secs\n",
            "Epoch:  8 | Loss: 0.6933 | Training accuracy: 50.905% | Test accuracy: 50.000% | Epoch Time: 13.24 secs\n",
            "Epoch:  9 | Loss: 0.6933 | Training accuracy: 50.905% | Test accuracy: 50.000% | Epoch Time: 12.36 secs\n",
            "Epoch: 10 | Loss: 0.6932 | Training accuracy: 50.905% | Test accuracy: 50.000% | Epoch Time: 12.56 secs\n",
            "Epoch: 11 | Loss: 0.6932 | Training accuracy: 50.905% | Test accuracy: 50.000% | Epoch Time: 12.89 secs\n",
            "Epoch: 12 | Loss: 0.6931 | Training accuracy: 50.905% | Test accuracy: 50.000% | Epoch Time: 12.58 secs\n",
            "Epoch: 13 | Loss: 0.6931 | Training accuracy: 50.905% | Test accuracy: 50.000% | Epoch Time: 12.81 secs\n",
            "Epoch: 14 | Loss: 0.6932 | Training accuracy: 50.905% | Test accuracy: 50.000% | Epoch Time: 13.24 secs\n",
            "Epoch: 15 | Loss: 0.6931 | Training accuracy: 50.905% | Test accuracy: 50.000% | Epoch Time: 12.83 secs\n",
            "Epoch: 16 | Loss: 0.6931 | Training accuracy: 50.905% | Test accuracy: 50.000% | Epoch Time: 13.08 secs\n",
            "Epoch: 17 | Loss: 0.6931 | Training accuracy: 50.905% | Test accuracy: 50.000% | Epoch Time: 13.86 secs\n",
            "Epoch: 18 | Loss: 0.6931 | Training accuracy: 50.905% | Test accuracy: 50.000% | Epoch Time: 14.41 secs\n",
            "Epoch: 19 | Loss: 0.6931 | Training accuracy: 50.905% | Test accuracy: 50.000% | Epoch Time: 14.09 secs\n",
            "Epoch: 20 | Loss: 0.6931 | Training accuracy: 50.905% | Test accuracy: 50.000% | Epoch Time: 13.68 secs\n",
            "==> Finished Training ...\n"
          ]
        },
        {
          "output_type": "display_data",
          "data": {
            "text/plain": [
              "<Figure size 432x288 with 1 Axes>"
            ],
            "image/png": "[encoded data removed]"
          },
          "metadata": {
            "needs_background": "light"
          }
        },
        {
          "output_type": "stream",
          "name": "stdout",
          "text": [
            "==> Saving model ...\n"
          ]
        }
      ]
    },
    {
      "cell_type": "code",
      "source": [
        "process('../dataset_100d_res/train', '../dataset_100d_res/test', MLPmodel_2(100, batch_PCA(k=1, mean=False, eig_val=False)), \"100d_pca\")"
      ],
      "metadata": {
        "colab": {
          "base_uri": "https://localhost:8080/",
          "height": 693
        },
        "id": "a8pnTkuH2F1O",
        "outputId": "5849c823-61a5-4fec-ac40-c0e49ed14d02"
      },
      "execution_count": 28,
      "outputs": [
        {
          "output_type": "stream",
          "name": "stdout",
          "text": [
            "Epoch:  1 | Loss: 0.6948 | Training accuracy: 50.000% | Test accuracy: 50.000% | Epoch Time: 14.06 secs\n",
            "Epoch:  2 | Loss: 0.6943 | Training accuracy: 50.000% | Test accuracy: 50.000% | Epoch Time: 13.55 secs\n",
            "Epoch:  3 | Loss: 0.6942 | Training accuracy: 50.000% | Test accuracy: 50.000% | Epoch Time: 14.66 secs\n",
            "Epoch:  4 | Loss: 0.6939 | Training accuracy: 50.000% | Test accuracy: 50.000% | Epoch Time: 14.27 secs\n",
            "Epoch:  5 | Loss: 0.6937 | Training accuracy: 50.000% | Test accuracy: 50.000% | Epoch Time: 14.51 secs\n",
            "Epoch:  6 | Loss: 0.6935 | Training accuracy: 50.000% | Test accuracy: 50.000% | Epoch Time: 14.09 secs\n",
            "Epoch:  7 | Loss: 0.6934 | Training accuracy: 50.000% | Test accuracy: 50.000% | Epoch Time: 14.24 secs\n",
            "Epoch:  8 | Loss: 0.6934 | Training accuracy: 50.000% | Test accuracy: 50.000% | Epoch Time: 13.67 secs\n",
            "Epoch:  9 | Loss: 0.6934 | Training accuracy: 50.000% | Test accuracy: 50.000% | Epoch Time: 13.27 secs\n",
            "Epoch: 10 | Loss: 0.6933 | Training accuracy: 50.000% | Test accuracy: 50.000% | Epoch Time: 13.62 secs\n",
            "Epoch: 11 | Loss: 0.6932 | Training accuracy: 50.000% | Test accuracy: 50.000% | Epoch Time: 13.73 secs\n",
            "Epoch: 12 | Loss: 0.6932 | Training accuracy: 50.000% | Test accuracy: 50.000% | Epoch Time: 14.92 secs\n",
            "Epoch: 13 | Loss: 0.6932 | Training accuracy: 50.000% | Test accuracy: 50.000% | Epoch Time: 14.37 secs\n",
            "Epoch: 14 | Loss: 0.6932 | Training accuracy: 50.000% | Test accuracy: 50.000% | Epoch Time: 13.68 secs\n",
            "Epoch: 15 | Loss: 0.6932 | Training accuracy: 50.000% | Test accuracy: 50.000% | Epoch Time: 14.73 secs\n",
            "Epoch: 16 | Loss: 0.6931 | Training accuracy: 50.000% | Test accuracy: 50.000% | Epoch Time: 14.09 secs\n",
            "Epoch: 17 | Loss: 0.6931 | Training accuracy: 50.226% | Test accuracy: 50.000% | Epoch Time: 13.68 secs\n",
            "Epoch: 18 | Loss: 0.6931 | Training accuracy: 49.095% | Test accuracy: 50.000% | Epoch Time: 13.76 secs\n",
            "Epoch: 19 | Loss: 0.6931 | Training accuracy: 54.299% | Test accuracy: 49.324% | Epoch Time: 13.48 secs\n",
            "Epoch: 20 | Loss: 0.6931 | Training accuracy: 51.357% | Test accuracy: 49.324% | Epoch Time: 13.55 secs\n",
            "==> Finished Training ...\n"
          ]
        },
        {
          "output_type": "display_data",
          "data": {
            "text/plain": [
              "<Figure size 432x288 with 1 Axes>"
            ],
            "image/png": "[encoded data removed]"
          },
          "metadata": {
            "needs_background": "light"
          }
        },
        {
          "output_type": "stream",
          "name": "stdout",
          "text": [
            "==> Saving model ...\n"
          ]
        }
      ]
    },
    {
      "cell_type": "code",
      "source": [
        "process('../dataset_100d_res/train', '../dataset_100d_res/test', MLPmodel_10(100, batch_PCA(k=1, mean=False, eig_val=False)), \"100d_pca\")"
      ],
      "metadata": {
        "id": "n8loaF3xw_jC",
        "outputId": "3524a09e-a723-43e1-be17-75f51319f61c",
        "colab": {
          "base_uri": "https://localhost:8080/",
          "height": 693
        }
      },
      "execution_count": 29,
      "outputs": [
        {
          "output_type": "stream",
          "name": "stdout",
          "text": [
            "Epoch:  1 | Loss: 0.6941 | Training accuracy: 50.000% | Test accuracy: 50.000% | Epoch Time: 13.78 secs\n",
            "Epoch:  2 | Loss: 0.6940 | Training accuracy: 50.000% | Test accuracy: 50.000% | Epoch Time: 13.12 secs\n",
            "Epoch:  3 | Loss: 0.6940 | Training accuracy: 50.000% | Test accuracy: 50.000% | Epoch Time: 13.76 secs\n",
            "Epoch:  4 | Loss: 0.6939 | Training accuracy: 50.000% | Test accuracy: 50.000% | Epoch Time: 14.28 secs\n",
            "Epoch:  5 | Loss: 0.6939 | Training accuracy: 50.000% | Test accuracy: 50.000% | Epoch Time: 14.33 secs\n",
            "Epoch:  6 | Loss: 0.6937 | Training accuracy: 50.000% | Test accuracy: 50.000% | Epoch Time: 13.91 secs\n",
            "Epoch:  7 | Loss: 0.6937 | Training accuracy: 50.000% | Test accuracy: 50.000% | Epoch Time: 14.06 secs\n",
            "Epoch:  8 | Loss: 0.6937 | Training accuracy: 50.000% | Test accuracy: 50.000% | Epoch Time: 13.51 secs\n",
            "Epoch:  9 | Loss: 0.6937 | Training accuracy: 50.000% | Test accuracy: 50.000% | Epoch Time: 13.87 secs\n",
            "Epoch: 10 | Loss: 0.6936 | Training accuracy: 50.000% | Test accuracy: 50.000% | Epoch Time: 12.76 secs\n",
            "Epoch: 11 | Loss: 0.6936 | Training accuracy: 50.000% | Test accuracy: 50.000% | Epoch Time: 13.64 secs\n",
            "Epoch: 12 | Loss: 0.6936 | Training accuracy: 50.000% | Test accuracy: 50.000% | Epoch Time: 13.52 secs\n",
            "Epoch: 13 | Loss: 0.6936 | Training accuracy: 50.000% | Test accuracy: 50.000% | Epoch Time: 13.85 secs\n",
            "Epoch: 14 | Loss: 0.6936 | Training accuracy: 50.000% | Test accuracy: 50.000% | Epoch Time: 13.76 secs\n",
            "Epoch: 15 | Loss: 0.6935 | Training accuracy: 50.000% | Test accuracy: 50.000% | Epoch Time: 13.71 secs\n",
            "Epoch: 16 | Loss: 0.6935 | Training accuracy: 50.000% | Test accuracy: 50.000% | Epoch Time: 13.78 secs\n",
            "Epoch: 17 | Loss: 0.6935 | Training accuracy: 50.000% | Test accuracy: 50.000% | Epoch Time: 13.75 secs\n",
            "Epoch: 18 | Loss: 0.6935 | Training accuracy: 50.000% | Test accuracy: 50.000% | Epoch Time: 14.67 secs\n",
            "Epoch: 19 | Loss: 0.6935 | Training accuracy: 50.000% | Test accuracy: 50.000% | Epoch Time: 14.09 secs\n",
            "Epoch: 20 | Loss: 0.6935 | Training accuracy: 50.000% | Test accuracy: 50.000% | Epoch Time: 13.64 secs\n",
            "==> Finished Training ...\n"
          ]
        },
        {
          "output_type": "display_data",
          "data": {
            "text/plain": [
              "<Figure size 432x288 with 1 Axes>"
            ],
            "image/png": "[encoded data removed]"
          },
          "metadata": {
            "needs_background": "light"
          }
        },
        {
          "output_type": "stream",
          "name": "stdout",
          "text": [
            "==> Saving model ...\n"
          ]
        }
      ]
    },
    {
      "cell_type": "code",
      "source": [
        "process('../dataset_100d_res/train', '../dataset_100d_res/test', MLPmodel(200, batch_PCA(k=2, mean=False, eig_val=False, fnc=torch.exp)), \"100d_pca\")"
      ],
      "metadata": {
        "id": "9VHqTfgW2CjO"
      },
      "execution_count": null,
      "outputs": []
    },
    {
      "cell_type": "code",
      "source": [
        "process('../dataset_100d_res/train', '../dataset_100d_res/test', MLPmodel_2(200, batch_PCA(k=2, mean=False, eig_val=False, fnc=torch.exp)), \"100d_pca\")"
      ],
      "metadata": {
        "id": "rQAAoWR0zi2f"
      },
      "execution_count": null,
      "outputs": []
    },
    {
      "cell_type": "code",
      "source": [
        "process('../dataset_100d_res/train', '../dataset_100d_res/test', MLPmodel_2(200, batch_PCA(k=1, mean=True, eig_val=False, fnc=torch.exp)), \"100d_pca\")"
      ],
      "metadata": {
        "colab": {
          "base_uri": "https://localhost:8080/",
          "height": 677
        },
        "id": "LQJDGJ1J97FF",
        "outputId": "908f6c06-7e84-4093-a74d-3ff5b2fe245c"
      },
      "execution_count": null,
      "outputs": [
        {
          "output_type": "stream",
          "name": "stdout",
          "text": [
            "Epoch:  1 | Loss: 0.8050 | Training accuracy: 51.131% | Test accuracy: 50.000% | Epoch Time: 14.26 secs\n",
            "Epoch:  2 | Loss: 0.8000 | Training accuracy: 51.131% | Test accuracy: 50.000% | Epoch Time: 15.19 secs\n",
            "Epoch:  3 | Loss: 0.7994 | Training accuracy: 51.131% | Test accuracy: 50.000% | Epoch Time: 13.83 secs\n",
            "Epoch:  4 | Loss: 0.8097 | Training accuracy: 50.000% | Test accuracy: 50.000% | Epoch Time: 14.01 secs\n",
            "Epoch:  5 | Loss: 0.8104 | Training accuracy: 50.000% | Test accuracy: 50.000% | Epoch Time: 13.90 secs\n",
            "Epoch:  6 | Loss: 0.8094 | Training accuracy: 49.774% | Test accuracy: 50.000% | Epoch Time: 13.62 secs\n",
            "Epoch:  7 | Loss: 0.8088 | Training accuracy: 51.131% | Test accuracy: 50.000% | Epoch Time: 14.36 secs\n",
            "Epoch:  8 | Loss: 0.8087 | Training accuracy: 50.905% | Test accuracy: 50.000% | Epoch Time: 13.24 secs\n",
            "Epoch:  9 | Loss: 0.8084 | Training accuracy: 51.131% | Test accuracy: 50.000% | Epoch Time: 14.32 secs\n",
            "Epoch: 10 | Loss: 0.8084 | Training accuracy: 50.679% | Test accuracy: 50.000% | Epoch Time: 14.13 secs\n",
            "Epoch: 11 | Loss: 0.8081 | Training accuracy: 50.905% | Test accuracy: 50.000% | Epoch Time: 13.11 secs\n",
            "Epoch: 12 | Loss: 0.8078 | Training accuracy: 51.131% | Test accuracy: 50.000% | Epoch Time: 13.01 secs\n",
            "Epoch: 13 | Loss: 0.8081 | Training accuracy: 51.131% | Test accuracy: 50.000% | Epoch Time: 13.91 secs\n",
            "Epoch: 14 | Loss: 0.8078 | Training accuracy: 51.131% | Test accuracy: 50.000% | Epoch Time: 14.01 secs\n",
            "Epoch: 15 | Loss: 0.8076 | Training accuracy: 50.905% | Test accuracy: 50.000% | Epoch Time: 13.66 secs\n",
            "Epoch: 16 | Loss: 0.8075 | Training accuracy: 51.131% | Test accuracy: 50.000% | Epoch Time: 14.43 secs\n",
            "Epoch: 17 | Loss: 0.8075 | Training accuracy: 51.131% | Test accuracy: 50.000% | Epoch Time: 13.87 secs\n",
            "Epoch: 18 | Loss: 0.8075 | Training accuracy: 51.131% | Test accuracy: 50.000% | Epoch Time: 14.80 secs\n",
            "Epoch: 19 | Loss: 0.8074 | Training accuracy: 51.131% | Test accuracy: 50.000% | Epoch Time: 13.01 secs\n",
            "Epoch: 20 | Loss: 0.8073 | Training accuracy: 51.131% | Test accuracy: 50.000% | Epoch Time: 13.96 secs\n",
            "==> Finished Training ...\n"
          ]
        },
        {
          "output_type": "display_data",
          "data": {
            "text/plain": [
              "<Figure size 432x288 with 1 Axes>"
            ],
            "image/png": "[encoded data removed]"
          },
          "metadata": {
            "needs_background": "light"
          }
        },
        {
          "output_type": "stream",
          "name": "stdout",
          "text": [
            "==> Saving model ...\n"
          ]
        }
      ]
    },
    {
      "cell_type": "markdown",
      "source": [
        "# Grave yard"
      ],
      "metadata": {
        "id": "xg44H4J-Um71"
      }
    },
    {
      "cell_type": "code",
      "source": [
        "class vgg16_features(nn.Module):\n",
        "  def __init__(self):\n",
        "    super(vgg16_features, self).__init__()\n",
        "    self.m = torchvision.models.vgg16(pretrained=True)\n",
        "\n",
        "  def forward(self, imgs):\n",
        "    ftrs = self.m.features(imgs)\n",
        "    return torch.max(ftrs, dim=1).values\n",
        "    "
      ],
      "metadata": {
        "id": "La5H9qOey8Vs"
      },
      "execution_count": null,
      "outputs": []
    },
    {
      "cell_type": "code",
      "source": [
        "class AutoEncoder(nn.Module):\n",
        "\n",
        "  def __init__(self, head, rest):\n",
        "    super(AutoEncoder, self).__init__()\n",
        "    self.encode = head\n",
        "    self.decode = rest\n",
        "  \n",
        "  def forward(self, imgs):\n",
        "    x = self.encode(imgs)\n",
        "    return self.decode(x)\n",
        "\n",
        "  def feature_ext(self, imgs):\n",
        "    return self.encode(imgs)"
      ],
      "metadata": {
        "id": "8ReMGN_XAxsF"
      },
      "execution_count": null,
      "outputs": []
    },
    {
      "cell_type": "code",
      "source": [
        "class patches_DataSet(torchvision.datasets.DatasetFolder):\n",
        "  def __init__(self, root='./data'):\n",
        "    super(torchvision.datasets.DatasetFolder, self).init__(root=root, loader=torchvision.io.read_image, extensions='.png')\n",
        "\n",
        "  def find_classes(dir):\n",
        "    return None"
      ],
      "metadata": {
        "id": "5aqZoNEuQTRi"
      },
      "execution_count": null,
      "outputs": []
    },
    {
      "cell_type": "code",
      "source": [
        "def get_class(ds, dir):\n",
        "  cls = ds.find_classes(dir)[0]\n",
        "  ret = []\n",
        "  for c in cls:\n",
        "    case = c[-1]\n",
        "    ret.append(case)\n",
        "  return ret"
      ],
      "metadata": {
        "id": "zLBpwMzK0AC0"
      },
      "execution_count": null,
      "outputs": []
    }
  ],
  "metadata": {
    "kernelspec": {
      "display_name": "Python 3",
      "language": "python",
      "name": "python3"
    },
    "language_info": {
      "codemirror_mode": {
        "name": "ipython",
        "version": 3
      },
      "file_extension": ".py",
      "mimetype": "text/x-python",
      "name": "python",
      "nbconvert_exporter": "python",
      "pygments_lexer": "ipython3",
      "version": "3.6.9"
    },
    "colab": {
      "name": "Project_jupyter.ipynb",
      "provenance": [],
      "machine_shape": "hm"
    },
    "accelerator": "GPU"
  },
  "nbformat": 4,
  "nbformat_minor": 0
}