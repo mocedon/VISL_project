{
  "cells": [
    {
      "cell_type": "markdown",
      "source": [
        "Structure:\n",
        "\n",
        "- Get images\n",
        "  - Per patient\n",
        "  - Train\n",
        "  - Test\n",
        "-Run all images through feature detection\n",
        "-Take each patient, run PCA with k =?\n",
        "-Run MLP classifier / linear discriminator"
      ],
      "metadata": {
        "id": "hGa51nBR-3Xf"
      }
    },
    {
      "cell_type": "markdown",
      "source": [
        "# Imports and drive"
      ],
      "metadata": {
        "id": "c-Gxaaa6oZeG"
      }
    },
    {
      "cell_type": "code",
      "source": [
        "import os\n",
        "import shutil\n",
        "import numpy as np\n",
        "import pandas as pd\n",
        "#import kornia\n",
        "import torch\n",
        "import torch.nn as nn\n",
        "import torchvision\n",
        "import torchvision.models as models\n",
        "import torchvision.transforms as transforms\n",
        "import matplotlib.pyplot as plt\n",
        "import time\n",
        "import datetime\n",
        "import cv2\n",
        "\n",
        "import re\n",
        "import json \n",
        "import glob\n",
        "\n",
        "from torch.utils.data import Dataset, DataLoader\n",
        "\n",
        "from sklearn.decomposition import PCA, KernelPCA\n",
        "\n",
        "# %matplotlib notebook\n",
        "%matplotlib inline"
      ],
      "metadata": {
        "id": "hjYfD2Z1BMtV"
      },
      "execution_count": 1,
      "outputs": []
    },
    {
      "cell_type": "code",
      "source": [
        "# Connect to drive to save work\n",
        "from google.colab import drive\n",
        "drive.mount('/content/gdrive')\n",
        "%cd /content/gdrive/MyDrive/Proj_B\n",
        "#!git clone https://github.com/mocedon/VISL_project\n",
        "#!git pull\n",
        "%cd VISL_project"
      ],
      "metadata": {
        "id": "xWZR02PBun-1",
        "outputId": "e897dcfd-d054-4f0d-ae41-0753aff3e6d3",
        "colab": {
          "base_uri": "https://localhost:8080/"
        }
      },
      "execution_count": 2,
      "outputs": [
        {
          "output_type": "stream",
          "name": "stdout",
          "text": [
            "Mounted at /content/gdrive\n",
            "/content/gdrive/MyDrive/Proj_B\n",
            "/content/gdrive/MyDrive/Proj_B/VISL_project\n"
          ]
        }
      ]
    },
    {
      "cell_type": "markdown",
      "source": [
        "# Goofing around"
      ],
      "metadata": {
        "id": "SEAEhMJi8Ako"
      }
    },
    {
      "cell_type": "code",
      "source": [
        "l1 = [1,2,3,4,5,6,7]\n",
        "l2 = l1\n",
        "l2 = [i for i in l2 if i%2 == 0]\n",
        "print(l1)\n",
        "print(l2)"
      ],
      "metadata": {
        "id": "gCvaumsKVY_j",
        "outputId": "fc7d76e3-d2b5-4e7d-f3b9-1c01fd44b01c",
        "colab": {
          "base_uri": "https://localhost:8080/"
        }
      },
      "execution_count": null,
      "outputs": [
        {
          "output_type": "stream",
          "name": "stdout",
          "text": [
            "[1, 2, 3, 4, 5, 6, 7]\n",
            "[2, 4, 6]\n"
          ]
        }
      ]
    },
    {
      "cell_type": "code",
      "source": [
        "d = [{\"t\":\"ts\" , \"m\":\"msi\", \"im\":0},\n",
        "     {\"t\":\"ts\" , \"m\":\"mss\", \"im\":1},\n",
        "     {\"t\":\"ts\" , \"m\":\"mss\", \"im\":2},\n",
        "     {\"t\":\"ts\" , \"m\":\"msi\", \"im\":3},\n",
        "     {\"t\":\"ts\" , \"m\":\"mss\", \"im\":4},\n",
        "     {\"t\":\"ts\" , \"m\":\"mss\", \"im\":5},\n",
        "     {\"t\":\"tr\" , \"m\":\"msi\", \"im\":6},\n",
        "     {\"t\":\"tr\" , \"m\":\"msi\", \"im\":7},\n",
        "     {\"t\":\"tr\" , \"m\":\"mss\", \"im\":8},\n",
        "     {\"t\":\"tr\" , \"m\":\"mss\", \"im\":9}]\n",
        "p = pd.DataFrame(d)\n",
        "p[(p[\"t\"]== 'ts')&(p[\"m\"]=='msi')]"
      ],
      "metadata": {
        "id": "R_2YFi638Dqs",
        "outputId": "1dad0306-2357-4f8e-e973-c000229cc6ba",
        "colab": {
          "base_uri": "https://localhost:8080/",
          "height": 112
        }
      },
      "execution_count": null,
      "outputs": [
        {
          "output_type": "execute_result",
          "data": {
            "text/html": [
              "\n",
              "  <div id=\"df-fadc20fa-63ce-41f5-af99-46cff94549e6\">\n",
              "    <div class=\"colab-df-container\">\n",
              "      <div>\n",
              "<style scoped>\n",
              "    .dataframe tbody tr th:only-of-type {\n",
              "        vertical-align: middle;\n",
              "    }\n",
              "\n",
              "    .dataframe tbody tr th {\n",
              "        vertical-align: top;\n",
              "    }\n",
              "\n",
              "    .dataframe thead th {\n",
              "        text-align: right;\n",
              "    }\n",
              "</style>\n",
              "<table border=\"1\" class=\"dataframe\">\n",
              "  <thead>\n",
              "    <tr style=\"text-align: right;\">\n",
              "      <th></th>\n",
              "      <th>t</th>\n",
              "      <th>m</th>\n",
              "      <th>im</th>\n",
              "    </tr>\n",
              "  </thead>\n",
              "  <tbody>\n",
              "    <tr>\n",
              "      <th>0</th>\n",
              "      <td>ts</td>\n",
              "      <td>msi</td>\n",
              "      <td>0</td>\n",
              "    </tr>\n",
              "    <tr>\n",
              "      <th>3</th>\n",
              "      <td>ts</td>\n",
              "      <td>msi</td>\n",
              "      <td>3</td>\n",
              "    </tr>\n",
              "  </tbody>\n",
              "</table>\n",
              "</div>\n",
              "      <button class=\"colab-df-convert\" onclick=\"convertToInteractive('df-fadc20fa-63ce-41f5-af99-46cff94549e6')\"\n",
              "              title=\"Convert this dataframe to an interactive table.\"\n",
              "              style=\"display:none;\">\n",
              "        \n",
              "  <svg xmlns=\"http://www.w3.org/2000/svg\" height=\"24px\"viewBox=\"0 0 24 24\"\n",
              "       width=\"24px\">\n",
              "    <path d=\"M0 0h24v24H0V0z\" fill=\"none\"/>\n",
              "    <path d=\"M18.56 5.44l.94 2.06.94-2.06 2.06-.94-2.06-.94-.94-2.06-.94 2.06-2.06.94zm-11 1L8.5 8.5l.94-2.06 2.06-.94-2.06-.94L8.5 2.5l-.94 2.06-2.06.94zm10 10l.94 2.06.94-2.06 2.06-.94-2.06-.94-.94-2.06-.94 2.06-2.06.94z\"/><path d=\"M17.41 7.96l-1.37-1.37c-.4-.4-.92-.59-1.43-.59-.52 0-1.04.2-1.43.59L10.3 9.45l-7.72 7.72c-.78.78-.78 2.05 0 2.83L4 21.41c.39.39.9.59 1.41.59.51 0 1.02-.2 1.41-.59l7.78-7.78 2.81-2.81c.8-.78.8-2.07 0-2.86zM5.41 20L4 18.59l7.72-7.72 1.47 1.35L5.41 20z\"/>\n",
              "  </svg>\n",
              "      </button>\n",
              "      \n",
              "  <style>\n",
              "    .colab-df-container {\n",
              "      display:flex;\n",
              "      flex-wrap:wrap;\n",
              "      gap: 12px;\n",
              "    }\n",
              "\n",
              "    .colab-df-convert {\n",
              "      background-color: #E8F0FE;\n",
              "      border: none;\n",
              "      border-radius: 50%;\n",
              "      cursor: pointer;\n",
              "      display: none;\n",
              "      fill: #1967D2;\n",
              "      height: 32px;\n",
              "      padding: 0 0 0 0;\n",
              "      width: 32px;\n",
              "    }\n",
              "\n",
              "    .colab-df-convert:hover {\n",
              "      background-color: #E2EBFA;\n",
              "      box-shadow: 0px 1px 2px rgba(60, 64, 67, 0.3), 0px 1px 3px 1px rgba(60, 64, 67, 0.15);\n",
              "      fill: #174EA6;\n",
              "    }\n",
              "\n",
              "    [theme=dark] .colab-df-convert {\n",
              "      background-color: #3B4455;\n",
              "      fill: #D2E3FC;\n",
              "    }\n",
              "\n",
              "    [theme=dark] .colab-df-convert:hover {\n",
              "      background-color: #434B5C;\n",
              "      box-shadow: 0px 1px 3px 1px rgba(0, 0, 0, 0.15);\n",
              "      filter: drop-shadow(0px 1px 2px rgba(0, 0, 0, 0.3));\n",
              "      fill: #FFFFFF;\n",
              "    }\n",
              "  </style>\n",
              "\n",
              "      <script>\n",
              "        const buttonEl =\n",
              "          document.querySelector('#df-fadc20fa-63ce-41f5-af99-46cff94549e6 button.colab-df-convert');\n",
              "        buttonEl.style.display =\n",
              "          google.colab.kernel.accessAllowed ? 'block' : 'none';\n",
              "\n",
              "        async function convertToInteractive(key) {\n",
              "          const element = document.querySelector('#df-fadc20fa-63ce-41f5-af99-46cff94549e6');\n",
              "          const dataTable =\n",
              "            await google.colab.kernel.invokeFunction('convertToInteractive',\n",
              "                                                     [key], {});\n",
              "          if (!dataTable) return;\n",
              "\n",
              "          const docLinkHtml = 'Like what you see? Visit the ' +\n",
              "            '<a target=\"_blank\" href=https://colab.research.google.com/notebooks/data_table.ipynb>data table notebook</a>'\n",
              "            + ' to learn more about interactive tables.';\n",
              "          element.innerHTML = '';\n",
              "          dataTable['output_type'] = 'display_data';\n",
              "          await google.colab.output.renderOutput(dataTable, element);\n",
              "          const docLink = document.createElement('div');\n",
              "          docLink.innerHTML = docLinkHtml;\n",
              "          element.appendChild(docLink);\n",
              "        }\n",
              "      </script>\n",
              "    </div>\n",
              "  </div>\n",
              "  "
            ],
            "text/plain": [
              "    t    m  im\n",
              "0  ts  msi   0\n",
              "3  ts  msi   3"
            ]
          },
          "metadata": {},
          "execution_count": 22
        }
      ]
    },
    {
      "cell_type": "code",
      "source": [
        "t = torch.rand(3,16,16)\n",
        "print(\"torch shape\", t.shape)\n",
        "print(\"np shape\", t.numpy().shape)"
      ],
      "metadata": {
        "colab": {
          "base_uri": "https://localhost:8080/"
        },
        "id": "6CcHSoX8aFkj",
        "outputId": "3638d54f-a07f-4c49-e955-66718a8ec62e"
      },
      "execution_count": 14,
      "outputs": [
        {
          "output_type": "stream",
          "name": "stdout",
          "text": [
            "torch shape torch.Size([3, 16, 16])\n",
            "np shape (3, 16, 16)\n"
          ]
        }
      ]
    },
    {
      "cell_type": "code",
      "source": [
        "t = None\n",
        "a = torch.Tensor([1,2,3])\n",
        "b = torch.Tensor([4,5,6])\n",
        "t = torch.vstack((t,a)) if t else a\n",
        "t = torch.vstack((t,b,a,b)) \n",
        "print(t)"
      ],
      "metadata": {
        "colab": {
          "base_uri": "https://localhost:8080/"
        },
        "id": "A3875yI9hfqz",
        "outputId": "15f25c1a-e0e3-448a-ca9b-94220829c953"
      },
      "execution_count": 66,
      "outputs": [
        {
          "output_type": "stream",
          "name": "stdout",
          "text": [
            "tensor([[1., 2., 3.],\n",
            "        [4., 5., 6.],\n",
            "        [1., 2., 3.],\n",
            "        [4., 5., 6.]])\n"
          ]
        }
      ]
    },
    {
      "cell_type": "markdown",
      "source": [
        "# Fake data"
      ],
      "metadata": {
        "id": "Mam2ZqAVoe-j"
      }
    },
    {
      "cell_type": "code",
      "source": [
        "def fake_data(dir = './data', ptns=12, pchs=10):\n",
        "  imgs = torch.rand((ptns, pchs,3, 224,224))\n",
        "  os.mkdir(dir)\n",
        "  classes = []\n",
        "  for p in range(ptns):\n",
        "    case = 'A' if torch.randn(1) > 0 else 'B'\n",
        "    classes.append(case)\n",
        "    p_name = \"ptn-{}-{}\".format(str(p).zfill(3), case)\n",
        "    pth = os.path.join(dir, p_name)\n",
        "    os.mkdir(pth)\n",
        "    for i in range(pchs):\n",
        "      im = imgs[int(p),i]\n",
        "      if case is 'B':\n",
        "        im = im / 2\n",
        "      fname = os.path.join(dir ,p_name, str(i).zfill(3) + '.png')\n",
        "      torchvision.utils.save_image(im, fname)\n",
        "  return classes"
      ],
      "metadata": {
        "id": "vT4M9f7I-e2u"
      },
      "execution_count": null,
      "outputs": []
    },
    {
      "cell_type": "code",
      "source": [
        "!rm -fr data*\n",
        "!rm -fr aug_data*\n",
        "!ls"
      ],
      "metadata": {
        "colab": {
          "base_uri": "https://localhost:8080/"
        },
        "id": "KT2ybGgdSEBI",
        "outputId": "49454393-1f4f-4f8e-b4bb-42c421600e2d"
      },
      "execution_count": null,
      "outputs": [
        {
          "output_type": "stream",
          "name": "stdout",
          "text": [
            "sample_data\n"
          ]
        }
      ]
    },
    {
      "cell_type": "code",
      "source": [
        "dir = './data'\n",
        "classes = fake_data(dir)\n",
        "!ls"
      ],
      "metadata": {
        "colab": {
          "base_uri": "https://localhost:8080/"
        },
        "id": "HYnmUlwtB1JI",
        "outputId": "4d0de4c2-2e6c-4760-c17a-539668d6c57f"
      },
      "execution_count": null,
      "outputs": [
        {
          "output_type": "stream",
          "name": "stdout",
          "text": [
            "data  sample_data\n"
          ]
        }
      ]
    },
    {
      "cell_type": "code",
      "source": [
        "def batch_PCA_(imgs ,k=16):\n",
        "  print(\"batch input size: {}\".format(imgs.shape))\n",
        "  ret = imgs.mean(dim=0)\n",
        "  print(\"batch new size: {}\".format(ret.shape))\n",
        "  return ret"
      ],
      "metadata": {
        "id": "wjgM5J7Ln2Fu"
      },
      "execution_count": null,
      "outputs": []
    },
    {
      "cell_type": "code",
      "source": [
        "%pwd"
      ],
      "metadata": {
        "id": "tnWuDvFQAK9a",
        "outputId": "ed194e8a-123e-4243-b502-461f21f6d80b",
        "colab": {
          "base_uri": "https://localhost:8080/",
          "height": 35
        }
      },
      "execution_count": null,
      "outputs": [
        {
          "output_type": "execute_result",
          "data": {
            "application/vnd.google.colaboratory.intrinsic+json": {
              "type": "string"
            },
            "text/plain": [
              "'/content/gdrive/MyDrive/Proj_B/VISL_project'"
            ]
          },
          "metadata": {},
          "execution_count": 10
        }
      ]
    },
    {
      "cell_type": "markdown",
      "source": [
        "# Util Functions"
      ],
      "metadata": {
        "id": "h9IVl3Rdrk5U"
      }
    },
    {
      "cell_type": "code",
      "source": [
        "def ds_img(imgs):\n",
        "  s = imgs.shape[-1] // 8\n",
        "  t = transforms.RandomCrop(s)\n",
        "  return t(imgs)"
      ],
      "metadata": {
        "id": "tULoXSwVAQpN"
      },
      "execution_count": 3,
      "outputs": []
    },
    {
      "cell_type": "code",
      "source": [
        "def get_device():\n",
        "  dev = \"cuda:0\" if torch.cuda.is_available() else \"cpu\"\n",
        "  device = torch.device(dev)\n",
        "  return device"
      ],
      "metadata": {
        "id": "DmE9FA8Grg3R"
      },
      "execution_count": 4,
      "outputs": []
    },
    {
      "cell_type": "code",
      "source": [
        "def parse_patches(fn ,id):\n",
        "  dir, bn = os.path.split(fn)\n",
        "  patient = '-'.join(bn.split('-')[3:5])\n",
        "  dir, label = os.path.split(dir)\n",
        "  dir, ds = os.path.split(dir)\n",
        "  return {'id': id,\n",
        "          'file_name': fn,\n",
        "          'set': ds,\n",
        "          'label': label,\n",
        "          'patient': patient}"
      ],
      "metadata": {
        "id": "PKUYbyo3Df3k"
      },
      "execution_count": 5,
      "outputs": []
    },
    {
      "cell_type": "code",
      "source": [
        "def mkdir(dir_, dir):\n",
        "  \"\"\"Creeates directory if necessary and returns dir path\"\"\"\n",
        "  d = os.path.join(dir_,dir)\n",
        "  if not os.path.isdir(d):\n",
        "    os.mkdir(d)\n",
        "  return d"
      ],
      "metadata": {
        "id": "nKlyd25jVaan"
      },
      "execution_count": 6,
      "outputs": []
    },
    {
      "cell_type": "code",
      "source": [
        "def ds_data(dir, nd, n):\n",
        "  nd = mkdir('./', nd)\n",
        "  for t in ['test', 'train']:\n",
        "    d = mkdir(nd, t)\n",
        "    for m in ['MSI', 'MSS']:\n",
        "      mkdir(d,m)\n",
        "      path = os.path.join(dir, t, m)\n",
        "      print(path)\n",
        "      for im in glob.glob(path + '/*.png')[:n]:\n",
        "        #print(im)\n",
        "        name = os.path.basename(dir)\n",
        "        repl = os.path.basename(nd)\n",
        "        np = im.replace(name, repl)\n",
        "        #print(np)\n",
        "        if not os.path.isfile(np):\n",
        "          shutil.copy(im, np)\n",
        "\n",
        "#ds_data('./../dataset', './../small_dataset', 100)\n",
        "#ds_data('./../dataset', './../dataset_ds', 1000)"
      ],
      "metadata": {
        "id": "HAZO6Al6_Djz",
        "outputId": "80a2d607-dff2-4e2f-8d16-9f9cce122810",
        "colab": {
          "base_uri": "https://localhost:8080/"
        }
      },
      "execution_count": 7,
      "outputs": [
        {
          "output_type": "stream",
          "name": "stdout",
          "text": [
            "./../dataset/test/MSI\n",
            "./../dataset/test/MSS\n",
            "./../dataset/train/MSI\n",
            "./../dataset/train/MSS\n"
          ]
        }
      ]
    },
    {
      "cell_type": "markdown",
      "source": [
        "# Data manipulation"
      ],
      "metadata": {
        "id": "9LnLAM_sq0rC"
      }
    },
    {
      "cell_type": "markdown",
      "source": [
        "## DS Class"
      ],
      "metadata": {
        "id": "2XHqOXIVJhf7"
      }
    },
    {
      "cell_type": "code",
      "source": [
        "class PatchDataset(Dataset):\n",
        "  def __init__(self, dir, parse_fn=parse_patches, transform=None):\n",
        "    self.patch_list = []\n",
        "    for i, fn in enumerate(glob.glob(dir + \"/*/*/*.png\")):\n",
        "      self.patch_list.append(parse_fn(fn, i))\n",
        "    self.active_list = self.patch_list.copy()\n",
        "    self.patient_dict = None\n",
        "    self.transform = transform\n",
        "    print(\"found \"+str(len(self.patch_list)))\n",
        "\n",
        "  def set_filter(self, ds=None, lb=None, pt=None):\n",
        "    if (ds):\n",
        "      self.active_list = [p for p in self.active_list if p['set'] == ds]\n",
        "    if (lb):\n",
        "      self.active_list = [p for p in self.active_list if p['label'] == lb]\n",
        "    if (pt):\n",
        "      self.active_list = [p for p in self.active_list if p['patient'] == pt]\n",
        "  \n",
        "  def reset_filter(self):\n",
        "    self.active_list = self.patch_list.copy()\n",
        "  \n",
        "  def get_sct(self, sect, num=False):\n",
        "    l_ = [p[sect] for p in self.active_list]\n",
        "    l_dct = {}\n",
        "    for l in l_:\n",
        "      l_dct[l] = l_dct.get(l, 0) + 1\n",
        "    return l_dct.items() if num else l_dct.keys()\n",
        "\n",
        "  def get_patients(self, num=False):\n",
        "    return self.get_sct('patient', num)\n",
        "\n",
        "  def get_sets(self, num=False):\n",
        "    return self.get_sct('set', num)\n",
        "  \n",
        "  def get_labels(self, num=False):\n",
        "    return self.get_sct('label', num)\n",
        "  \n",
        "  def __len__(self):\n",
        "    return len(self.active_list)\n",
        "\n",
        "  def __getitem__(self, index):\n",
        "    fn = self.active_list[index][\"file_name\"]\n",
        "    lb = self.active_list[index]['label']\n",
        "    img = torchvision.io.read_image(fn)\n",
        "    if self.transform:\n",
        "      img = self.transform(img)\n",
        "    return (img, lb)"
      ],
      "metadata": {
        "id": "xcISDAO3AGnw"
      },
      "execution_count": 8,
      "outputs": []
    },
    {
      "cell_type": "markdown",
      "source": [
        "## Data stat"
      ],
      "metadata": {
        "id": "tKwF_a_TJkk1"
      }
    },
    {
      "cell_type": "code",
      "source": [
        "class rgb2hsv():\n",
        "    \"\"\"Convert images from RGB to HSV.\"\"\"\n",
        "    def __call__(self, image):\n",
        "        # swap color axis because\n",
        "        # torch image: C x H x W\n",
        "        # numpy image: H x W x C\n",
        "        image = image.cpu().numpy()\n",
        "        image = image.transpose((1, 2, 0))\n",
        "        hsv = cv2.cvtColor(image, cv2.COLOR_RGB2HSV)\n",
        "        hsv = hsv.transpose((2, 0, 1))\n",
        "        hsv = torch.from_numpy(hsv)\n",
        "        return hsv\n",
        "\n",
        "\n",
        "def patch_stat(ds):\n",
        "  dl = torch.utils.data.DataLoader(ds, batch_size=64, shuffle=False)\n",
        "  hist = torch.zeros(3,256)\n",
        "  for im, _ in dl:\n",
        "    for i in range(256):\n",
        "      for c in range(3):\n",
        "        hist[c][i] += torch.sum(im[0][c] == i)\n",
        "  norm = torch.sum(hist[0][:])\n",
        "  hist = hist / norm\n",
        "  plt.plot(range(256), hist[0][:], color='r')\n",
        "  plt.plot(range(256), hist[1][:], color='g')\n",
        "  plt.plot(range(256), hist[2][:], color='b')\n",
        "  #plt.show()\n",
        "  ent = (-hist) * torch.log(hist + 0.0001)\n",
        "  ent = torch.sum(ent)\n",
        "  print(\"Data entropy is : {}\".format(ent))\n",
        "\n"
      ],
      "metadata": {
        "id": "OeJEgOYgMAhQ"
      },
      "execution_count": 17,
      "outputs": []
    },
    {
      "cell_type": "code",
      "source": [
        "plt.figure(figsize=(16, 12))\n",
        "\n",
        "ds_hsv = PatchDataset('./../dataset_ds', transform=rgb2hsv())\n",
        "plt.subplot(321)\n",
        "patch_stat(ds_hsv)\n",
        "plt.title(\"HSV - all\")\n",
        "\n",
        "ds_hsv.set_filter(lb=\"MSI\")\n",
        "plt.subplot(323)\n",
        "patch_stat(ds_hsv)\n",
        "plt.title(\"HSV - MSI\")\n",
        "ds_hsv.reset_filter()\n",
        "\n",
        "ds_hsv.set_filter(lb=\"MSS\")\n",
        "plt.subplot(325)\n",
        "patch_stat(ds_hsv)\n",
        "plt.title(\"HSV - MSS\")\n",
        "\n",
        "\n",
        "ds_rgb = PatchDataset('./../dataset_ds')\n",
        "plt.subplot(322)\n",
        "patch_stat(ds_rgb)\n",
        "plt.title(\"RGB - all\")\n",
        "\n",
        "ds_rgb.set_filter(lb=\"MSI\")\n",
        "plt.subplot(324)\n",
        "patch_stat(ds_rgb)\n",
        "plt.title(\"RGB - MSI\")\n",
        "ds_rgb.reset_filter()\n",
        "\n",
        "ds_rgb.set_filter(lb=\"MSS\")\n",
        "plt.subplot(326)\n",
        "patch_stat(ds_rgb)\n",
        "plt.title(\"RGB - MSS\")"
      ],
      "metadata": {
        "colab": {
          "base_uri": "https://localhost:8080/",
          "height": 872
        },
        "id": "VkN0MKOcX3yg",
        "outputId": "828ea0a1-c26a-4c9f-b5d0-d09cda61b994"
      },
      "execution_count": 18,
      "outputs": [
        {
          "output_type": "stream",
          "name": "stdout",
          "text": [
            "found 4000\n",
            "Data entropy is : 13.194990158081055\n",
            "Data entropy is : 13.060956954956055\n",
            "Data entropy is : 13.097311019897461\n",
            "found 4000\n",
            "Data entropy is : 15.173694610595703\n",
            "Data entropy is : 15.133145332336426\n",
            "Data entropy is : 15.165755271911621\n"
          ]
        },
        {
          "output_type": "execute_result",
          "data": {
            "text/plain": [
              "Text(0.5, 1.0, 'RGB - MSS')"
            ]
          },
          "metadata": {},
          "execution_count": 18
        },
        {
          "output_type": "display_data",
          "data": {
            "image/png": "[encoded data removed]",
            "text/plain": [
              "<Figure size 1152x864 with 6 Axes>"
            ]
          },
          "metadata": {
            "needs_background": "light"
          }
        }
      ]
    },
    {
      "cell_type": "markdown",
      "source": [
        "## Feature dimensaion reduction"
      ],
      "metadata": {
        "id": "jKeus-71JvTL"
      }
    },
    {
      "cell_type": "code",
      "source": [
        "def add_vec(mat, vec):\n",
        "  print(\"shape mat\", mat.shape)\n",
        "  print(\"shape vec\", vec.shape)\n",
        "  return mat\n",
        "\n",
        "\n",
        "def batch_PCA(ftrs, k=2, mean=False, eig_val=False):\n",
        "  #print(\"Batch PCA input size: {}\".format(ftrs.shape))\n",
        "  ftrs = ftrs.detach().cpu().numpy()\n",
        "  #ftr_var = (ftrs.T @ ftrs).cpu().numpy()\n",
        "  PCA_comp = PCA(k, svd_solver='full').fit(ftrs)\n",
        "  eig_vec = torch.Tensor(PCA_comp.components_)\n",
        "  if mean:\n",
        "    mean = np.mean(ftrs)\n",
        "    eig_vec = add_vec(eig_vec, mean)\n",
        "  if eig_val:\n",
        "    eig_val = PCA_comp.singular_values_\n",
        "    eig_vec = add_vec(eig_vec, eig_val)\n",
        "  #print(\"Eigen Vector size :{} , with max: {}\".format(eig_vec.shape, eig_vec.max()))\n",
        "  return eig_vec"
      ],
      "metadata": {
        "id": "WQ5gJRu8-oF0"
      },
      "execution_count": 19,
      "outputs": []
    },
    {
      "cell_type": "markdown",
      "source": [
        "## Dimension reduction "
      ],
      "metadata": {
        "id": "q7AfgojaKAQS"
      }
    },
    {
      "cell_type": "code",
      "source": [
        "def patient_data(dir, nd, dr_fnc, trf=None):\n",
        "  ds = PatchDataset(dir, transform=trf)\n",
        "  nd = mkdir('./', nd)\n",
        "  for t in ds.get_sets():\n",
        "    s = mkdir(nd, t)\n",
        "    for m in ds.get_labels():\n",
        "     d = mkdir(s, m)\n",
        "     ds.set_filter(ds=t, lb=m)\n",
        "     for p, sz in ds.get_patients(num=True):\n",
        "       print(\"Patient {} - of group {}-{} has {} patches\".format(p,t,m,sz))\n",
        "       ds.set_filter(ds=t, lb=m, pt=p)\n",
        "       dr = dr_fnc(ds)\n",
        "       fname = os.path.join(d, p + '.npy')\n",
        "       with open(fname, 'wb') as f:\n",
        "         np.save(f, dr)\n",
        "       ds.reset_filter()\n",
        "     ds.reset_filter()\n",
        "\n",
        "\n",
        "def patientPCA(ds):\n",
        "  bt_sz = 1\n",
        "  pts = len(ds)\n",
        "  if pts < 2: # Remove later\n",
        "    return np.array([[2,2],[3,4]])\n",
        "  for i in range(1, 64):\n",
        "    if ((i % pts) == 0):\n",
        "      bt_sz = i\n",
        "  \n",
        "  model = models.inception_v3(pretrained=True)\n",
        "  model.fc = nn.Sequential(nn.Linear(2048,100), nn.Linear(100,2))\n",
        "  #weights = torch.load('./model_hist_eq_0.pt', map_location=torch.device('cpu'))\n",
        "  #model.load_state_dict(weights['model_state'])\n",
        "  model.to(get_device())\n",
        "  model.eval()\n",
        "  dl = torch.utils.data.DataLoader(ds, batch_size=bt_sz, shuffle=False)\n",
        "  ftrs = None\n",
        "  with torch.no_grad():\n",
        "    for data in dl:\n",
        "      imgs = data[0].to(get_device())\n",
        "      ftr = model(imgs)\n",
        "      ftrs = torch.vstack((ftrs, ftr)) if ftrs is not None else ftr\n",
        "  return batch_PCA(ftrs, k=2, mean=False, eig_val=False)\n",
        "\n",
        "\n",
        "def read_mtx(path):\n",
        "  with open(path, 'rb') as f:\n",
        "    return np.load(f)"
      ],
      "metadata": {
        "id": "uc30a7QqwPc9"
      },
      "execution_count": 26,
      "outputs": []
    },
    {
      "cell_type": "code",
      "source": [
        "%rm -fr ../test_dim_red\n",
        "trf = transforms.Compose([transforms.ToPILImage(),\n",
        "                          transforms.ToTensor(),\n",
        "                          transforms.Normalize([0.485, 0.456, 0.406], [0.229, 0.224, 0.225])])\n",
        "patient_data('./../dataset_ds', './../test_dim_red', patientPCA, trf=trf)"
      ],
      "metadata": {
        "colab": {
          "base_uri": "https://localhost:8080/"
        },
        "id": "8btbDYcWkFRM",
        "outputId": "1d52ddfb-1b2c-409b-f059-a734839dc455"
      },
      "execution_count": 27,
      "outputs": [
        {
          "output_type": "stream",
          "name": "stdout",
          "text": [
            "found 4000\n",
            "Patient CK-4951 - of group test-MSI has 21 patches\n",
            "Patient AD-6964 - of group test-MSI has 28 patches\n",
            "Patient CM-4743 - of group test-MSI has 168 patches\n",
            "Patient AZ-6601 - of group test-MSI has 56 patches\n",
            "Patient CK-6746 - of group test-MSI has 71 patches\n",
            "Patient CK-6747 - of group test-MSI has 69 patches\n",
            "Patient AA-3950 - of group test-MSI has 23 patches\n",
            "Patient AZ-4615 - of group test-MSI has 68 patches\n",
            "Patient D5-6530 - of group test-MSI has 100 patches\n",
            "Patient A6-2686 - of group test-MSI has 26 patches\n",
            "Patient AG-A02N - of group test-MSI has 20 patches\n",
            "Patient D5-6540 - of group test-MSI has 19 patches\n",
            "Patient DC-6154 - of group test-MSI has 41 patches\n",
            "Patient AD-A5EJ - of group test-MSI has 23 patches\n",
            "Patient AY-6197 - of group test-MSI has 70 patches\n",
            "Patient G4-6302 - of group test-MSI has 15 patches\n",
            "Patient G4-6586 - of group test-MSI has 24 patches\n",
            "Patient G4-6309 - of group test-MSI has 8 patches\n",
            "Patient G4-6588 - of group test-MSI has 14 patches\n",
            "Patient AZ-6598 - of group test-MSI has 61 patches\n",
            "Patient AA-3966 - of group test-MSI has 35 patches\n",
            "Patient D5-6928 - of group test-MSI has 1 patches\n",
            "Patient AA-3877 - of group test-MSI has 12 patches\n",
            "Patient AA-3833 - of group test-MSI has 10 patches\n",
            "Patient WS-AB45 - of group test-MSI has 8 patches\n",
            "Patient AD-5900 - of group test-MSI has 9 patches\n",
            "Patient AG-3898 - of group test-MSS has 10 patches\n",
            "Patient F5-6812 - of group test-MSS has 21 patches\n",
            "Patient D5-6537 - of group test-MSS has 8 patches\n",
            "Patient CM-5868 - of group test-MSS has 29 patches\n",
            "Patient AA-3678 - of group test-MSS has 2 patches\n",
            "Patient G4-6306 - of group test-MSS has 14 patches\n",
            "Patient AA-3856 - of group test-MSS has 11 patches\n",
            "Patient DC-6681 - of group test-MSS has 39 patches\n",
            "Patient DM-A28K - of group test-MSS has 17 patches\n",
            "Patient CA-5256 - of group test-MSS has 15 patches\n",
            "Patient CM-5862 - of group test-MSS has 27 patches\n",
            "Patient AA-3848 - of group test-MSS has 17 patches\n",
            "Patient AF-A56N - of group test-MSS has 8 patches\n",
            "Patient F5-6702 - of group test-MSS has 17 patches\n",
            "Patient AA-3679 - of group test-MSS has 7 patches\n",
            "Patient G4-6311 - of group test-MSS has 10 patches\n",
            "Patient CA-5255 - of group test-MSS has 7 patches\n",
            "Patient CM-6167 - of group test-MSS has 16 patches\n",
            "Patient CM-6172 - of group test-MSS has 12 patches\n",
            "Patient AY-A71X - of group test-MSS has 56 patches\n",
            "Patient DC-6683 - of group test-MSS has 33 patches\n",
            "Patient CK-4950 - of group test-MSS has 12 patches\n",
            "Patient AA-3818 - of group test-MSS has 11 patches\n",
            "Patient NH-A6GC - of group test-MSS has 10 patches\n",
            "Patient DM-A1D9 - of group test-MSS has 18 patches\n",
            "Patient AG-A016 - of group test-MSS has 5 patches\n",
            "Patient AA-A02O - of group test-MSS has 14 patches\n",
            "Patient D5-6536 - of group test-MSS has 7 patches\n",
            "Patient EI-6514 - of group test-MSS has 20 patches\n",
            "Patient CA-6716 - of group test-MSS has 6 patches\n",
            "Patient AH-6643 - of group test-MSS has 9 patches\n",
            "Patient AZ-4315 - of group test-MSS has 34 patches\n",
            "Patient AZ-6599 - of group test-MSS has 23 patches\n",
            "Patient AY-A8YK - of group test-MSS has 16 patches\n",
            "Patient AG-3887 - of group test-MSS has 4 patches\n",
            "Patient A6-2685 - of group test-MSS has 2 patches\n",
            "Patient NH-A50T - of group test-MSS has 33 patches\n",
            "Patient AF-6672 - of group test-MSS has 5 patches\n",
            "Patient F5-6810 - of group test-MSS has 38 patches\n",
            "Patient AA-3851 - of group test-MSS has 14 patches\n",
            "Patient AF-4110 - of group test-MSS has 9 patches\n",
            "Patient AG-4015 - of group test-MSS has 7 patches\n",
            "Patient AA-3681 - of group test-MSS has 6 patches\n",
            "Patient CL-5917 - of group test-MSS has 14 patches\n",
            "Patient AZ-6600 - of group test-MSS has 24 patches\n",
            "Patient AG-3896 - of group test-MSS has 5 patches\n",
            "Patient D5-5537 - of group test-MSS has 19 patches\n",
            "Patient AA-A03F - of group test-MSS has 5 patches\n",
            "Patient AA-3968 - of group test-MSS has 7 patches\n",
            "Patient F4-6809 - of group test-MSS has 10 patches\n",
            "Patient DC-6682 - of group test-MSS has 16 patches\n",
            "Patient F4-6460 - of group test-MSS has 48 patches\n",
            "Patient AA-A02F - of group test-MSS has 26 patches\n",
            "Patient CM-5864 - of group test-MSS has 30 patches\n",
            "Patient AG-3901 - of group test-MSS has 5 patches\n",
            "Patient AG-A02X - of group test-MSS has 4 patches\n",
            "Patient A6-5662 - of group test-MSS has 6 patches\n",
            "Patient A6-5657 - of group test-MSS has 6 patches\n",
            "Patient DC-4745 - of group test-MSS has 10 patches\n",
            "Patient AH-6544 - of group test-MSS has 6 patches\n",
            "Patient A6-6137 - of group test-MSS has 26 patches\n",
            "Patient AA-3875 - of group test-MSS has 6 patches\n",
            "Patient AG-3881 - of group test-MSS has 4 patches\n",
            "Patient DM-A1D7 - of group test-MSS has 10 patches\n",
            "Patient AA-3837 - of group test-MSS has 11 patches\n",
            "Patient G4-6315 - of group test-MSS has 2 patches\n",
            "Patient A6-3807 - of group test-MSS has 3 patches\n",
            "Patient AG-3727 - of group test-MSS has 1 patches\n",
            "Patient AG-3892 - of group test-MSS has 5 patches\n",
            "Patient AF-2687 - of group test-MSS has 5 patches\n",
            "Patient AF-6136 - of group test-MSS has 5 patches\n",
            "Patient AA-3814 - of group test-MSS has 2 patches\n",
            "Patient CM-5861 - of group train-MSI has 33 patches\n",
            "Patient 5M-AAT6 - of group train-MSI has 60 patches\n",
            "Patient NH-A5IV - of group train-MSI has 73 patches\n",
            "Patient A6-5665 - of group train-MSI has 14 patches\n",
            "Patient CM-4746 - of group train-MSI has 71 patches\n",
            "Patient G4-6320 - of group train-MSI has 15 patches\n",
            "Patient CM-6171 - of group train-MSI has 98 patches\n",
            "Patient AA-A01P - of group train-MSI has 25 patches\n",
            "Patient G4-6628 - of group train-MSI has 16 patches\n",
            "Patient AA-3715 - of group train-MSI has 19 patches\n",
            "Patient A6-3809 - of group train-MSI has 18 patches\n",
            "Patient A6-6653 - of group train-MSI has 22 patches\n",
            "Patient F4-6856 - of group train-MSI has 8 patches\n",
            "Patient QG-A5Z2 - of group train-MSI has 79 patches\n",
            "Patient AA-3947 - of group train-MSI has 30 patches\n",
            "Patient F4-6570 - of group train-MSI has 20 patches\n",
            "Patient AA-A01R - of group train-MSI has 31 patches\n",
            "Patient EI-6882 - of group train-MSI has 29 patches\n",
            "Patient AU-6004 - of group train-MSI has 15 patches\n",
            "Patient A6-5661 - of group train-MSI has 13 patches\n",
            "Patient CK-5913 - of group train-MSI has 39 patches\n",
            "Patient CK-5916 - of group train-MSI has 21 patches\n",
            "Patient F4-6703 - of group train-MSI has 32 patches\n",
            "Patient CM-6162 - of group train-MSI has 23 patches\n",
            "Patient AA-3949 - of group train-MSI has 10 patches\n",
            "Patient G4-6304 - of group train-MSI has 28 patches\n",
            "Patient AA-3821 - of group train-MSI has 5 patches\n",
            "Patient AD-6889 - of group train-MSI has 39 patches\n",
            "Patient CM-6674 - of group train-MSI has 34 patches\n",
            "Patient AA-3811 - of group train-MSI has 10 patches\n",
            "Patient AA-A00N - of group train-MSI has 5 patches\n",
            "Patient AA-A022 - of group train-MSI has 15 patches\n",
            "Patient AM-5821 - of group train-MSI has 23 patches\n",
            "Patient EI-6507 - of group train-MSI has 7 patches\n",
            "Patient AA-3864 - of group train-MSI has 3 patches\n",
            "Patient AA-3845 - of group train-MSI has 10 patches\n",
            "Patient D5-6927 - of group train-MSI has 5 patches\n",
            "Patient D5-6930 - of group train-MSI has 2 patches\n",
            "Patient CM-6166 - of group train-MSS has 15 patches\n",
            "Patient G4-6307 - of group train-MSS has 4 patches\n",
            "Patient NH-A8F8 - of group train-MSS has 7 patches\n",
            "Patient AM-5820 - of group train-MSS has 3 patches\n",
            "Patient CM-5348 - of group train-MSS has 6 patches\n",
            "Patient 5M-AAT4 - of group train-MSS has 9 patches\n",
            "Patient EI-6883 - of group train-MSS has 10 patches\n",
            "Patient NH-A50U - of group train-MSS has 11 patches\n",
            "Patient NH-A6GA - of group train-MSS has 9 patches\n",
            "Patient QG-A5YV - of group train-MSS has 18 patches\n",
            "Patient AD-6888 - of group train-MSS has 6 patches\n",
            "Patient F4-6461 - of group train-MSS has 17 patches\n",
            "Patient AG-4022 - of group train-MSS has 2 patches\n",
            "Patient AG-A015 - of group train-MSS has 8 patches\n",
            "Patient NH-A6GB - of group train-MSS has 9 patches\n",
            "Patient CM-6169 - of group train-MSS has 13 patches\n",
            "Patient CK-5914 - of group train-MSS has 8 patches\n",
            "Patient AG-A00C - of group train-MSS has 3 patches\n",
            "Patient DM-A1DB - of group train-MSS has 14 patches\n",
            "Patient G4-6297 - of group train-MSS has 4 patches\n",
            "Patient EI-6511 - of group train-MSS has 4 patches\n",
            "Patient AZ-5403 - of group train-MSS has 7 patches\n",
            "Patient D5-6541 - of group train-MSS has 13 patches\n",
            "Patient CM-6675 - of group train-MSS has 14 patches\n",
            "Patient AZ-6605 - of group train-MSS has 13 patches\n",
            "Patient AY-4071 - of group train-MSS has 4 patches\n",
            "Patient DM-A1HA - of group train-MSS has 7 patches\n",
            "Patient AA-3664 - of group train-MSS has 2 patches\n",
            "Patient A6-6648 - of group train-MSS has 2 patches\n",
            "Patient DY-A0XA - of group train-MSS has 13 patches\n",
            "Patient AZ-6603 - of group train-MSS has 7 patches\n",
            "Patient AA-A01V - of group train-MSS has 10 patches\n",
            "Patient DM-A28F - of group train-MSS has 4 patches\n",
            "Patient CK-5915 - of group train-MSS has 11 patches\n",
            "Patient AG-A01Y - of group train-MSS has 5 patches\n",
            "Patient AA-3844 - of group train-MSS has 2 patches\n",
            "Patient G4-6294 - of group train-MSS has 8 patches\n",
            "Patient AF-A56L - of group train-MSS has 4 patches\n",
            "Patient EI-6884 - of group train-MSS has 4 patches\n",
            "Patient DM-A0X9 - of group train-MSS has 4 patches\n",
            "Patient F5-6464 - of group train-MSS has 5 patches\n",
            "Patient CM-6170 - of group train-MSS has 5 patches\n",
            "Patient A6-4107 - of group train-MSS has 2 patches\n",
            "Patient A6-A56B - of group train-MSS has 6 patches\n",
            "Patient F4-6807 - of group train-MSS has 13 patches\n",
            "Patient DM-A1D6 - of group train-MSS has 4 patches\n",
            "Patient AA-3971 - of group train-MSS has 8 patches\n",
            "Patient EI-6513 - of group train-MSS has 9 patches\n",
            "Patient F4-6806 - of group train-MSS has 7 patches\n",
            "Patient CM-6680 - of group train-MSS has 6 patches\n",
            "Patient AD-A5EK - of group train-MSS has 1 patches\n",
            "Patient DT-5265 - of group train-MSS has 2 patches\n",
            "Patient D5-5541 - of group train-MSS has 11 patches\n",
            "Patient DM-A28G - of group train-MSS has 6 patches\n",
            "Patient EI-6512 - of group train-MSS has 13 patches\n",
            "Patient DM-A280 - of group train-MSS has 4 patches\n",
            "Patient AZ-6606 - of group train-MSS has 8 patches\n",
            "Patient CM-6679 - of group train-MSS has 9 patches\n",
            "Patient 5M-AATE - of group train-MSS has 11 patches\n",
            "Patient AA-A01T - of group train-MSS has 2 patches\n",
            "Patient 4N-A93T - of group train-MSS has 15 patches\n",
            "Patient DC-5869 - of group train-MSS has 18 patches\n",
            "Patient DY-A1DC - of group train-MSS has 3 patches\n",
            "Patient DY-A1DG - of group train-MSS has 3 patches\n",
            "Patient AG-3890 - of group train-MSS has 1 patches\n",
            "Patient SS-A7HO - of group train-MSS has 10 patches\n",
            "Patient AA-3976 - of group train-MSS has 1 patches\n",
            "Patient CM-4752 - of group train-MSS has 9 patches\n",
            "Patient CM-4751 - of group train-MSS has 8 patches\n",
            "Patient AF-A56K - of group train-MSS has 5 patches\n",
            "Patient AA-3986 - of group train-MSS has 6 patches\n",
            "Patient AY-5543 - of group train-MSS has 12 patches\n",
            "Patient CM-6163 - of group train-MSS has 16 patches\n",
            "Patient A6-6651 - of group train-MSS has 3 patches\n",
            "Patient DC-6158 - of group train-MSS has 2 patches\n",
            "Patient CK-5912 - of group train-MSS has 3 patches\n",
            "Patient DC-6160 - of group train-MSS has 3 patches\n",
            "Patient EI-6885 - of group train-MSS has 4 patches\n",
            "Patient CM-6164 - of group train-MSS has 5 patches\n",
            "Patient F5-6465 - of group train-MSS has 7 patches\n",
            "Patient A6-A567 - of group train-MSS has 2 patches\n",
            "Patient A6-5664 - of group train-MSS has 7 patches\n",
            "Patient AA-A01X - of group train-MSS has 9 patches\n",
            "Patient D5-6531 - of group train-MSS has 4 patches\n",
            "Patient EI-6508 - of group train-MSS has 2 patches\n",
            "Patient CM-5349 - of group train-MSS has 10 patches\n",
            "Patient F4-6704 - of group train-MSS has 1 patches\n",
            "Patient CK-4947 - of group train-MSS has 6 patches\n",
            "Patient AA-3956 - of group train-MSS has 1 patches\n",
            "Patient CK-6748 - of group train-MSS has 14 patches\n",
            "Patient DM-A288 - of group train-MSS has 2 patches\n",
            "Patient DM-A282 - of group train-MSS has 7 patches\n",
            "Patient AY-6386 - of group train-MSS has 3 patches\n",
            "Patient EI-6506 - of group train-MSS has 6 patches\n",
            "Patient D5-6534 - of group train-MSS has 3 patches\n",
            "Patient AZ-5407 - of group train-MSS has 9 patches\n",
            "Patient CM-5344 - of group train-MSS has 11 patches\n",
            "Patient G4-6323 - of group train-MSS has 2 patches\n",
            "Patient DC-6157 - of group train-MSS has 6 patches\n",
            "Patient CL-4957 - of group train-MSS has 6 patches\n",
            "Patient CK-6751 - of group train-MSS has 2 patches\n",
            "Patient AA-3850 - of group train-MSS has 1 patches\n",
            "Patient AA-A01Z - of group train-MSS has 6 patches\n",
            "Patient AA-A03J - of group train-MSS has 8 patches\n",
            "Patient DM-A285 - of group train-MSS has 3 patches\n",
            "Patient G4-6299 - of group train-MSS has 3 patches\n",
            "Patient AA-3867 - of group train-MSS has 2 patches\n",
            "Patient AA-3812 - of group train-MSS has 2 patches\n",
            "Patient CM-5860 - of group train-MSS has 6 patches\n",
            "Patient EI-6509 - of group train-MSS has 5 patches\n",
            "Patient D5-5539 - of group train-MSS has 4 patches\n",
            "Patient AG-3902 - of group train-MSS has 4 patches\n",
            "Patient EF-5830 - of group train-MSS has 9 patches\n",
            "Patient DM-A28A - of group train-MSS has 2 patches\n",
            "Patient AG-A01W - of group train-MSS has 6 patches\n",
            "Patient DC-6155 - of group train-MSS has 6 patches\n",
            "Patient CM-5341 - of group train-MSS has 11 patches\n",
            "Patient AA-3684 - of group train-MSS has 4 patches\n",
            "Patient CK-4952 - of group train-MSS has 4 patches\n",
            "Patient AA-3666 - of group train-MSS has 5 patches\n",
            "Patient A6-6138 - of group train-MSS has 2 patches\n",
            "Patient CM-6678 - of group train-MSS has 4 patches\n",
            "Patient F4-6569 - of group train-MSS has 3 patches\n",
            "Patient QL-A97D - of group train-MSS has 7 patches\n",
            "Patient DM-A28E - of group train-MSS has 11 patches\n",
            "Patient F5-6813 - of group train-MSS has 9 patches\n",
            "Patient CM-6677 - of group train-MSS has 9 patches\n",
            "Patient F4-6459 - of group train-MSS has 4 patches\n",
            "Patient DC-4749 - of group train-MSS has 9 patches\n",
            "Patient AG-A002 - of group train-MSS has 4 patches\n",
            "Patient CL-5918 - of group train-MSS has 10 patches\n",
            "Patient D5-5538 - of group train-MSS has 9 patches\n",
            "Patient D5-6535 - of group train-MSS has 2 patches\n",
            "Patient CM-4744 - of group train-MSS has 3 patches\n",
            "Patient EI-6881 - of group train-MSS has 3 patches\n",
            "Patient AA-3831 - of group train-MSS has 3 patches\n",
            "Patient AA-A02H - of group train-MSS has 2 patches\n",
            "Patient AA-3685 - of group train-MSS has 2 patches\n",
            "Patient F4-6805 - of group train-MSS has 7 patches\n",
            "Patient CM-5863 - of group train-MSS has 2 patches\n",
            "Patient AA-3984 - of group train-MSS has 3 patches\n",
            "Patient F5-6861 - of group train-MSS has 4 patches\n",
            "Patient A6-6649 - of group train-MSS has 1 patches\n",
            "Patient AF-6655 - of group train-MSS has 1 patches\n",
            "Patient CA-6715 - of group train-MSS has 4 patches\n",
            "Patient 3L-AA1B - of group train-MSS has 5 patches\n",
            "Patient F4-6808 - of group train-MSS has 6 patches\n",
            "Patient AA-3975 - of group train-MSS has 1 patches\n",
            "Patient A6-4105 - of group train-MSS has 3 patches\n",
            "Patient AA-3693 - of group train-MSS has 2 patches\n",
            "Patient AA-3673 - of group train-MSS has 1 patches\n",
            "Patient AZ-4682 - of group train-MSS has 6 patches\n",
            "Patient F4-6854 - of group train-MSS has 1 patches\n",
            "Patient A6-6654 - of group train-MSS has 4 patches\n",
            "Patient DM-A1D0 - of group train-MSS has 4 patches\n",
            "Patient AF-2690 - of group train-MSS has 7 patches\n",
            "Patient CM-6165 - of group train-MSS has 4 patches\n",
            "Patient EI-7004 - of group train-MSS has 1 patches\n",
            "Patient AG-A01N - of group train-MSS has 3 patches\n",
            "Patient AA-A02Y - of group train-MSS has 2 patches\n",
            "Patient AZ-4681 - of group train-MSS has 3 patches\n",
            "Patient AY-4070 - of group train-MSS has 1 patches\n",
            "Patient AA-3979 - of group train-MSS has 3 patches\n",
            "Patient A6-5667 - of group train-MSS has 1 patches\n",
            "Patient AG-3909 - of group train-MSS has 1 patches\n",
            "Patient AG-A011 - of group train-MSS has 3 patches\n",
            "Patient AG-3883 - of group train-MSS has 4 patches\n",
            "Patient AF-2693 - of group train-MSS has 1 patches\n",
            "Patient AA-3846 - of group train-MSS has 1 patches\n",
            "Patient AD-6890 - of group train-MSS has 1 patches\n",
            "Patient G4-6626 - of group train-MSS has 1 patches\n",
            "Patient DC-5337 - of group train-MSS has 2 patches\n",
            "Patient AG-3885 - of group train-MSS has 1 patches\n",
            "Patient CA-6718 - of group train-MSS has 4 patches\n",
            "Patient AD-6965 - of group train-MSS has 1 patches\n",
            "Patient AG-A026 - of group train-MSS has 2 patches\n",
            "Patient AA-3994 - of group train-MSS has 1 patches\n",
            "Patient DM-A28M - of group train-MSS has 2 patches\n",
            "Patient AA-3858 - of group train-MSS has 1 patches\n",
            "Patient AG-3878 - of group train-MSS has 3 patches\n",
            "Patient AA-3842 - of group train-MSS has 1 patches\n",
            "Patient D5-6533 - of group train-MSS has 3 patches\n",
            "Patient D5-7000 - of group train-MSS has 1 patches\n",
            "Patient F4-6463 - of group train-MSS has 1 patches\n",
            "Patient AG-4021 - of group train-MSS has 1 patches\n",
            "Patient AG-A01L - of group train-MSS has 2 patches\n"
          ]
        },
        {
          "output_type": "stream",
          "name": "stderr",
          "text": [
            "/usr/local/lib/python3.7/dist-packages/sklearn/decomposition/_pca.py:501: RuntimeWarning: invalid value encountered in true_divide\n",
            "  explained_variance_ratio_ = explained_variance_ / total_var\n"
          ]
        },
        {
          "output_type": "stream",
          "name": "stdout",
          "text": [
            "Patient A6-6142 - of group train-MSS has 2 patches\n"
          ]
        },
        {
          "output_type": "stream",
          "name": "stderr",
          "text": [
            "/usr/local/lib/python3.7/dist-packages/sklearn/decomposition/_pca.py:501: RuntimeWarning: invalid value encountered in true_divide\n",
            "  explained_variance_ratio_ = explained_variance_ / total_var\n"
          ]
        }
      ]
    },
    {
      "cell_type": "markdown",
      "source": [
        "# ML Part"
      ],
      "metadata": {
        "id": "vBUT9hMun8Fn"
      }
    },
    {
      "cell_type": "code",
      "source": [
        "class AutoEncoder(nn.Module):\n",
        "\n",
        "  def __init__(self, head, rest):\n",
        "    super(AutoEncoder, self).__init__()\n",
        "    self.encode = head\n",
        "    self.decode = rest\n",
        "  \n",
        "  def forward(self, imgs):\n",
        "    x = self.encode(imgs)\n",
        "    return self.decode(x)\n",
        "\n",
        "  def feature_ext(self, imgs):\n",
        "    return self.encode(imgs)"
      ],
      "metadata": {
        "id": "8ReMGN_XAxsF"
      },
      "execution_count": null,
      "outputs": []
    },
    {
      "cell_type": "code",
      "source": [
        "class vgg16_features(nn.Module):\n",
        "  def __init__(self):\n",
        "    super(vgg16_features, self).__init__()\n",
        "    self.m = torchvision.models.vgg16(pretrained=True)\n",
        "\n",
        "  def forward(self, imgs):\n",
        "    ftrs = self.m.features(imgs)\n",
        "    return torch.max(ftrs, dim=1).values\n",
        "    "
      ],
      "metadata": {
        "id": "La5H9qOey8Vs"
      },
      "execution_count": null,
      "outputs": []
    },
    {
      "cell_type": "code",
      "source": [
        "class MLPmodel(nn.Module):\n",
        "  def __init__(self, input):\n",
        "    super(MLPmodel, self).__init__()\n",
        "    self.mlp = nn.Sequential(\n",
        "        nn.Linear(input, input//8),\n",
        "        nn.ReLU(inplace=True),\n",
        "        nn.Linear(input//8, 2), \n",
        "        nn.Softmax(dim=0))\n",
        "\n",
        "    \n",
        "  def forward(self, ev):\n",
        "    ev_ = ev.view(ev.shape[0], -1)\n",
        "    return self.mlp(ev_)\n",
        "\n",
        "\n",
        "class LinearReg(nn.Module):\n",
        "  def __init__(self, input):\n",
        "    super(LinearReg, self).__init__()\n",
        "    self.mlp = nn.Sequential(\n",
        "        nn.Linear(input, 2, bias=True),\n",
        "        nn.Softmax())\n",
        "\n",
        "  def forward(self, ev):\n",
        "    ev_ = ev.view(ev.shape[0], -1)\n",
        "    ev_ = self.mlp(ev_)\n",
        "\n",
        "    return ev_\n",
        "\n",
        "\n",
        "\n",
        "def calculate_accuracy(model, dataloader, criterion, device):\n",
        "    \"\"\"Used on a set model to gain loss and accuracy, does not train\"\"\"\n",
        "    model.eval() # put in evaluation mode\n",
        "    total_correct = 0\n",
        "    total_images = 0\n",
        "    total_loss = 0\n",
        "    with torch.no_grad():\n",
        "        for data in dataloader: # Batch wise check\n",
        "            images, labels = data\n",
        "            images = images.to(device)\n",
        "            labels = labels.to(device)\n",
        "            outputs = model(images) # Run the images through the net\n",
        "            _, predicted = torch.max(outputs.data, 1) # Top  result\n",
        "            total_images += labels.size(0)\n",
        "            total_correct += (predicted == labels).sum().item()\n",
        "            total_loss += criterion(outputs, labels).data.item() / len(dataloader)\n",
        "\n",
        "    model_accuracy = total_correct / total_images * 100\n",
        "    return model_accuracy, total_loss\n",
        "\n",
        "\n",
        "def train(hp):\n",
        "  \n",
        "  model = hp[\"model\"].to(get_device())\n",
        "  criterion = nn.CrossEntropyLoss()\n",
        "  optimizer = torch.optim.Adam(model.parameters(), lr= hp['lr'])\n",
        "  ds_train, ds_test = hp['dataset']\n",
        "  ld_train = torch.utils.data.DataLoader(ds_train, batch_size=hp['bts'], shuffle=True)\n",
        "  ld_test = torch.utils.data.DataLoader(ds_test, batch_size=hp['bts'], shuffle=True)\n",
        "  device = get_device()\n",
        "\n",
        "    # training loop\n",
        "  train_error = []\n",
        "  test_error = []\n",
        "  for epoch in range(1, hp['epochs'] + 1):\n",
        "      model.train()  # put in training mode\n",
        "      running_loss = 0.0\n",
        "      epoch_time = time.time()\n",
        "      for i, data in enumerate(ld_train, 0):\n",
        "          # get the inputs\n",
        "          inputs, labels = data\n",
        "          # send them to device\n",
        "          inputs = inputs.to(device)\n",
        "          labels = labels.to(device)\n",
        "\n",
        "          # forward + backward + optimize\n",
        "          outputs = model(inputs)  # forward pass\n",
        "          loss = criterion(outputs, labels)  # calculate the loss\n",
        "          # always the same 3 steps\n",
        "          optimizer.zero_grad()  # zero the parameter gradients\n",
        "          loss.backward()  # backpropagation\n",
        "          optimizer.step()  # update parameters\n",
        "\n",
        "          # Add statistics\n",
        "          train_error.append(loss.data.item())\n",
        "          running_loss += loss.data.item()\n",
        "\n",
        "      # Advance in learning rate schedule\n",
        "      # Normalizing the loss by the total number of train batches\n",
        "      running_loss /= len(ld_train)\n",
        "\n",
        "      # Calculate training/test set accuracy of the existing model\n",
        "      train_accuracy, _= calculate_accuracy(model, ld_train, criterion, device)\n",
        "      test_accuracy, test_loss = calculate_accuracy(model, ld_test, criterion, device)\n",
        "      test_error.append(test_loss)\n",
        "      log = \"Epoch: {:2d} | Loss: {:.4f} | Training accuracy: {:.3f}% | Test accuracy: {:.3f}% | \".format(epoch, running_loss, train_accuracy, test_accuracy)\n",
        "      #train_error.append(running_loss)\n",
        "      epoch_time = time.time() - epoch_time\n",
        "      log += \"Epoch Time: {:.2f} secs\".format(epoch_time)\n",
        "      print(log)\n",
        "    \n",
        "  print('==> Finished Training ...')\n",
        "\n",
        "  # Graph test and train loss across iterations\n",
        "  batches = len(ld_train)\n",
        "  itr = list(range(hp['epochs'] * batches))\n",
        "  plt.plot(itr, train_error, 'r--', label='Train batch loss', linewidth=0.5)\n",
        "  itr = list(range(batches,(hp['epochs'] * len(ld_train)+batches), batches))\n",
        "  plt.plot(itr, test_error, color='g', label='Test Epoch loss', linewidth= 3)\n",
        "  plt.title('Loss')\n",
        "  plt.xlabel('Batch')\n",
        "  plt.ylim(0, max(train_error))\n",
        "  plt.ylabel('Loss')\n",
        "  plt.legend()\n",
        "  plt.show()\n",
        "\n",
        "  # save model\n",
        "  print('==> Saving model ...')\n",
        "  state = {\n",
        "      'net': model.state_dict(),\n",
        "      'epoch': epoch,\n",
        "  }\n",
        "  if not os.path.isdir('checkpoints'):\n",
        "      os.mkdir('checkpoints')\n",
        "  torch.save(state, './checkpoints/' + hp['name'] +'.pth')\n",
        "   "
      ],
      "metadata": {
        "id": "Wgw2EMQ3DBm_"
      },
      "execution_count": 28,
      "outputs": []
    },
    {
      "cell_type": "markdown",
      "source": [
        "# Run Networks"
      ],
      "metadata": {
        "id": "LdmB6u0loBwR"
      }
    },
    {
      "cell_type": "code",
      "source": [
        "#def preprocess(dir, dir_new):\n",
        "#  model = vgg16_features()\n",
        "#  model.eval()\n",
        "#  #model.features()\n",
        "#  transform = get_transform(dir)\n",
        "#  dataset = torchvision.datasets.DatasetFolder(root=dir, loader=torchvision.io.read_image, extensions='.png', transform=transform)\n",
        "#  batch_aug(dataset, dir_new, get_class, batch_PCA, model)\n",
        "\n",
        "def process(dir_train, dir_test , model, name):\n",
        "  transform = transforms.Compose([transforms.ToTensor()])\n",
        "  dataset = []\n",
        "  dataset.append(torchvision.datasets.DatasetFolder(root=dir_train, loader=read_mtx, extensions='.npy', transform=transform))\n",
        "  dataset.append(torchvision.datasets.DatasetFolder(root=dir_test, loader=read_mtx, extensions='.npy', transform=transform))\n",
        "\n",
        "  hyper_parameters = {\n",
        "      'model': model,\n",
        "      'lr': 1e-3,\n",
        "      'bts': 2,\n",
        "      'dataset': dataset,\n",
        "      'epochs': 12,\n",
        "      'name': name\n",
        "  }\n",
        "  train(hyper_parameters)"
      ],
      "metadata": {
        "id": "DGNsd8h-TBtE"
      },
      "execution_count": 29,
      "outputs": []
    },
    {
      "cell_type": "code",
      "source": [
        "process('../test_dim_red', '../test_dim_red', LinearReg(4), \"LR_test\")"
      ],
      "metadata": {
        "id": "hq76k7k4hyfy",
        "colab": {
          "base_uri": "https://localhost:8080/",
          "height": 365
        },
        "outputId": "9171b5cd-e984-4358-d8b4-3e1edb9b709f"
      },
      "execution_count": 30,
      "outputs": [
        {
          "output_type": "stream",
          "name": "stderr",
          "text": [
            "/usr/local/lib/python3.7/dist-packages/torch/nn/modules/container.py:141: UserWarning: Implicit dimension choice for softmax has been deprecated. Change the call to include dim=X as an argument.\n",
            "  input = module(input)\n"
          ]
        },
        {
          "output_type": "error",
          "ename": "RuntimeError",
          "evalue": "ignored",
          "traceback": [
            "\u001b[0;31m---------------------------------------------------------------------------\u001b[0m",
            "\u001b[0;31mRuntimeError\u001b[0m                              Traceback (most recent call last)",
            "\u001b[0;32m<ipython-input-30-c0521ac19dee>\u001b[0m in \u001b[0;36m<module>\u001b[0;34m()\u001b[0m\n\u001b[0;32m----> 1\u001b[0;31m \u001b[0mprocess\u001b[0m\u001b[0;34m(\u001b[0m\u001b[0;34m'../test_dim_red'\u001b[0m\u001b[0;34m,\u001b[0m \u001b[0;34m'../test_dim_red'\u001b[0m\u001b[0;34m,\u001b[0m \u001b[0mLinearReg\u001b[0m\u001b[0;34m(\u001b[0m\u001b[0;36m4\u001b[0m\u001b[0;34m)\u001b[0m\u001b[0;34m,\u001b[0m \u001b[0;34m\"LR_test\"\u001b[0m\u001b[0;34m)\u001b[0m\u001b[0;34m\u001b[0m\u001b[0;34m\u001b[0m\u001b[0m\n\u001b[0m",
            "\u001b[0;32m<ipython-input-29-0928a0ca7167>\u001b[0m in \u001b[0;36mprocess\u001b[0;34m(dir_train, dir_test, model, name)\u001b[0m\n\u001b[1;32m     21\u001b[0m       \u001b[0;34m'name'\u001b[0m\u001b[0;34m:\u001b[0m \u001b[0mname\u001b[0m\u001b[0;34m\u001b[0m\u001b[0;34m\u001b[0m\u001b[0m\n\u001b[1;32m     22\u001b[0m   }\n\u001b[0;32m---> 23\u001b[0;31m   \u001b[0mtrain\u001b[0m\u001b[0;34m(\u001b[0m\u001b[0mhyper_parameters\u001b[0m\u001b[0;34m)\u001b[0m\u001b[0;34m\u001b[0m\u001b[0;34m\u001b[0m\u001b[0m\n\u001b[0m",
            "\u001b[0;32m<ipython-input-28-067c126b0ae2>\u001b[0m in \u001b[0;36mtrain\u001b[0;34m(hp)\u001b[0m\n\u001b[1;32m     75\u001b[0m \u001b[0;34m\u001b[0m\u001b[0m\n\u001b[1;32m     76\u001b[0m           \u001b[0;31m# forward + backward + optimize\u001b[0m\u001b[0;34m\u001b[0m\u001b[0;34m\u001b[0m\u001b[0;34m\u001b[0m\u001b[0m\n\u001b[0;32m---> 77\u001b[0;31m           \u001b[0moutputs\u001b[0m \u001b[0;34m=\u001b[0m \u001b[0mmodel\u001b[0m\u001b[0;34m(\u001b[0m\u001b[0minputs\u001b[0m\u001b[0;34m)\u001b[0m  \u001b[0;31m# forward pass\u001b[0m\u001b[0;34m\u001b[0m\u001b[0;34m\u001b[0m\u001b[0m\n\u001b[0m\u001b[1;32m     78\u001b[0m           \u001b[0mloss\u001b[0m \u001b[0;34m=\u001b[0m \u001b[0mcriterion\u001b[0m\u001b[0;34m(\u001b[0m\u001b[0moutputs\u001b[0m\u001b[0;34m,\u001b[0m \u001b[0mlabels\u001b[0m\u001b[0;34m)\u001b[0m  \u001b[0;31m# calculate the loss\u001b[0m\u001b[0;34m\u001b[0m\u001b[0;34m\u001b[0m\u001b[0m\n\u001b[1;32m     79\u001b[0m           \u001b[0;31m# always the same 3 steps\u001b[0m\u001b[0;34m\u001b[0m\u001b[0;34m\u001b[0m\u001b[0;34m\u001b[0m\u001b[0m\n",
            "\u001b[0;32m/usr/local/lib/python3.7/dist-packages/torch/nn/modules/module.py\u001b[0m in \u001b[0;36m_call_impl\u001b[0;34m(self, *input, **kwargs)\u001b[0m\n\u001b[1;32m   1100\u001b[0m         if not (self._backward_hooks or self._forward_hooks or self._forward_pre_hooks or _global_backward_hooks\n\u001b[1;32m   1101\u001b[0m                 or _global_forward_hooks or _global_forward_pre_hooks):\n\u001b[0;32m-> 1102\u001b[0;31m             \u001b[0;32mreturn\u001b[0m \u001b[0mforward_call\u001b[0m\u001b[0;34m(\u001b[0m\u001b[0;34m*\u001b[0m\u001b[0minput\u001b[0m\u001b[0;34m,\u001b[0m \u001b[0;34m**\u001b[0m\u001b[0mkwargs\u001b[0m\u001b[0;34m)\u001b[0m\u001b[0;34m\u001b[0m\u001b[0;34m\u001b[0m\u001b[0m\n\u001b[0m\u001b[1;32m   1103\u001b[0m         \u001b[0;31m# Do not call functions when jit is used\u001b[0m\u001b[0;34m\u001b[0m\u001b[0;34m\u001b[0m\u001b[0;34m\u001b[0m\u001b[0m\n\u001b[1;32m   1104\u001b[0m         \u001b[0mfull_backward_hooks\u001b[0m\u001b[0;34m,\u001b[0m \u001b[0mnon_full_backward_hooks\u001b[0m \u001b[0;34m=\u001b[0m \u001b[0;34m[\u001b[0m\u001b[0;34m]\u001b[0m\u001b[0;34m,\u001b[0m \u001b[0;34m[\u001b[0m\u001b[0;34m]\u001b[0m\u001b[0;34m\u001b[0m\u001b[0;34m\u001b[0m\u001b[0m\n",
            "\u001b[0;32m<ipython-input-28-067c126b0ae2>\u001b[0m in \u001b[0;36mforward\u001b[0;34m(self, ev)\u001b[0m\n\u001b[1;32m     23\u001b[0m   \u001b[0;32mdef\u001b[0m \u001b[0mforward\u001b[0m\u001b[0;34m(\u001b[0m\u001b[0mself\u001b[0m\u001b[0;34m,\u001b[0m \u001b[0mev\u001b[0m\u001b[0;34m)\u001b[0m\u001b[0;34m:\u001b[0m\u001b[0;34m\u001b[0m\u001b[0;34m\u001b[0m\u001b[0m\n\u001b[1;32m     24\u001b[0m     \u001b[0mev_\u001b[0m \u001b[0;34m=\u001b[0m \u001b[0mev\u001b[0m\u001b[0;34m.\u001b[0m\u001b[0mview\u001b[0m\u001b[0;34m(\u001b[0m\u001b[0mev\u001b[0m\u001b[0;34m.\u001b[0m\u001b[0mshape\u001b[0m\u001b[0;34m[\u001b[0m\u001b[0;36m0\u001b[0m\u001b[0;34m]\u001b[0m\u001b[0;34m,\u001b[0m \u001b[0;34m-\u001b[0m\u001b[0;36m1\u001b[0m\u001b[0;34m)\u001b[0m\u001b[0;34m\u001b[0m\u001b[0;34m\u001b[0m\u001b[0m\n\u001b[0;32m---> 25\u001b[0;31m     \u001b[0mev_\u001b[0m \u001b[0;34m=\u001b[0m \u001b[0mself\u001b[0m\u001b[0;34m.\u001b[0m\u001b[0mmlp\u001b[0m\u001b[0;34m(\u001b[0m\u001b[0mev_\u001b[0m\u001b[0;34m)\u001b[0m\u001b[0;34m\u001b[0m\u001b[0;34m\u001b[0m\u001b[0m\n\u001b[0m\u001b[1;32m     26\u001b[0m \u001b[0;34m\u001b[0m\u001b[0m\n\u001b[1;32m     27\u001b[0m     \u001b[0;32mreturn\u001b[0m \u001b[0mev_\u001b[0m\u001b[0;34m\u001b[0m\u001b[0;34m\u001b[0m\u001b[0m\n",
            "\u001b[0;32m/usr/local/lib/python3.7/dist-packages/torch/nn/modules/module.py\u001b[0m in \u001b[0;36m_call_impl\u001b[0;34m(self, *input, **kwargs)\u001b[0m\n\u001b[1;32m   1100\u001b[0m         if not (self._backward_hooks or self._forward_hooks or self._forward_pre_hooks or _global_backward_hooks\n\u001b[1;32m   1101\u001b[0m                 or _global_forward_hooks or _global_forward_pre_hooks):\n\u001b[0;32m-> 1102\u001b[0;31m             \u001b[0;32mreturn\u001b[0m \u001b[0mforward_call\u001b[0m\u001b[0;34m(\u001b[0m\u001b[0;34m*\u001b[0m\u001b[0minput\u001b[0m\u001b[0;34m,\u001b[0m \u001b[0;34m**\u001b[0m\u001b[0mkwargs\u001b[0m\u001b[0;34m)\u001b[0m\u001b[0;34m\u001b[0m\u001b[0;34m\u001b[0m\u001b[0m\n\u001b[0m\u001b[1;32m   1103\u001b[0m         \u001b[0;31m# Do not call functions when jit is used\u001b[0m\u001b[0;34m\u001b[0m\u001b[0;34m\u001b[0m\u001b[0;34m\u001b[0m\u001b[0m\n\u001b[1;32m   1104\u001b[0m         \u001b[0mfull_backward_hooks\u001b[0m\u001b[0;34m,\u001b[0m \u001b[0mnon_full_backward_hooks\u001b[0m \u001b[0;34m=\u001b[0m \u001b[0;34m[\u001b[0m\u001b[0;34m]\u001b[0m\u001b[0;34m,\u001b[0m \u001b[0;34m[\u001b[0m\u001b[0;34m]\u001b[0m\u001b[0;34m\u001b[0m\u001b[0;34m\u001b[0m\u001b[0m\n",
            "\u001b[0;32m/usr/local/lib/python3.7/dist-packages/torch/nn/modules/container.py\u001b[0m in \u001b[0;36mforward\u001b[0;34m(self, input)\u001b[0m\n\u001b[1;32m    139\u001b[0m     \u001b[0;32mdef\u001b[0m \u001b[0mforward\u001b[0m\u001b[0;34m(\u001b[0m\u001b[0mself\u001b[0m\u001b[0;34m,\u001b[0m \u001b[0minput\u001b[0m\u001b[0;34m)\u001b[0m\u001b[0;34m:\u001b[0m\u001b[0;34m\u001b[0m\u001b[0;34m\u001b[0m\u001b[0m\n\u001b[1;32m    140\u001b[0m         \u001b[0;32mfor\u001b[0m \u001b[0mmodule\u001b[0m \u001b[0;32min\u001b[0m \u001b[0mself\u001b[0m\u001b[0;34m:\u001b[0m\u001b[0;34m\u001b[0m\u001b[0;34m\u001b[0m\u001b[0m\n\u001b[0;32m--> 141\u001b[0;31m             \u001b[0minput\u001b[0m \u001b[0;34m=\u001b[0m \u001b[0mmodule\u001b[0m\u001b[0;34m(\u001b[0m\u001b[0minput\u001b[0m\u001b[0;34m)\u001b[0m\u001b[0;34m\u001b[0m\u001b[0;34m\u001b[0m\u001b[0m\n\u001b[0m\u001b[1;32m    142\u001b[0m         \u001b[0;32mreturn\u001b[0m \u001b[0minput\u001b[0m\u001b[0;34m\u001b[0m\u001b[0;34m\u001b[0m\u001b[0m\n\u001b[1;32m    143\u001b[0m \u001b[0;34m\u001b[0m\u001b[0m\n",
            "\u001b[0;32m/usr/local/lib/python3.7/dist-packages/torch/nn/modules/module.py\u001b[0m in \u001b[0;36m_call_impl\u001b[0;34m(self, *input, **kwargs)\u001b[0m\n\u001b[1;32m   1100\u001b[0m         if not (self._backward_hooks or self._forward_hooks or self._forward_pre_hooks or _global_backward_hooks\n\u001b[1;32m   1101\u001b[0m                 or _global_forward_hooks or _global_forward_pre_hooks):\n\u001b[0;32m-> 1102\u001b[0;31m             \u001b[0;32mreturn\u001b[0m \u001b[0mforward_call\u001b[0m\u001b[0;34m(\u001b[0m\u001b[0;34m*\u001b[0m\u001b[0minput\u001b[0m\u001b[0;34m,\u001b[0m \u001b[0;34m**\u001b[0m\u001b[0mkwargs\u001b[0m\u001b[0;34m)\u001b[0m\u001b[0;34m\u001b[0m\u001b[0;34m\u001b[0m\u001b[0m\n\u001b[0m\u001b[1;32m   1103\u001b[0m         \u001b[0;31m# Do not call functions when jit is used\u001b[0m\u001b[0;34m\u001b[0m\u001b[0;34m\u001b[0m\u001b[0;34m\u001b[0m\u001b[0m\n\u001b[1;32m   1104\u001b[0m         \u001b[0mfull_backward_hooks\u001b[0m\u001b[0;34m,\u001b[0m \u001b[0mnon_full_backward_hooks\u001b[0m \u001b[0;34m=\u001b[0m \u001b[0;34m[\u001b[0m\u001b[0;34m]\u001b[0m\u001b[0;34m,\u001b[0m \u001b[0;34m[\u001b[0m\u001b[0;34m]\u001b[0m\u001b[0;34m\u001b[0m\u001b[0;34m\u001b[0m\u001b[0m\n",
            "\u001b[0;32m/usr/local/lib/python3.7/dist-packages/torch/nn/modules/linear.py\u001b[0m in \u001b[0;36mforward\u001b[0;34m(self, input)\u001b[0m\n\u001b[1;32m    101\u001b[0m \u001b[0;34m\u001b[0m\u001b[0m\n\u001b[1;32m    102\u001b[0m     \u001b[0;32mdef\u001b[0m \u001b[0mforward\u001b[0m\u001b[0;34m(\u001b[0m\u001b[0mself\u001b[0m\u001b[0;34m,\u001b[0m \u001b[0minput\u001b[0m\u001b[0;34m:\u001b[0m \u001b[0mTensor\u001b[0m\u001b[0;34m)\u001b[0m \u001b[0;34m->\u001b[0m \u001b[0mTensor\u001b[0m\u001b[0;34m:\u001b[0m\u001b[0;34m\u001b[0m\u001b[0;34m\u001b[0m\u001b[0m\n\u001b[0;32m--> 103\u001b[0;31m         \u001b[0;32mreturn\u001b[0m \u001b[0mF\u001b[0m\u001b[0;34m.\u001b[0m\u001b[0mlinear\u001b[0m\u001b[0;34m(\u001b[0m\u001b[0minput\u001b[0m\u001b[0;34m,\u001b[0m \u001b[0mself\u001b[0m\u001b[0;34m.\u001b[0m\u001b[0mweight\u001b[0m\u001b[0;34m,\u001b[0m \u001b[0mself\u001b[0m\u001b[0;34m.\u001b[0m\u001b[0mbias\u001b[0m\u001b[0;34m)\u001b[0m\u001b[0;34m\u001b[0m\u001b[0;34m\u001b[0m\u001b[0m\n\u001b[0m\u001b[1;32m    104\u001b[0m \u001b[0;34m\u001b[0m\u001b[0m\n\u001b[1;32m    105\u001b[0m     \u001b[0;32mdef\u001b[0m \u001b[0mextra_repr\u001b[0m\u001b[0;34m(\u001b[0m\u001b[0mself\u001b[0m\u001b[0;34m)\u001b[0m \u001b[0;34m->\u001b[0m \u001b[0mstr\u001b[0m\u001b[0;34m:\u001b[0m\u001b[0;34m\u001b[0m\u001b[0;34m\u001b[0m\u001b[0m\n",
            "\u001b[0;32m/usr/local/lib/python3.7/dist-packages/torch/nn/functional.py\u001b[0m in \u001b[0;36mlinear\u001b[0;34m(input, weight, bias)\u001b[0m\n\u001b[1;32m   1846\u001b[0m     \u001b[0;32mif\u001b[0m \u001b[0mhas_torch_function_variadic\u001b[0m\u001b[0;34m(\u001b[0m\u001b[0minput\u001b[0m\u001b[0;34m,\u001b[0m \u001b[0mweight\u001b[0m\u001b[0;34m,\u001b[0m \u001b[0mbias\u001b[0m\u001b[0;34m)\u001b[0m\u001b[0;34m:\u001b[0m\u001b[0;34m\u001b[0m\u001b[0;34m\u001b[0m\u001b[0m\n\u001b[1;32m   1847\u001b[0m         \u001b[0;32mreturn\u001b[0m \u001b[0mhandle_torch_function\u001b[0m\u001b[0;34m(\u001b[0m\u001b[0mlinear\u001b[0m\u001b[0;34m,\u001b[0m \u001b[0;34m(\u001b[0m\u001b[0minput\u001b[0m\u001b[0;34m,\u001b[0m \u001b[0mweight\u001b[0m\u001b[0;34m,\u001b[0m \u001b[0mbias\u001b[0m\u001b[0;34m)\u001b[0m\u001b[0;34m,\u001b[0m \u001b[0minput\u001b[0m\u001b[0;34m,\u001b[0m \u001b[0mweight\u001b[0m\u001b[0;34m,\u001b[0m \u001b[0mbias\u001b[0m\u001b[0;34m=\u001b[0m\u001b[0mbias\u001b[0m\u001b[0;34m)\u001b[0m\u001b[0;34m\u001b[0m\u001b[0;34m\u001b[0m\u001b[0m\n\u001b[0;32m-> 1848\u001b[0;31m     \u001b[0;32mreturn\u001b[0m \u001b[0mtorch\u001b[0m\u001b[0;34m.\u001b[0m\u001b[0m_C\u001b[0m\u001b[0;34m.\u001b[0m\u001b[0m_nn\u001b[0m\u001b[0;34m.\u001b[0m\u001b[0mlinear\u001b[0m\u001b[0;34m(\u001b[0m\u001b[0minput\u001b[0m\u001b[0;34m,\u001b[0m \u001b[0mweight\u001b[0m\u001b[0;34m,\u001b[0m \u001b[0mbias\u001b[0m\u001b[0;34m)\u001b[0m\u001b[0;34m\u001b[0m\u001b[0;34m\u001b[0m\u001b[0m\n\u001b[0m\u001b[1;32m   1849\u001b[0m \u001b[0;34m\u001b[0m\u001b[0m\n\u001b[1;32m   1850\u001b[0m \u001b[0;34m\u001b[0m\u001b[0m\n",
            "\u001b[0;31mRuntimeError\u001b[0m: expected scalar type Float but found Long"
          ]
        }
      ]
    },
    {
      "cell_type": "markdown",
      "source": [
        "# Grave yard"
      ],
      "metadata": {
        "id": "xg44H4J-Um71"
      }
    },
    {
      "cell_type": "code",
      "source": [
        "class patches_DataSet(torchvision.datasets.DatasetFolder):\n",
        "  def __init__(root='./data'):\n",
        "    super(torchvision.datasets.DatasetFolder, seld).init__(root=root, loader=torchvision.io.read_image, extensions='.png')\n",
        "\n",
        "  def find_classes(dir):\n",
        "    return None"
      ],
      "metadata": {
        "id": "5aqZoNEuQTRi"
      },
      "execution_count": null,
      "outputs": []
    },
    {
      "cell_type": "code",
      "source": [
        "def get_class(ds, dir):\n",
        "  cls = ds.find_classes(dir)[0]\n",
        "  ret = []\n",
        "  for c in cls:\n",
        "    case = c[-1]\n",
        "    ret.append(case)\n",
        "  return ret"
      ],
      "metadata": {
        "id": "zLBpwMzK0AC0"
      },
      "execution_count": null,
      "outputs": []
    }
  ],
  "metadata": {
    "kernelspec": {
      "display_name": "Python 3",
      "language": "python",
      "name": "python3"
    },
    "language_info": {
      "codemirror_mode": {
        "name": "ipython",
        "version": 3
      },
      "file_extension": ".py",
      "mimetype": "text/x-python",
      "name": "python",
      "nbconvert_exporter": "python",
      "pygments_lexer": "ipython3",
      "version": "3.6.9"
    },
    "colab": {
      "name": "Project_jupyter.ipynb",
      "provenance": []
    }
  },
  "nbformat": 4,
  "nbformat_minor": 0
}