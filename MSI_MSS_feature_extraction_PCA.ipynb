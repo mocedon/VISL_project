{
 "cells": [
  {
   "cell_type": "code",
   "execution_count": 1,
   "id": "a1c725bc",
   "metadata": {},
   "outputs": [],
   "source": [
    "import os\n",
    "import glob\n",
    "import matplotlib.pyplot as plt\n",
    "import re\n",
    "import json \n",
    "import pandas as pd\n",
    "\n",
    "#pytorch\n",
    "import torch\n",
    "from torch.utils.data import Dataset, DataLoader\n",
    "import cv2"
   ]
  },
  {
   "cell_type": "markdown",
   "id": "6489d8e5",
   "metadata": {},
   "source": [
    "## Details of data\n",
    "* patch label of an MSI type is 1.\n",
    "* patch label of an MSS type is 0.\n"
   ]
  },
  {
   "cell_type": "markdown",
   "id": "cba2b2f8",
   "metadata": {},
   "source": [
    "# Make a data.json file \n",
    "- expect MSS directory with MSS patches images \n",
    "- expect MSIMUT directory with MSI patches images\n",
    "\n",
    "- change manually the path"
   ]
  },
  {
   "cell_type": "code",
   "execution_count": 75,
   "id": "b8b870f5",
   "metadata": {},
   "outputs": [],
   "source": [
    "# set patches directory\n",
    "# path = os.path.abspath('./MSIMUT/')\n",
    "path = os.path.abspath('./MSS/')\n",
    "data_path = os.path.join(path,'*g')\n",
    "files = glob.glob(data_path)"
   ]
  },
  {
   "cell_type": "code",
   "execution_count": 76,
   "id": "d37d66d8",
   "metadata": {},
   "outputs": [],
   "source": [
    "def build_patch_dict(file_name, is_MSI):\n",
    "    patch_dict = {}\n",
    "    file_name_list = file_name.split('-')\n",
    "    patch_id, patient_id = file_name_list[1], file_name_list[2:5]\n",
    "    patient_id = '-'.join(patient_id)\n",
    "    patch_dict['img_name'] = file_name  \n",
    "    patch_dict['patient_id'] = patient_id\n",
    "    patch_dict['patch_id'] = patch_id\n",
    "    patch_dict['label'] = is_MSI  \n",
    "    return patch_dict\n",
    "\n",
    "def get_file_name(file):\n",
    "    delimiters = \"\\\\\", \".\"\n",
    "    regexPattern = '|'.join(map(re.escape, delimiters))\n",
    "    return re.split(regexPattern, file)[-2]\n",
    "    "
   ]
  },
  {
   "cell_type": "code",
   "execution_count": null,
   "id": "0c64de56",
   "metadata": {},
   "outputs": [],
   "source": [
    "patches_list = []\n",
    "for file in files:\n",
    "    file_name = get_file_name(file)\n",
    "    patch_dict = build_patch_dict(file_name, is_MSI=0)\n",
    "    print(patch_dict)\n",
    "    patches_list.append(patch_dict)\n",
    "    \n",
    "    "
   ]
  },
  {
   "cell_type": "code",
   "execution_count": 78,
   "id": "b6eceb18",
   "metadata": {},
   "outputs": [],
   "source": [
    "# set data to save \n",
    "data = {'patches':patches_list}"
   ]
  },
  {
   "cell_type": "code",
   "execution_count": 79,
   "id": "89e7b6d2",
   "metadata": {},
   "outputs": [],
   "source": [
    "# save the data\n",
    "output_file = os.path.join(path, 'data.json')\n",
    "with open(output_file, 'w') as outfile:\n",
    "    json.dump(data, outfile)"
   ]
  },
  {
   "cell_type": "markdown",
   "id": "4c9d4bf1",
   "metadata": {},
   "source": [
    "# Load data.json file from dir"
   ]
  },
  {
   "cell_type": "code",
   "execution_count": 2,
   "id": "579f4bae",
   "metadata": {},
   "outputs": [],
   "source": [
    "# laod MSI data \n",
    "MSI_dir = os.path.abspath('./MSIMUT/')\n",
    "path_json_file = os.path.join(MSI_dir, 'data.json')\n",
    "with open(path_json_file) as json_file:\n",
    "    MSI_data = json.load(json_file)"
   ]
  },
  {
   "cell_type": "code",
   "execution_count": 3,
   "id": "3e67a3d7",
   "metadata": {},
   "outputs": [],
   "source": [
    "# laod MSS data \n",
    "MSS_dir = os.path.abspath('./MSS/')\n",
    "path_json_file = os.path.join(MSS_dir, 'data.json')\n",
    "with open(path_json_file) as json_file:\n",
    "    MSS_data = json.load(json_file)"
   ]
  },
  {
   "cell_type": "code",
   "execution_count": 4,
   "id": "b6d100e5",
   "metadata": {},
   "outputs": [],
   "source": [
    "MSI_patches_list = MSI_data['patches']\n",
    "MSS_patches_list = MSS_data['patches']"
   ]
  },
  {
   "cell_type": "code",
   "execution_count": 5,
   "id": "cf8ab41f",
   "metadata": {},
   "outputs": [],
   "source": [
    "MSI_df = pd.DataFrame(MSI_patches_list)\n",
    "MSS_df = pd.DataFrame(MSS_patches_list)"
   ]
  },
  {
   "cell_type": "code",
   "execution_count": 6,
   "id": "98537d71",
   "metadata": {},
   "outputs": [
    {
     "data": {
      "text/plain": [
       "Index(['img_name', 'patient_id', 'patch_id', 'label'], dtype='object')"
      ]
     },
     "execution_count": 6,
     "metadata": {},
     "output_type": "execute_result"
    }
   ],
   "source": [
    "MSI_df.columns"
   ]
  },
  {
   "cell_type": "code",
   "execution_count": 7,
   "id": "92eea6cb",
   "metadata": {},
   "outputs": [
    {
     "name": "stdout",
     "output_type": "stream",
     "text": [
      "MSI patches number: 28335\n",
      "MSS patches number: 70569\n"
     ]
    }
   ],
   "source": [
    "print(f\"MSI patches number: {len(MSI_df)}\")\n",
    "print(f\"MSS patches number: {len(MSS_df)}\")"
   ]
  },
  {
   "cell_type": "code",
   "execution_count": 8,
   "id": "70f9ed54",
   "metadata": {},
   "outputs": [
    {
     "data": {
      "text/html": [
       "<div>\n",
       "<style scoped>\n",
       "    .dataframe tbody tr th:only-of-type {\n",
       "        vertical-align: middle;\n",
       "    }\n",
       "\n",
       "    .dataframe tbody tr th {\n",
       "        vertical-align: top;\n",
       "    }\n",
       "\n",
       "    .dataframe thead th {\n",
       "        text-align: right;\n",
       "    }\n",
       "</style>\n",
       "<table border=\"1\" class=\"dataframe\">\n",
       "  <thead>\n",
       "    <tr style=\"text-align: right;\">\n",
       "      <th></th>\n",
       "      <th>img_name</th>\n",
       "      <th>patient_id</th>\n",
       "      <th>patch_id</th>\n",
       "      <th>label</th>\n",
       "    </tr>\n",
       "  </thead>\n",
       "  <tbody>\n",
       "    <tr>\n",
       "      <th>0</th>\n",
       "      <td>blk-AAAFIYHTSVIE-TCGA-G4-6309-01Z-00-DX1</td>\n",
       "      <td>TCGA-G4-6309</td>\n",
       "      <td>AAAFIYHTSVIE</td>\n",
       "      <td>1</td>\n",
       "    </tr>\n",
       "    <tr>\n",
       "      <th>1</th>\n",
       "      <td>blk-AAAITPVFKGLV-TCGA-AZ-6601-01Z-00-DX1</td>\n",
       "      <td>TCGA-AZ-6601</td>\n",
       "      <td>AAAITPVFKGLV</td>\n",
       "      <td>1</td>\n",
       "    </tr>\n",
       "    <tr>\n",
       "      <th>2</th>\n",
       "      <td>blk-AAALIQFQLCHN-TCGA-CK-6747-01Z-00-DX1</td>\n",
       "      <td>TCGA-CK-6747</td>\n",
       "      <td>AAALIQFQLCHN</td>\n",
       "      <td>1</td>\n",
       "    </tr>\n",
       "    <tr>\n",
       "      <th>3</th>\n",
       "      <td>blk-AAAPDFFDHLSQ-TCGA-AZ-4615-01Z-00-DX1</td>\n",
       "      <td>TCGA-AZ-4615</td>\n",
       "      <td>AAAPDFFDHLSQ</td>\n",
       "      <td>1</td>\n",
       "    </tr>\n",
       "    <tr>\n",
       "      <th>4</th>\n",
       "      <td>blk-AAAPRACLYGDL-TCGA-AZ-4615-01Z-00-DX1</td>\n",
       "      <td>TCGA-AZ-4615</td>\n",
       "      <td>AAAPRACLYGDL</td>\n",
       "      <td>1</td>\n",
       "    </tr>\n",
       "    <tr>\n",
       "      <th>...</th>\n",
       "      <td>...</td>\n",
       "      <td>...</td>\n",
       "      <td>...</td>\n",
       "      <td>...</td>\n",
       "    </tr>\n",
       "    <tr>\n",
       "      <th>28330</th>\n",
       "      <td>blk-YYWTEYPVELYD-TCGA-D5-6530-01Z-00-DX1</td>\n",
       "      <td>TCGA-D5-6530</td>\n",
       "      <td>YYWTEYPVELYD</td>\n",
       "      <td>1</td>\n",
       "    </tr>\n",
       "    <tr>\n",
       "      <th>28331</th>\n",
       "      <td>blk-YYYGRRDYYWPI-TCGA-AY-6197-01Z-00-DX1</td>\n",
       "      <td>TCGA-AY-6197</td>\n",
       "      <td>YYYGRRDYYWPI</td>\n",
       "      <td>1</td>\n",
       "    </tr>\n",
       "    <tr>\n",
       "      <th>28332</th>\n",
       "      <td>blk-YYYIEENKPLGH-TCGA-CK-6747-01Z-00-DX1</td>\n",
       "      <td>TCGA-CK-6747</td>\n",
       "      <td>YYYIEENKPLGH</td>\n",
       "      <td>1</td>\n",
       "    </tr>\n",
       "    <tr>\n",
       "      <th>28333</th>\n",
       "      <td>blk-YYYNVIYSTFYF-TCGA-AY-6197-01Z-00-DX1</td>\n",
       "      <td>TCGA-AY-6197</td>\n",
       "      <td>YYYNVIYSTFYF</td>\n",
       "      <td>1</td>\n",
       "    </tr>\n",
       "    <tr>\n",
       "      <th>28334</th>\n",
       "      <td>blk-YYYTYTAIYKSM-TCGA-A6-2686-01Z-00-DX1</td>\n",
       "      <td>TCGA-A6-2686</td>\n",
       "      <td>YYYTYTAIYKSM</td>\n",
       "      <td>1</td>\n",
       "    </tr>\n",
       "  </tbody>\n",
       "</table>\n",
       "<p>28335 rows × 4 columns</p>\n",
       "</div>"
      ],
      "text/plain": [
       "                                       img_name    patient_id      patch_id  \\\n",
       "0      blk-AAAFIYHTSVIE-TCGA-G4-6309-01Z-00-DX1  TCGA-G4-6309  AAAFIYHTSVIE   \n",
       "1      blk-AAAITPVFKGLV-TCGA-AZ-6601-01Z-00-DX1  TCGA-AZ-6601  AAAITPVFKGLV   \n",
       "2      blk-AAALIQFQLCHN-TCGA-CK-6747-01Z-00-DX1  TCGA-CK-6747  AAALIQFQLCHN   \n",
       "3      blk-AAAPDFFDHLSQ-TCGA-AZ-4615-01Z-00-DX1  TCGA-AZ-4615  AAAPDFFDHLSQ   \n",
       "4      blk-AAAPRACLYGDL-TCGA-AZ-4615-01Z-00-DX1  TCGA-AZ-4615  AAAPRACLYGDL   \n",
       "...                                         ...           ...           ...   \n",
       "28330  blk-YYWTEYPVELYD-TCGA-D5-6530-01Z-00-DX1  TCGA-D5-6530  YYWTEYPVELYD   \n",
       "28331  blk-YYYGRRDYYWPI-TCGA-AY-6197-01Z-00-DX1  TCGA-AY-6197  YYYGRRDYYWPI   \n",
       "28332  blk-YYYIEENKPLGH-TCGA-CK-6747-01Z-00-DX1  TCGA-CK-6747  YYYIEENKPLGH   \n",
       "28333  blk-YYYNVIYSTFYF-TCGA-AY-6197-01Z-00-DX1  TCGA-AY-6197  YYYNVIYSTFYF   \n",
       "28334  blk-YYYTYTAIYKSM-TCGA-A6-2686-01Z-00-DX1  TCGA-A6-2686  YYYTYTAIYKSM   \n",
       "\n",
       "       label  \n",
       "0          1  \n",
       "1          1  \n",
       "2          1  \n",
       "3          1  \n",
       "4          1  \n",
       "...      ...  \n",
       "28330      1  \n",
       "28331      1  \n",
       "28332      1  \n",
       "28333      1  \n",
       "28334      1  \n",
       "\n",
       "[28335 rows x 4 columns]"
      ]
     },
     "execution_count": 8,
     "metadata": {},
     "output_type": "execute_result"
    }
   ],
   "source": [
    "MSI_df"
   ]
  },
  {
   "cell_type": "code",
   "execution_count": 9,
   "id": "d2665104",
   "metadata": {},
   "outputs": [
    {
     "data": {
      "text/html": [
       "<div>\n",
       "<style scoped>\n",
       "    .dataframe tbody tr th:only-of-type {\n",
       "        vertical-align: middle;\n",
       "    }\n",
       "\n",
       "    .dataframe tbody tr th {\n",
       "        vertical-align: top;\n",
       "    }\n",
       "\n",
       "    .dataframe thead th {\n",
       "        text-align: right;\n",
       "    }\n",
       "</style>\n",
       "<table border=\"1\" class=\"dataframe\">\n",
       "  <thead>\n",
       "    <tr style=\"text-align: right;\">\n",
       "      <th></th>\n",
       "      <th>img_name</th>\n",
       "      <th>patient_id</th>\n",
       "      <th>patch_id</th>\n",
       "      <th>label</th>\n",
       "    </tr>\n",
       "  </thead>\n",
       "  <tbody>\n",
       "    <tr>\n",
       "      <th>0</th>\n",
       "      <td>blk-AAADNFVSTKEF-TCGA-DC-6682-01Z-00-DX1</td>\n",
       "      <td>TCGA-DC-6682</td>\n",
       "      <td>AAADNFVSTKEF</td>\n",
       "      <td>0</td>\n",
       "    </tr>\n",
       "    <tr>\n",
       "      <th>1</th>\n",
       "      <td>blk-AAADPEIDNRVQ-TCGA-CM-5868-01Z-00-DX1</td>\n",
       "      <td>TCGA-CM-5868</td>\n",
       "      <td>AAADPEIDNRVQ</td>\n",
       "      <td>0</td>\n",
       "    </tr>\n",
       "    <tr>\n",
       "      <th>2</th>\n",
       "      <td>blk-AAAFDSIYEAPC-TCGA-AY-A71X-01Z-00-DX1</td>\n",
       "      <td>TCGA-AY-A71X</td>\n",
       "      <td>AAAFDSIYEAPC</td>\n",
       "      <td>0</td>\n",
       "    </tr>\n",
       "    <tr>\n",
       "      <th>3</th>\n",
       "      <td>blk-AAAHVLHKARAN-TCGA-AY-A71X-01Z-00-DX1</td>\n",
       "      <td>TCGA-AY-A71X</td>\n",
       "      <td>AAAHVLHKARAN</td>\n",
       "      <td>0</td>\n",
       "    </tr>\n",
       "    <tr>\n",
       "      <th>4</th>\n",
       "      <td>blk-AAAIANVEVMQV-TCGA-DC-6683-01Z-00-DX1</td>\n",
       "      <td>TCGA-DC-6683</td>\n",
       "      <td>AAAIANVEVMQV</td>\n",
       "      <td>0</td>\n",
       "    </tr>\n",
       "    <tr>\n",
       "      <th>...</th>\n",
       "      <td>...</td>\n",
       "      <td>...</td>\n",
       "      <td>...</td>\n",
       "      <td>...</td>\n",
       "    </tr>\n",
       "    <tr>\n",
       "      <th>70564</th>\n",
       "      <td>blk-YYYQNFFCQMAT-TCGA-AY-A71X-01Z-00-DX1</td>\n",
       "      <td>TCGA-AY-A71X</td>\n",
       "      <td>YYYQNFFCQMAT</td>\n",
       "      <td>0</td>\n",
       "    </tr>\n",
       "    <tr>\n",
       "      <th>70565</th>\n",
       "      <td>blk-YYYRLVSSDSDW-TCGA-EI-6514-01Z-00-DX1</td>\n",
       "      <td>TCGA-EI-6514</td>\n",
       "      <td>YYYRLVSSDSDW</td>\n",
       "      <td>0</td>\n",
       "    </tr>\n",
       "    <tr>\n",
       "      <th>70566</th>\n",
       "      <td>blk-YYYTITTWRNGD-TCGA-F4-6460-01Z-00-DX1</td>\n",
       "      <td>TCGA-F4-6460</td>\n",
       "      <td>YYYTITTWRNGD</td>\n",
       "      <td>0</td>\n",
       "    </tr>\n",
       "    <tr>\n",
       "      <th>70567</th>\n",
       "      <td>blk-YYYVCAPMQNDQ-TCGA-NH-A50T-01Z-00-DX1</td>\n",
       "      <td>TCGA-NH-A50T</td>\n",
       "      <td>YYYVCAPMQNDQ</td>\n",
       "      <td>0</td>\n",
       "    </tr>\n",
       "    <tr>\n",
       "      <th>70568</th>\n",
       "      <td>blk-YYYYINEFKTFP-TCGA-AZ-6599-01Z-00-DX1</td>\n",
       "      <td>TCGA-AZ-6599</td>\n",
       "      <td>YYYYINEFKTFP</td>\n",
       "      <td>0</td>\n",
       "    </tr>\n",
       "  </tbody>\n",
       "</table>\n",
       "<p>70569 rows × 4 columns</p>\n",
       "</div>"
      ],
      "text/plain": [
       "                                       img_name    patient_id      patch_id  \\\n",
       "0      blk-AAADNFVSTKEF-TCGA-DC-6682-01Z-00-DX1  TCGA-DC-6682  AAADNFVSTKEF   \n",
       "1      blk-AAADPEIDNRVQ-TCGA-CM-5868-01Z-00-DX1  TCGA-CM-5868  AAADPEIDNRVQ   \n",
       "2      blk-AAAFDSIYEAPC-TCGA-AY-A71X-01Z-00-DX1  TCGA-AY-A71X  AAAFDSIYEAPC   \n",
       "3      blk-AAAHVLHKARAN-TCGA-AY-A71X-01Z-00-DX1  TCGA-AY-A71X  AAAHVLHKARAN   \n",
       "4      blk-AAAIANVEVMQV-TCGA-DC-6683-01Z-00-DX1  TCGA-DC-6683  AAAIANVEVMQV   \n",
       "...                                         ...           ...           ...   \n",
       "70564  blk-YYYQNFFCQMAT-TCGA-AY-A71X-01Z-00-DX1  TCGA-AY-A71X  YYYQNFFCQMAT   \n",
       "70565  blk-YYYRLVSSDSDW-TCGA-EI-6514-01Z-00-DX1  TCGA-EI-6514  YYYRLVSSDSDW   \n",
       "70566  blk-YYYTITTWRNGD-TCGA-F4-6460-01Z-00-DX1  TCGA-F4-6460  YYYTITTWRNGD   \n",
       "70567  blk-YYYVCAPMQNDQ-TCGA-NH-A50T-01Z-00-DX1  TCGA-NH-A50T  YYYVCAPMQNDQ   \n",
       "70568  blk-YYYYINEFKTFP-TCGA-AZ-6599-01Z-00-DX1  TCGA-AZ-6599  YYYYINEFKTFP   \n",
       "\n",
       "       label  \n",
       "0          0  \n",
       "1          0  \n",
       "2          0  \n",
       "3          0  \n",
       "4          0  \n",
       "...      ...  \n",
       "70564      0  \n",
       "70565      0  \n",
       "70566      0  \n",
       "70567      0  \n",
       "70568      0  \n",
       "\n",
       "[70569 rows x 4 columns]"
      ]
     },
     "execution_count": 9,
     "metadata": {},
     "output_type": "execute_result"
    }
   ],
   "source": [
    "MSS_df"
   ]
  },
  {
   "cell_type": "markdown",
   "id": "f0aa7c23",
   "metadata": {},
   "source": [
    "### - how many ids for each patient (for each WSI) "
   ]
  },
  {
   "cell_type": "code",
   "execution_count": 10,
   "id": "aaa62a7c",
   "metadata": {},
   "outputs": [
    {
     "data": {
      "text/plain": [
       "TCGA-CM-4743    4064\n",
       "TCGA-D5-6530    3105\n",
       "TCGA-CK-6746    2438\n",
       "TCGA-AY-6197    2090\n",
       "TCGA-AZ-4615    2051\n",
       "TCGA-AZ-6598    1788\n",
       "TCGA-CK-6747    1765\n",
       "TCGA-AZ-6601    1569\n",
       "TCGA-DC-6154    1250\n",
       "TCGA-AA-3966     854\n",
       "TCGA-AD-6964     831\n",
       "TCGA-G4-6586     730\n",
       "TCGA-CK-4951     720\n",
       "TCGA-A6-2686     681\n",
       "TCGA-G4-6588     523\n",
       "TCGA-AA-3950     508\n",
       "TCGA-AD-A5EJ     507\n",
       "TCGA-AG-A02N     490\n",
       "TCGA-AA-3877     452\n",
       "TCGA-AD-5900     361\n",
       "TCGA-D5-6540     345\n",
       "TCGA-WS-AB45     343\n",
       "TCGA-AA-3833     303\n",
       "TCGA-G4-6302     247\n",
       "TCGA-G4-6309     240\n",
       "TCGA-D5-6928      80\n",
       "Name: patient_id, dtype: int64"
      ]
     },
     "execution_count": 10,
     "metadata": {},
     "output_type": "execute_result"
    }
   ],
   "source": [
    "MSI_df['patient_id'].value_counts()"
   ]
  },
  {
   "cell_type": "code",
   "execution_count": 11,
   "id": "7848b6d2",
   "metadata": {},
   "outputs": [
    {
     "data": {
      "text/plain": [
       "TCGA-AY-A71X    3914\n",
       "TCGA-DC-6681    3218\n",
       "TCGA-F5-6810    2754\n",
       "TCGA-F4-6460    2752\n",
       "TCGA-DC-6683    2504\n",
       "                ... \n",
       "TCGA-G4-6315     125\n",
       "TCGA-CI-6624     123\n",
       "TCGA-AG-3887     118\n",
       "TCGA-AG-3726      35\n",
       "TCGA-AG-3727      27\n",
       "Name: patient_id, Length: 74, dtype: int64"
      ]
     },
     "execution_count": 11,
     "metadata": {},
     "output_type": "execute_result"
    }
   ],
   "source": [
    "MSS_df['patient_id'].value_counts()"
   ]
  },
  {
   "cell_type": "markdown",
   "id": "be7e1621",
   "metadata": {},
   "source": [
    "## Dataset and DataLoader for MSI and MSS"
   ]
  },
  {
   "cell_type": "code",
   "execution_count": 111,
   "id": "194032a3",
   "metadata": {},
   "outputs": [],
   "source": [
    "# imports \n",
    "import torchvision.transforms as T\n",
    "from torch.utils.data import Dataset, DataLoader\n",
    "from sklearn.decomposition import PCA\n",
    "from sklearn.decomposition import KernelPCA as KPCA\n"
   ]
  },
  {
   "cell_type": "code",
   "execution_count": 112,
   "id": "730594f4",
   "metadata": {},
   "outputs": [],
   "source": [
    "class MssMsiPatchesDataset(Dataset):\n",
    "    def __init__(self, MSI_dir, MSS_dir, transform=None):\n",
    "        path_json_file = os.path.join(MSI_dir, 'data.json')\n",
    "        with open(path_json_file) as json_file:\n",
    "            MSI_data = json.load(json_file)\n",
    "        path_json_file = os.path.join(MSS_dir, 'data.json')\n",
    "        with open(path_json_file) as json_file:\n",
    "            MSS_data = json.load(json_file)\n",
    "        self.MSI_dir = MSI_dir\n",
    "        self.MSS_dir = MSS_dir\n",
    "        self.MSI_patches = MSI_data['patches']\n",
    "        self.MSS_patches = MSS_data['patches']\n",
    "        self.transform = transform \n",
    "        \n",
    "    def __len__(self):\n",
    "        return len(self.MSI_patches)+len(self.MSS_patches)\n",
    "         \n",
    "    def __getitem__(self, index):\n",
    "        if index < len(self.MSI_patches):\n",
    "            img_path = os.path.join(self.MSI_dir, self.MSI_patches[index]['img_name'])+\".png\"\n",
    "            y_label = torch.tensor(int(self.MSI_patches[index]['label']))\n",
    "        else:\n",
    "            img_path = os.path.join(self.MSS_dir, self.MSS_patches[index-len(self.MSI_patches)]['img_name'])+\".png\"\n",
    "            y_label = torch.tensor(int(self.MSS_patches[index-len(self.MSI_patches)]['label']))\n",
    "        \n",
    "        image = cv2.imread(img_path)\n",
    "        if self.transform:\n",
    "            image = self.transform(image)\n",
    "        return (image, y_label)\n",
    "        \n",
    "        "
   ]
  },
  {
   "cell_type": "code",
   "execution_count": 113,
   "id": "ee0c5dfb",
   "metadata": {},
   "outputs": [],
   "source": [
    "MSI_dir = os.path.abspath('./MSIMUT/')\n",
    "MSS_dir = os.path.abspath('./MSS/')\n",
    "\n",
    "transform = T.ToTensor()\n",
    "dataset = MssMsiPatchesDataset(MSI_dir, MSS_dir, transform)\n",
    "batch_size = 4\n",
    "dataset_loader = DataLoader(dataset=dataset, batch_size=batch_size, shuffle=True)"
   ]
  },
  {
   "cell_type": "markdown",
   "id": "21f64044",
   "metadata": {},
   "source": [
    "## import model inception_v3"
   ]
  },
  {
   "cell_type": "code",
   "execution_count": 2,
   "id": "75b84453",
   "metadata": {},
   "outputs": [],
   "source": [
    "from torchvision import models as models\n",
    "model = models.inception_v3()"
   ]
  },
  {
   "cell_type": "code",
   "execution_count": 55,
   "id": "7dd3237e",
   "metadata": {},
   "outputs": [],
   "source": [
    "weights = torch.load('./model_hist_eq_0.pt', map_location=torch.device('cpu'))"
   ]
  },
  {
   "cell_type": "code",
   "execution_count": 100,
   "id": "fb65a1e0",
   "metadata": {},
   "outputs": [
    {
     "data": {
      "text/plain": [
       "odict_keys(['Conv2d_1a_3x3.conv.weight', 'Conv2d_1a_3x3.bn.weight', 'Conv2d_1a_3x3.bn.bias', 'Conv2d_1a_3x3.bn.running_mean', 'Conv2d_1a_3x3.bn.running_var', 'Conv2d_1a_3x3.bn.num_batches_tracked', 'Conv2d_2a_3x3.conv.weight', 'Conv2d_2a_3x3.bn.weight', 'Conv2d_2a_3x3.bn.bias', 'Conv2d_2a_3x3.bn.running_mean', 'Conv2d_2a_3x3.bn.running_var', 'Conv2d_2a_3x3.bn.num_batches_tracked', 'Conv2d_2b_3x3.conv.weight', 'Conv2d_2b_3x3.bn.weight', 'Conv2d_2b_3x3.bn.bias', 'Conv2d_2b_3x3.bn.running_mean', 'Conv2d_2b_3x3.bn.running_var', 'Conv2d_2b_3x3.bn.num_batches_tracked', 'Conv2d_3b_1x1.conv.weight', 'Conv2d_3b_1x1.bn.weight', 'Conv2d_3b_1x1.bn.bias', 'Conv2d_3b_1x1.bn.running_mean', 'Conv2d_3b_1x1.bn.running_var', 'Conv2d_3b_1x1.bn.num_batches_tracked', 'Conv2d_4a_3x3.conv.weight', 'Conv2d_4a_3x3.bn.weight', 'Conv2d_4a_3x3.bn.bias', 'Conv2d_4a_3x3.bn.running_mean', 'Conv2d_4a_3x3.bn.running_var', 'Conv2d_4a_3x3.bn.num_batches_tracked', 'Mixed_5b.branch1x1.conv.weight', 'Mixed_5b.branch1x1.bn.weight', 'Mixed_5b.branch1x1.bn.bias', 'Mixed_5b.branch1x1.bn.running_mean', 'Mixed_5b.branch1x1.bn.running_var', 'Mixed_5b.branch1x1.bn.num_batches_tracked', 'Mixed_5b.branch5x5_1.conv.weight', 'Mixed_5b.branch5x5_1.bn.weight', 'Mixed_5b.branch5x5_1.bn.bias', 'Mixed_5b.branch5x5_1.bn.running_mean', 'Mixed_5b.branch5x5_1.bn.running_var', 'Mixed_5b.branch5x5_1.bn.num_batches_tracked', 'Mixed_5b.branch5x5_2.conv.weight', 'Mixed_5b.branch5x5_2.bn.weight', 'Mixed_5b.branch5x5_2.bn.bias', 'Mixed_5b.branch5x5_2.bn.running_mean', 'Mixed_5b.branch5x5_2.bn.running_var', 'Mixed_5b.branch5x5_2.bn.num_batches_tracked', 'Mixed_5b.branch3x3dbl_1.conv.weight', 'Mixed_5b.branch3x3dbl_1.bn.weight', 'Mixed_5b.branch3x3dbl_1.bn.bias', 'Mixed_5b.branch3x3dbl_1.bn.running_mean', 'Mixed_5b.branch3x3dbl_1.bn.running_var', 'Mixed_5b.branch3x3dbl_1.bn.num_batches_tracked', 'Mixed_5b.branch3x3dbl_2.conv.weight', 'Mixed_5b.branch3x3dbl_2.bn.weight', 'Mixed_5b.branch3x3dbl_2.bn.bias', 'Mixed_5b.branch3x3dbl_2.bn.running_mean', 'Mixed_5b.branch3x3dbl_2.bn.running_var', 'Mixed_5b.branch3x3dbl_2.bn.num_batches_tracked', 'Mixed_5b.branch3x3dbl_3.conv.weight', 'Mixed_5b.branch3x3dbl_3.bn.weight', 'Mixed_5b.branch3x3dbl_3.bn.bias', 'Mixed_5b.branch3x3dbl_3.bn.running_mean', 'Mixed_5b.branch3x3dbl_3.bn.running_var', 'Mixed_5b.branch3x3dbl_3.bn.num_batches_tracked', 'Mixed_5b.branch_pool.conv.weight', 'Mixed_5b.branch_pool.bn.weight', 'Mixed_5b.branch_pool.bn.bias', 'Mixed_5b.branch_pool.bn.running_mean', 'Mixed_5b.branch_pool.bn.running_var', 'Mixed_5b.branch_pool.bn.num_batches_tracked', 'Mixed_5c.branch1x1.conv.weight', 'Mixed_5c.branch1x1.bn.weight', 'Mixed_5c.branch1x1.bn.bias', 'Mixed_5c.branch1x1.bn.running_mean', 'Mixed_5c.branch1x1.bn.running_var', 'Mixed_5c.branch1x1.bn.num_batches_tracked', 'Mixed_5c.branch5x5_1.conv.weight', 'Mixed_5c.branch5x5_1.bn.weight', 'Mixed_5c.branch5x5_1.bn.bias', 'Mixed_5c.branch5x5_1.bn.running_mean', 'Mixed_5c.branch5x5_1.bn.running_var', 'Mixed_5c.branch5x5_1.bn.num_batches_tracked', 'Mixed_5c.branch5x5_2.conv.weight', 'Mixed_5c.branch5x5_2.bn.weight', 'Mixed_5c.branch5x5_2.bn.bias', 'Mixed_5c.branch5x5_2.bn.running_mean', 'Mixed_5c.branch5x5_2.bn.running_var', 'Mixed_5c.branch5x5_2.bn.num_batches_tracked', 'Mixed_5c.branch3x3dbl_1.conv.weight', 'Mixed_5c.branch3x3dbl_1.bn.weight', 'Mixed_5c.branch3x3dbl_1.bn.bias', 'Mixed_5c.branch3x3dbl_1.bn.running_mean', 'Mixed_5c.branch3x3dbl_1.bn.running_var', 'Mixed_5c.branch3x3dbl_1.bn.num_batches_tracked', 'Mixed_5c.branch3x3dbl_2.conv.weight', 'Mixed_5c.branch3x3dbl_2.bn.weight', 'Mixed_5c.branch3x3dbl_2.bn.bias', 'Mixed_5c.branch3x3dbl_2.bn.running_mean', 'Mixed_5c.branch3x3dbl_2.bn.running_var', 'Mixed_5c.branch3x3dbl_2.bn.num_batches_tracked', 'Mixed_5c.branch3x3dbl_3.conv.weight', 'Mixed_5c.branch3x3dbl_3.bn.weight', 'Mixed_5c.branch3x3dbl_3.bn.bias', 'Mixed_5c.branch3x3dbl_3.bn.running_mean', 'Mixed_5c.branch3x3dbl_3.bn.running_var', 'Mixed_5c.branch3x3dbl_3.bn.num_batches_tracked', 'Mixed_5c.branch_pool.conv.weight', 'Mixed_5c.branch_pool.bn.weight', 'Mixed_5c.branch_pool.bn.bias', 'Mixed_5c.branch_pool.bn.running_mean', 'Mixed_5c.branch_pool.bn.running_var', 'Mixed_5c.branch_pool.bn.num_batches_tracked', 'Mixed_5d.branch1x1.conv.weight', 'Mixed_5d.branch1x1.bn.weight', 'Mixed_5d.branch1x1.bn.bias', 'Mixed_5d.branch1x1.bn.running_mean', 'Mixed_5d.branch1x1.bn.running_var', 'Mixed_5d.branch1x1.bn.num_batches_tracked', 'Mixed_5d.branch5x5_1.conv.weight', 'Mixed_5d.branch5x5_1.bn.weight', 'Mixed_5d.branch5x5_1.bn.bias', 'Mixed_5d.branch5x5_1.bn.running_mean', 'Mixed_5d.branch5x5_1.bn.running_var', 'Mixed_5d.branch5x5_1.bn.num_batches_tracked', 'Mixed_5d.branch5x5_2.conv.weight', 'Mixed_5d.branch5x5_2.bn.weight', 'Mixed_5d.branch5x5_2.bn.bias', 'Mixed_5d.branch5x5_2.bn.running_mean', 'Mixed_5d.branch5x5_2.bn.running_var', 'Mixed_5d.branch5x5_2.bn.num_batches_tracked', 'Mixed_5d.branch3x3dbl_1.conv.weight', 'Mixed_5d.branch3x3dbl_1.bn.weight', 'Mixed_5d.branch3x3dbl_1.bn.bias', 'Mixed_5d.branch3x3dbl_1.bn.running_mean', 'Mixed_5d.branch3x3dbl_1.bn.running_var', 'Mixed_5d.branch3x3dbl_1.bn.num_batches_tracked', 'Mixed_5d.branch3x3dbl_2.conv.weight', 'Mixed_5d.branch3x3dbl_2.bn.weight', 'Mixed_5d.branch3x3dbl_2.bn.bias', 'Mixed_5d.branch3x3dbl_2.bn.running_mean', 'Mixed_5d.branch3x3dbl_2.bn.running_var', 'Mixed_5d.branch3x3dbl_2.bn.num_batches_tracked', 'Mixed_5d.branch3x3dbl_3.conv.weight', 'Mixed_5d.branch3x3dbl_3.bn.weight', 'Mixed_5d.branch3x3dbl_3.bn.bias', 'Mixed_5d.branch3x3dbl_3.bn.running_mean', 'Mixed_5d.branch3x3dbl_3.bn.running_var', 'Mixed_5d.branch3x3dbl_3.bn.num_batches_tracked', 'Mixed_5d.branch_pool.conv.weight', 'Mixed_5d.branch_pool.bn.weight', 'Mixed_5d.branch_pool.bn.bias', 'Mixed_5d.branch_pool.bn.running_mean', 'Mixed_5d.branch_pool.bn.running_var', 'Mixed_5d.branch_pool.bn.num_batches_tracked', 'Mixed_6a.branch3x3.conv.weight', 'Mixed_6a.branch3x3.bn.weight', 'Mixed_6a.branch3x3.bn.bias', 'Mixed_6a.branch3x3.bn.running_mean', 'Mixed_6a.branch3x3.bn.running_var', 'Mixed_6a.branch3x3.bn.num_batches_tracked', 'Mixed_6a.branch3x3dbl_1.conv.weight', 'Mixed_6a.branch3x3dbl_1.bn.weight', 'Mixed_6a.branch3x3dbl_1.bn.bias', 'Mixed_6a.branch3x3dbl_1.bn.running_mean', 'Mixed_6a.branch3x3dbl_1.bn.running_var', 'Mixed_6a.branch3x3dbl_1.bn.num_batches_tracked', 'Mixed_6a.branch3x3dbl_2.conv.weight', 'Mixed_6a.branch3x3dbl_2.bn.weight', 'Mixed_6a.branch3x3dbl_2.bn.bias', 'Mixed_6a.branch3x3dbl_2.bn.running_mean', 'Mixed_6a.branch3x3dbl_2.bn.running_var', 'Mixed_6a.branch3x3dbl_2.bn.num_batches_tracked', 'Mixed_6a.branch3x3dbl_3.conv.weight', 'Mixed_6a.branch3x3dbl_3.bn.weight', 'Mixed_6a.branch3x3dbl_3.bn.bias', 'Mixed_6a.branch3x3dbl_3.bn.running_mean', 'Mixed_6a.branch3x3dbl_3.bn.running_var', 'Mixed_6a.branch3x3dbl_3.bn.num_batches_tracked', 'Mixed_6b.branch1x1.conv.weight', 'Mixed_6b.branch1x1.bn.weight', 'Mixed_6b.branch1x1.bn.bias', 'Mixed_6b.branch1x1.bn.running_mean', 'Mixed_6b.branch1x1.bn.running_var', 'Mixed_6b.branch1x1.bn.num_batches_tracked', 'Mixed_6b.branch7x7_1.conv.weight', 'Mixed_6b.branch7x7_1.bn.weight', 'Mixed_6b.branch7x7_1.bn.bias', 'Mixed_6b.branch7x7_1.bn.running_mean', 'Mixed_6b.branch7x7_1.bn.running_var', 'Mixed_6b.branch7x7_1.bn.num_batches_tracked', 'Mixed_6b.branch7x7_2.conv.weight', 'Mixed_6b.branch7x7_2.bn.weight', 'Mixed_6b.branch7x7_2.bn.bias', 'Mixed_6b.branch7x7_2.bn.running_mean', 'Mixed_6b.branch7x7_2.bn.running_var', 'Mixed_6b.branch7x7_2.bn.num_batches_tracked', 'Mixed_6b.branch7x7_3.conv.weight', 'Mixed_6b.branch7x7_3.bn.weight', 'Mixed_6b.branch7x7_3.bn.bias', 'Mixed_6b.branch7x7_3.bn.running_mean', 'Mixed_6b.branch7x7_3.bn.running_var', 'Mixed_6b.branch7x7_3.bn.num_batches_tracked', 'Mixed_6b.branch7x7dbl_1.conv.weight', 'Mixed_6b.branch7x7dbl_1.bn.weight', 'Mixed_6b.branch7x7dbl_1.bn.bias', 'Mixed_6b.branch7x7dbl_1.bn.running_mean', 'Mixed_6b.branch7x7dbl_1.bn.running_var', 'Mixed_6b.branch7x7dbl_1.bn.num_batches_tracked', 'Mixed_6b.branch7x7dbl_2.conv.weight', 'Mixed_6b.branch7x7dbl_2.bn.weight', 'Mixed_6b.branch7x7dbl_2.bn.bias', 'Mixed_6b.branch7x7dbl_2.bn.running_mean', 'Mixed_6b.branch7x7dbl_2.bn.running_var', 'Mixed_6b.branch7x7dbl_2.bn.num_batches_tracked', 'Mixed_6b.branch7x7dbl_3.conv.weight', 'Mixed_6b.branch7x7dbl_3.bn.weight', 'Mixed_6b.branch7x7dbl_3.bn.bias', 'Mixed_6b.branch7x7dbl_3.bn.running_mean', 'Mixed_6b.branch7x7dbl_3.bn.running_var', 'Mixed_6b.branch7x7dbl_3.bn.num_batches_tracked', 'Mixed_6b.branch7x7dbl_4.conv.weight', 'Mixed_6b.branch7x7dbl_4.bn.weight', 'Mixed_6b.branch7x7dbl_4.bn.bias', 'Mixed_6b.branch7x7dbl_4.bn.running_mean', 'Mixed_6b.branch7x7dbl_4.bn.running_var', 'Mixed_6b.branch7x7dbl_4.bn.num_batches_tracked', 'Mixed_6b.branch7x7dbl_5.conv.weight', 'Mixed_6b.branch7x7dbl_5.bn.weight', 'Mixed_6b.branch7x7dbl_5.bn.bias', 'Mixed_6b.branch7x7dbl_5.bn.running_mean', 'Mixed_6b.branch7x7dbl_5.bn.running_var', 'Mixed_6b.branch7x7dbl_5.bn.num_batches_tracked', 'Mixed_6b.branch_pool.conv.weight', 'Mixed_6b.branch_pool.bn.weight', 'Mixed_6b.branch_pool.bn.bias', 'Mixed_6b.branch_pool.bn.running_mean', 'Mixed_6b.branch_pool.bn.running_var', 'Mixed_6b.branch_pool.bn.num_batches_tracked', 'Mixed_6c.branch1x1.conv.weight', 'Mixed_6c.branch1x1.bn.weight', 'Mixed_6c.branch1x1.bn.bias', 'Mixed_6c.branch1x1.bn.running_mean', 'Mixed_6c.branch1x1.bn.running_var', 'Mixed_6c.branch1x1.bn.num_batches_tracked', 'Mixed_6c.branch7x7_1.conv.weight', 'Mixed_6c.branch7x7_1.bn.weight', 'Mixed_6c.branch7x7_1.bn.bias', 'Mixed_6c.branch7x7_1.bn.running_mean', 'Mixed_6c.branch7x7_1.bn.running_var', 'Mixed_6c.branch7x7_1.bn.num_batches_tracked', 'Mixed_6c.branch7x7_2.conv.weight', 'Mixed_6c.branch7x7_2.bn.weight', 'Mixed_6c.branch7x7_2.bn.bias', 'Mixed_6c.branch7x7_2.bn.running_mean', 'Mixed_6c.branch7x7_2.bn.running_var', 'Mixed_6c.branch7x7_2.bn.num_batches_tracked', 'Mixed_6c.branch7x7_3.conv.weight', 'Mixed_6c.branch7x7_3.bn.weight', 'Mixed_6c.branch7x7_3.bn.bias', 'Mixed_6c.branch7x7_3.bn.running_mean', 'Mixed_6c.branch7x7_3.bn.running_var', 'Mixed_6c.branch7x7_3.bn.num_batches_tracked', 'Mixed_6c.branch7x7dbl_1.conv.weight', 'Mixed_6c.branch7x7dbl_1.bn.weight', 'Mixed_6c.branch7x7dbl_1.bn.bias', 'Mixed_6c.branch7x7dbl_1.bn.running_mean', 'Mixed_6c.branch7x7dbl_1.bn.running_var', 'Mixed_6c.branch7x7dbl_1.bn.num_batches_tracked', 'Mixed_6c.branch7x7dbl_2.conv.weight', 'Mixed_6c.branch7x7dbl_2.bn.weight', 'Mixed_6c.branch7x7dbl_2.bn.bias', 'Mixed_6c.branch7x7dbl_2.bn.running_mean', 'Mixed_6c.branch7x7dbl_2.bn.running_var', 'Mixed_6c.branch7x7dbl_2.bn.num_batches_tracked', 'Mixed_6c.branch7x7dbl_3.conv.weight', 'Mixed_6c.branch7x7dbl_3.bn.weight', 'Mixed_6c.branch7x7dbl_3.bn.bias', 'Mixed_6c.branch7x7dbl_3.bn.running_mean', 'Mixed_6c.branch7x7dbl_3.bn.running_var', 'Mixed_6c.branch7x7dbl_3.bn.num_batches_tracked', 'Mixed_6c.branch7x7dbl_4.conv.weight', 'Mixed_6c.branch7x7dbl_4.bn.weight', 'Mixed_6c.branch7x7dbl_4.bn.bias', 'Mixed_6c.branch7x7dbl_4.bn.running_mean', 'Mixed_6c.branch7x7dbl_4.bn.running_var', 'Mixed_6c.branch7x7dbl_4.bn.num_batches_tracked', 'Mixed_6c.branch7x7dbl_5.conv.weight', 'Mixed_6c.branch7x7dbl_5.bn.weight', 'Mixed_6c.branch7x7dbl_5.bn.bias', 'Mixed_6c.branch7x7dbl_5.bn.running_mean', 'Mixed_6c.branch7x7dbl_5.bn.running_var', 'Mixed_6c.branch7x7dbl_5.bn.num_batches_tracked', 'Mixed_6c.branch_pool.conv.weight', 'Mixed_6c.branch_pool.bn.weight', 'Mixed_6c.branch_pool.bn.bias', 'Mixed_6c.branch_pool.bn.running_mean', 'Mixed_6c.branch_pool.bn.running_var', 'Mixed_6c.branch_pool.bn.num_batches_tracked', 'Mixed_6d.branch1x1.conv.weight', 'Mixed_6d.branch1x1.bn.weight', 'Mixed_6d.branch1x1.bn.bias', 'Mixed_6d.branch1x1.bn.running_mean', 'Mixed_6d.branch1x1.bn.running_var', 'Mixed_6d.branch1x1.bn.num_batches_tracked', 'Mixed_6d.branch7x7_1.conv.weight', 'Mixed_6d.branch7x7_1.bn.weight', 'Mixed_6d.branch7x7_1.bn.bias', 'Mixed_6d.branch7x7_1.bn.running_mean', 'Mixed_6d.branch7x7_1.bn.running_var', 'Mixed_6d.branch7x7_1.bn.num_batches_tracked', 'Mixed_6d.branch7x7_2.conv.weight', 'Mixed_6d.branch7x7_2.bn.weight', 'Mixed_6d.branch7x7_2.bn.bias', 'Mixed_6d.branch7x7_2.bn.running_mean', 'Mixed_6d.branch7x7_2.bn.running_var', 'Mixed_6d.branch7x7_2.bn.num_batches_tracked', 'Mixed_6d.branch7x7_3.conv.weight', 'Mixed_6d.branch7x7_3.bn.weight', 'Mixed_6d.branch7x7_3.bn.bias', 'Mixed_6d.branch7x7_3.bn.running_mean', 'Mixed_6d.branch7x7_3.bn.running_var', 'Mixed_6d.branch7x7_3.bn.num_batches_tracked', 'Mixed_6d.branch7x7dbl_1.conv.weight', 'Mixed_6d.branch7x7dbl_1.bn.weight', 'Mixed_6d.branch7x7dbl_1.bn.bias', 'Mixed_6d.branch7x7dbl_1.bn.running_mean', 'Mixed_6d.branch7x7dbl_1.bn.running_var', 'Mixed_6d.branch7x7dbl_1.bn.num_batches_tracked', 'Mixed_6d.branch7x7dbl_2.conv.weight', 'Mixed_6d.branch7x7dbl_2.bn.weight', 'Mixed_6d.branch7x7dbl_2.bn.bias', 'Mixed_6d.branch7x7dbl_2.bn.running_mean', 'Mixed_6d.branch7x7dbl_2.bn.running_var', 'Mixed_6d.branch7x7dbl_2.bn.num_batches_tracked', 'Mixed_6d.branch7x7dbl_3.conv.weight', 'Mixed_6d.branch7x7dbl_3.bn.weight', 'Mixed_6d.branch7x7dbl_3.bn.bias', 'Mixed_6d.branch7x7dbl_3.bn.running_mean', 'Mixed_6d.branch7x7dbl_3.bn.running_var', 'Mixed_6d.branch7x7dbl_3.bn.num_batches_tracked', 'Mixed_6d.branch7x7dbl_4.conv.weight', 'Mixed_6d.branch7x7dbl_4.bn.weight', 'Mixed_6d.branch7x7dbl_4.bn.bias', 'Mixed_6d.branch7x7dbl_4.bn.running_mean', 'Mixed_6d.branch7x7dbl_4.bn.running_var', 'Mixed_6d.branch7x7dbl_4.bn.num_batches_tracked', 'Mixed_6d.branch7x7dbl_5.conv.weight', 'Mixed_6d.branch7x7dbl_5.bn.weight', 'Mixed_6d.branch7x7dbl_5.bn.bias', 'Mixed_6d.branch7x7dbl_5.bn.running_mean', 'Mixed_6d.branch7x7dbl_5.bn.running_var', 'Mixed_6d.branch7x7dbl_5.bn.num_batches_tracked', 'Mixed_6d.branch_pool.conv.weight', 'Mixed_6d.branch_pool.bn.weight', 'Mixed_6d.branch_pool.bn.bias', 'Mixed_6d.branch_pool.bn.running_mean', 'Mixed_6d.branch_pool.bn.running_var', 'Mixed_6d.branch_pool.bn.num_batches_tracked', 'Mixed_6e.branch1x1.conv.weight', 'Mixed_6e.branch1x1.bn.weight', 'Mixed_6e.branch1x1.bn.bias', 'Mixed_6e.branch1x1.bn.running_mean', 'Mixed_6e.branch1x1.bn.running_var', 'Mixed_6e.branch1x1.bn.num_batches_tracked', 'Mixed_6e.branch7x7_1.conv.weight', 'Mixed_6e.branch7x7_1.bn.weight', 'Mixed_6e.branch7x7_1.bn.bias', 'Mixed_6e.branch7x7_1.bn.running_mean', 'Mixed_6e.branch7x7_1.bn.running_var', 'Mixed_6e.branch7x7_1.bn.num_batches_tracked', 'Mixed_6e.branch7x7_2.conv.weight', 'Mixed_6e.branch7x7_2.bn.weight', 'Mixed_6e.branch7x7_2.bn.bias', 'Mixed_6e.branch7x7_2.bn.running_mean', 'Mixed_6e.branch7x7_2.bn.running_var', 'Mixed_6e.branch7x7_2.bn.num_batches_tracked', 'Mixed_6e.branch7x7_3.conv.weight', 'Mixed_6e.branch7x7_3.bn.weight', 'Mixed_6e.branch7x7_3.bn.bias', 'Mixed_6e.branch7x7_3.bn.running_mean', 'Mixed_6e.branch7x7_3.bn.running_var', 'Mixed_6e.branch7x7_3.bn.num_batches_tracked', 'Mixed_6e.branch7x7dbl_1.conv.weight', 'Mixed_6e.branch7x7dbl_1.bn.weight', 'Mixed_6e.branch7x7dbl_1.bn.bias', 'Mixed_6e.branch7x7dbl_1.bn.running_mean', 'Mixed_6e.branch7x7dbl_1.bn.running_var', 'Mixed_6e.branch7x7dbl_1.bn.num_batches_tracked', 'Mixed_6e.branch7x7dbl_2.conv.weight', 'Mixed_6e.branch7x7dbl_2.bn.weight', 'Mixed_6e.branch7x7dbl_2.bn.bias', 'Mixed_6e.branch7x7dbl_2.bn.running_mean', 'Mixed_6e.branch7x7dbl_2.bn.running_var', 'Mixed_6e.branch7x7dbl_2.bn.num_batches_tracked', 'Mixed_6e.branch7x7dbl_3.conv.weight', 'Mixed_6e.branch7x7dbl_3.bn.weight', 'Mixed_6e.branch7x7dbl_3.bn.bias', 'Mixed_6e.branch7x7dbl_3.bn.running_mean', 'Mixed_6e.branch7x7dbl_3.bn.running_var', 'Mixed_6e.branch7x7dbl_3.bn.num_batches_tracked', 'Mixed_6e.branch7x7dbl_4.conv.weight', 'Mixed_6e.branch7x7dbl_4.bn.weight', 'Mixed_6e.branch7x7dbl_4.bn.bias', 'Mixed_6e.branch7x7dbl_4.bn.running_mean', 'Mixed_6e.branch7x7dbl_4.bn.running_var', 'Mixed_6e.branch7x7dbl_4.bn.num_batches_tracked', 'Mixed_6e.branch7x7dbl_5.conv.weight', 'Mixed_6e.branch7x7dbl_5.bn.weight', 'Mixed_6e.branch7x7dbl_5.bn.bias', 'Mixed_6e.branch7x7dbl_5.bn.running_mean', 'Mixed_6e.branch7x7dbl_5.bn.running_var', 'Mixed_6e.branch7x7dbl_5.bn.num_batches_tracked', 'Mixed_6e.branch_pool.conv.weight', 'Mixed_6e.branch_pool.bn.weight', 'Mixed_6e.branch_pool.bn.bias', 'Mixed_6e.branch_pool.bn.running_mean', 'Mixed_6e.branch_pool.bn.running_var', 'Mixed_6e.branch_pool.bn.num_batches_tracked', 'AuxLogits.conv0.conv.weight', 'AuxLogits.conv0.bn.weight', 'AuxLogits.conv0.bn.bias', 'AuxLogits.conv0.bn.running_mean', 'AuxLogits.conv0.bn.running_var', 'AuxLogits.conv0.bn.num_batches_tracked', 'AuxLogits.conv1.conv.weight', 'AuxLogits.conv1.bn.weight', 'AuxLogits.conv1.bn.bias', 'AuxLogits.conv1.bn.running_mean', 'AuxLogits.conv1.bn.running_var', 'AuxLogits.conv1.bn.num_batches_tracked', 'AuxLogits.fc.weight', 'AuxLogits.fc.bias', 'Mixed_7a.branch3x3_1.conv.weight', 'Mixed_7a.branch3x3_1.bn.weight', 'Mixed_7a.branch3x3_1.bn.bias', 'Mixed_7a.branch3x3_1.bn.running_mean', 'Mixed_7a.branch3x3_1.bn.running_var', 'Mixed_7a.branch3x3_1.bn.num_batches_tracked', 'Mixed_7a.branch3x3_2.conv.weight', 'Mixed_7a.branch3x3_2.bn.weight', 'Mixed_7a.branch3x3_2.bn.bias', 'Mixed_7a.branch3x3_2.bn.running_mean', 'Mixed_7a.branch3x3_2.bn.running_var', 'Mixed_7a.branch3x3_2.bn.num_batches_tracked', 'Mixed_7a.branch7x7x3_1.conv.weight', 'Mixed_7a.branch7x7x3_1.bn.weight', 'Mixed_7a.branch7x7x3_1.bn.bias', 'Mixed_7a.branch7x7x3_1.bn.running_mean', 'Mixed_7a.branch7x7x3_1.bn.running_var', 'Mixed_7a.branch7x7x3_1.bn.num_batches_tracked', 'Mixed_7a.branch7x7x3_2.conv.weight', 'Mixed_7a.branch7x7x3_2.bn.weight', 'Mixed_7a.branch7x7x3_2.bn.bias', 'Mixed_7a.branch7x7x3_2.bn.running_mean', 'Mixed_7a.branch7x7x3_2.bn.running_var', 'Mixed_7a.branch7x7x3_2.bn.num_batches_tracked', 'Mixed_7a.branch7x7x3_3.conv.weight', 'Mixed_7a.branch7x7x3_3.bn.weight', 'Mixed_7a.branch7x7x3_3.bn.bias', 'Mixed_7a.branch7x7x3_3.bn.running_mean', 'Mixed_7a.branch7x7x3_3.bn.running_var', 'Mixed_7a.branch7x7x3_3.bn.num_batches_tracked', 'Mixed_7a.branch7x7x3_4.conv.weight', 'Mixed_7a.branch7x7x3_4.bn.weight', 'Mixed_7a.branch7x7x3_4.bn.bias', 'Mixed_7a.branch7x7x3_4.bn.running_mean', 'Mixed_7a.branch7x7x3_4.bn.running_var', 'Mixed_7a.branch7x7x3_4.bn.num_batches_tracked', 'Mixed_7b.branch1x1.conv.weight', 'Mixed_7b.branch1x1.bn.weight', 'Mixed_7b.branch1x1.bn.bias', 'Mixed_7b.branch1x1.bn.running_mean', 'Mixed_7b.branch1x1.bn.running_var', 'Mixed_7b.branch1x1.bn.num_batches_tracked', 'Mixed_7b.branch3x3_1.conv.weight', 'Mixed_7b.branch3x3_1.bn.weight', 'Mixed_7b.branch3x3_1.bn.bias', 'Mixed_7b.branch3x3_1.bn.running_mean', 'Mixed_7b.branch3x3_1.bn.running_var', 'Mixed_7b.branch3x3_1.bn.num_batches_tracked', 'Mixed_7b.branch3x3_2a.conv.weight', 'Mixed_7b.branch3x3_2a.bn.weight', 'Mixed_7b.branch3x3_2a.bn.bias', 'Mixed_7b.branch3x3_2a.bn.running_mean', 'Mixed_7b.branch3x3_2a.bn.running_var', 'Mixed_7b.branch3x3_2a.bn.num_batches_tracked', 'Mixed_7b.branch3x3_2b.conv.weight', 'Mixed_7b.branch3x3_2b.bn.weight', 'Mixed_7b.branch3x3_2b.bn.bias', 'Mixed_7b.branch3x3_2b.bn.running_mean', 'Mixed_7b.branch3x3_2b.bn.running_var', 'Mixed_7b.branch3x3_2b.bn.num_batches_tracked', 'Mixed_7b.branch3x3dbl_1.conv.weight', 'Mixed_7b.branch3x3dbl_1.bn.weight', 'Mixed_7b.branch3x3dbl_1.bn.bias', 'Mixed_7b.branch3x3dbl_1.bn.running_mean', 'Mixed_7b.branch3x3dbl_1.bn.running_var', 'Mixed_7b.branch3x3dbl_1.bn.num_batches_tracked', 'Mixed_7b.branch3x3dbl_2.conv.weight', 'Mixed_7b.branch3x3dbl_2.bn.weight', 'Mixed_7b.branch3x3dbl_2.bn.bias', 'Mixed_7b.branch3x3dbl_2.bn.running_mean', 'Mixed_7b.branch3x3dbl_2.bn.running_var', 'Mixed_7b.branch3x3dbl_2.bn.num_batches_tracked', 'Mixed_7b.branch3x3dbl_3a.conv.weight', 'Mixed_7b.branch3x3dbl_3a.bn.weight', 'Mixed_7b.branch3x3dbl_3a.bn.bias', 'Mixed_7b.branch3x3dbl_3a.bn.running_mean', 'Mixed_7b.branch3x3dbl_3a.bn.running_var', 'Mixed_7b.branch3x3dbl_3a.bn.num_batches_tracked', 'Mixed_7b.branch3x3dbl_3b.conv.weight', 'Mixed_7b.branch3x3dbl_3b.bn.weight', 'Mixed_7b.branch3x3dbl_3b.bn.bias', 'Mixed_7b.branch3x3dbl_3b.bn.running_mean', 'Mixed_7b.branch3x3dbl_3b.bn.running_var', 'Mixed_7b.branch3x3dbl_3b.bn.num_batches_tracked', 'Mixed_7b.branch_pool.conv.weight', 'Mixed_7b.branch_pool.bn.weight', 'Mixed_7b.branch_pool.bn.bias', 'Mixed_7b.branch_pool.bn.running_mean', 'Mixed_7b.branch_pool.bn.running_var', 'Mixed_7b.branch_pool.bn.num_batches_tracked', 'Mixed_7c.branch1x1.conv.weight', 'Mixed_7c.branch1x1.bn.weight', 'Mixed_7c.branch1x1.bn.bias', 'Mixed_7c.branch1x1.bn.running_mean', 'Mixed_7c.branch1x1.bn.running_var', 'Mixed_7c.branch1x1.bn.num_batches_tracked', 'Mixed_7c.branch3x3_1.conv.weight', 'Mixed_7c.branch3x3_1.bn.weight', 'Mixed_7c.branch3x3_1.bn.bias', 'Mixed_7c.branch3x3_1.bn.running_mean', 'Mixed_7c.branch3x3_1.bn.running_var', 'Mixed_7c.branch3x3_1.bn.num_batches_tracked', 'Mixed_7c.branch3x3_2a.conv.weight', 'Mixed_7c.branch3x3_2a.bn.weight', 'Mixed_7c.branch3x3_2a.bn.bias', 'Mixed_7c.branch3x3_2a.bn.running_mean', 'Mixed_7c.branch3x3_2a.bn.running_var', 'Mixed_7c.branch3x3_2a.bn.num_batches_tracked', 'Mixed_7c.branch3x3_2b.conv.weight', 'Mixed_7c.branch3x3_2b.bn.weight', 'Mixed_7c.branch3x3_2b.bn.bias', 'Mixed_7c.branch3x3_2b.bn.running_mean', 'Mixed_7c.branch3x3_2b.bn.running_var', 'Mixed_7c.branch3x3_2b.bn.num_batches_tracked', 'Mixed_7c.branch3x3dbl_1.conv.weight', 'Mixed_7c.branch3x3dbl_1.bn.weight', 'Mixed_7c.branch3x3dbl_1.bn.bias', 'Mixed_7c.branch3x3dbl_1.bn.running_mean', 'Mixed_7c.branch3x3dbl_1.bn.running_var', 'Mixed_7c.branch3x3dbl_1.bn.num_batches_tracked', 'Mixed_7c.branch3x3dbl_2.conv.weight', 'Mixed_7c.branch3x3dbl_2.bn.weight', 'Mixed_7c.branch3x3dbl_2.bn.bias', 'Mixed_7c.branch3x3dbl_2.bn.running_mean', 'Mixed_7c.branch3x3dbl_2.bn.running_var', 'Mixed_7c.branch3x3dbl_2.bn.num_batches_tracked', 'Mixed_7c.branch3x3dbl_3a.conv.weight', 'Mixed_7c.branch3x3dbl_3a.bn.weight', 'Mixed_7c.branch3x3dbl_3a.bn.bias', 'Mixed_7c.branch3x3dbl_3a.bn.running_mean', 'Mixed_7c.branch3x3dbl_3a.bn.running_var', 'Mixed_7c.branch3x3dbl_3a.bn.num_batches_tracked', 'Mixed_7c.branch3x3dbl_3b.conv.weight', 'Mixed_7c.branch3x3dbl_3b.bn.weight', 'Mixed_7c.branch3x3dbl_3b.bn.bias', 'Mixed_7c.branch3x3dbl_3b.bn.running_mean', 'Mixed_7c.branch3x3dbl_3b.bn.running_var', 'Mixed_7c.branch3x3dbl_3b.bn.num_batches_tracked', 'Mixed_7c.branch_pool.conv.weight', 'Mixed_7c.branch_pool.bn.weight', 'Mixed_7c.branch_pool.bn.bias', 'Mixed_7c.branch_pool.bn.running_mean', 'Mixed_7c.branch_pool.bn.running_var', 'Mixed_7c.branch_pool.bn.num_batches_tracked', 'fc.weight', 'fc.bias'])"
      ]
     },
     "execution_count": 100,
     "metadata": {},
     "output_type": "execute_result"
    }
   ],
   "source": [
    "weights['model_state'].keys()"
   ]
  },
  {
   "cell_type": "code",
   "execution_count": 70,
   "id": "8852bc36",
   "metadata": {},
   "outputs": [
    {
     "data": {
      "text/plain": [
       "odict_keys(['Conv2d_1a_3x3.conv.weight', 'Conv2d_1a_3x3.bn.weight', 'Conv2d_1a_3x3.bn.bias', 'Conv2d_1a_3x3.bn.running_mean', 'Conv2d_1a_3x3.bn.running_var', 'Conv2d_1a_3x3.bn.num_batches_tracked', 'Conv2d_2a_3x3.conv.weight', 'Conv2d_2a_3x3.bn.weight', 'Conv2d_2a_3x3.bn.bias', 'Conv2d_2a_3x3.bn.running_mean', 'Conv2d_2a_3x3.bn.running_var', 'Conv2d_2a_3x3.bn.num_batches_tracked', 'Conv2d_2b_3x3.conv.weight', 'Conv2d_2b_3x3.bn.weight', 'Conv2d_2b_3x3.bn.bias', 'Conv2d_2b_3x3.bn.running_mean', 'Conv2d_2b_3x3.bn.running_var', 'Conv2d_2b_3x3.bn.num_batches_tracked', 'Conv2d_3b_1x1.conv.weight', 'Conv2d_3b_1x1.bn.weight', 'Conv2d_3b_1x1.bn.bias', 'Conv2d_3b_1x1.bn.running_mean', 'Conv2d_3b_1x1.bn.running_var', 'Conv2d_3b_1x1.bn.num_batches_tracked', 'Conv2d_4a_3x3.conv.weight', 'Conv2d_4a_3x3.bn.weight', 'Conv2d_4a_3x3.bn.bias', 'Conv2d_4a_3x3.bn.running_mean', 'Conv2d_4a_3x3.bn.running_var', 'Conv2d_4a_3x3.bn.num_batches_tracked', 'Mixed_5b.branch1x1.conv.weight', 'Mixed_5b.branch1x1.bn.weight', 'Mixed_5b.branch1x1.bn.bias', 'Mixed_5b.branch1x1.bn.running_mean', 'Mixed_5b.branch1x1.bn.running_var', 'Mixed_5b.branch1x1.bn.num_batches_tracked', 'Mixed_5b.branch5x5_1.conv.weight', 'Mixed_5b.branch5x5_1.bn.weight', 'Mixed_5b.branch5x5_1.bn.bias', 'Mixed_5b.branch5x5_1.bn.running_mean', 'Mixed_5b.branch5x5_1.bn.running_var', 'Mixed_5b.branch5x5_1.bn.num_batches_tracked', 'Mixed_5b.branch5x5_2.conv.weight', 'Mixed_5b.branch5x5_2.bn.weight', 'Mixed_5b.branch5x5_2.bn.bias', 'Mixed_5b.branch5x5_2.bn.running_mean', 'Mixed_5b.branch5x5_2.bn.running_var', 'Mixed_5b.branch5x5_2.bn.num_batches_tracked', 'Mixed_5b.branch3x3dbl_1.conv.weight', 'Mixed_5b.branch3x3dbl_1.bn.weight', 'Mixed_5b.branch3x3dbl_1.bn.bias', 'Mixed_5b.branch3x3dbl_1.bn.running_mean', 'Mixed_5b.branch3x3dbl_1.bn.running_var', 'Mixed_5b.branch3x3dbl_1.bn.num_batches_tracked', 'Mixed_5b.branch3x3dbl_2.conv.weight', 'Mixed_5b.branch3x3dbl_2.bn.weight', 'Mixed_5b.branch3x3dbl_2.bn.bias', 'Mixed_5b.branch3x3dbl_2.bn.running_mean', 'Mixed_5b.branch3x3dbl_2.bn.running_var', 'Mixed_5b.branch3x3dbl_2.bn.num_batches_tracked', 'Mixed_5b.branch3x3dbl_3.conv.weight', 'Mixed_5b.branch3x3dbl_3.bn.weight', 'Mixed_5b.branch3x3dbl_3.bn.bias', 'Mixed_5b.branch3x3dbl_3.bn.running_mean', 'Mixed_5b.branch3x3dbl_3.bn.running_var', 'Mixed_5b.branch3x3dbl_3.bn.num_batches_tracked', 'Mixed_5b.branch_pool.conv.weight', 'Mixed_5b.branch_pool.bn.weight', 'Mixed_5b.branch_pool.bn.bias', 'Mixed_5b.branch_pool.bn.running_mean', 'Mixed_5b.branch_pool.bn.running_var', 'Mixed_5b.branch_pool.bn.num_batches_tracked', 'Mixed_5c.branch1x1.conv.weight', 'Mixed_5c.branch1x1.bn.weight', 'Mixed_5c.branch1x1.bn.bias', 'Mixed_5c.branch1x1.bn.running_mean', 'Mixed_5c.branch1x1.bn.running_var', 'Mixed_5c.branch1x1.bn.num_batches_tracked', 'Mixed_5c.branch5x5_1.conv.weight', 'Mixed_5c.branch5x5_1.bn.weight', 'Mixed_5c.branch5x5_1.bn.bias', 'Mixed_5c.branch5x5_1.bn.running_mean', 'Mixed_5c.branch5x5_1.bn.running_var', 'Mixed_5c.branch5x5_1.bn.num_batches_tracked', 'Mixed_5c.branch5x5_2.conv.weight', 'Mixed_5c.branch5x5_2.bn.weight', 'Mixed_5c.branch5x5_2.bn.bias', 'Mixed_5c.branch5x5_2.bn.running_mean', 'Mixed_5c.branch5x5_2.bn.running_var', 'Mixed_5c.branch5x5_2.bn.num_batches_tracked', 'Mixed_5c.branch3x3dbl_1.conv.weight', 'Mixed_5c.branch3x3dbl_1.bn.weight', 'Mixed_5c.branch3x3dbl_1.bn.bias', 'Mixed_5c.branch3x3dbl_1.bn.running_mean', 'Mixed_5c.branch3x3dbl_1.bn.running_var', 'Mixed_5c.branch3x3dbl_1.bn.num_batches_tracked', 'Mixed_5c.branch3x3dbl_2.conv.weight', 'Mixed_5c.branch3x3dbl_2.bn.weight', 'Mixed_5c.branch3x3dbl_2.bn.bias', 'Mixed_5c.branch3x3dbl_2.bn.running_mean', 'Mixed_5c.branch3x3dbl_2.bn.running_var', 'Mixed_5c.branch3x3dbl_2.bn.num_batches_tracked', 'Mixed_5c.branch3x3dbl_3.conv.weight', 'Mixed_5c.branch3x3dbl_3.bn.weight', 'Mixed_5c.branch3x3dbl_3.bn.bias', 'Mixed_5c.branch3x3dbl_3.bn.running_mean', 'Mixed_5c.branch3x3dbl_3.bn.running_var', 'Mixed_5c.branch3x3dbl_3.bn.num_batches_tracked', 'Mixed_5c.branch_pool.conv.weight', 'Mixed_5c.branch_pool.bn.weight', 'Mixed_5c.branch_pool.bn.bias', 'Mixed_5c.branch_pool.bn.running_mean', 'Mixed_5c.branch_pool.bn.running_var', 'Mixed_5c.branch_pool.bn.num_batches_tracked', 'Mixed_5d.branch1x1.conv.weight', 'Mixed_5d.branch1x1.bn.weight', 'Mixed_5d.branch1x1.bn.bias', 'Mixed_5d.branch1x1.bn.running_mean', 'Mixed_5d.branch1x1.bn.running_var', 'Mixed_5d.branch1x1.bn.num_batches_tracked', 'Mixed_5d.branch5x5_1.conv.weight', 'Mixed_5d.branch5x5_1.bn.weight', 'Mixed_5d.branch5x5_1.bn.bias', 'Mixed_5d.branch5x5_1.bn.running_mean', 'Mixed_5d.branch5x5_1.bn.running_var', 'Mixed_5d.branch5x5_1.bn.num_batches_tracked', 'Mixed_5d.branch5x5_2.conv.weight', 'Mixed_5d.branch5x5_2.bn.weight', 'Mixed_5d.branch5x5_2.bn.bias', 'Mixed_5d.branch5x5_2.bn.running_mean', 'Mixed_5d.branch5x5_2.bn.running_var', 'Mixed_5d.branch5x5_2.bn.num_batches_tracked', 'Mixed_5d.branch3x3dbl_1.conv.weight', 'Mixed_5d.branch3x3dbl_1.bn.weight', 'Mixed_5d.branch3x3dbl_1.bn.bias', 'Mixed_5d.branch3x3dbl_1.bn.running_mean', 'Mixed_5d.branch3x3dbl_1.bn.running_var', 'Mixed_5d.branch3x3dbl_1.bn.num_batches_tracked', 'Mixed_5d.branch3x3dbl_2.conv.weight', 'Mixed_5d.branch3x3dbl_2.bn.weight', 'Mixed_5d.branch3x3dbl_2.bn.bias', 'Mixed_5d.branch3x3dbl_2.bn.running_mean', 'Mixed_5d.branch3x3dbl_2.bn.running_var', 'Mixed_5d.branch3x3dbl_2.bn.num_batches_tracked', 'Mixed_5d.branch3x3dbl_3.conv.weight', 'Mixed_5d.branch3x3dbl_3.bn.weight', 'Mixed_5d.branch3x3dbl_3.bn.bias', 'Mixed_5d.branch3x3dbl_3.bn.running_mean', 'Mixed_5d.branch3x3dbl_3.bn.running_var', 'Mixed_5d.branch3x3dbl_3.bn.num_batches_tracked', 'Mixed_5d.branch_pool.conv.weight', 'Mixed_5d.branch_pool.bn.weight', 'Mixed_5d.branch_pool.bn.bias', 'Mixed_5d.branch_pool.bn.running_mean', 'Mixed_5d.branch_pool.bn.running_var', 'Mixed_5d.branch_pool.bn.num_batches_tracked', 'Mixed_6a.branch3x3.conv.weight', 'Mixed_6a.branch3x3.bn.weight', 'Mixed_6a.branch3x3.bn.bias', 'Mixed_6a.branch3x3.bn.running_mean', 'Mixed_6a.branch3x3.bn.running_var', 'Mixed_6a.branch3x3.bn.num_batches_tracked', 'Mixed_6a.branch3x3dbl_1.conv.weight', 'Mixed_6a.branch3x3dbl_1.bn.weight', 'Mixed_6a.branch3x3dbl_1.bn.bias', 'Mixed_6a.branch3x3dbl_1.bn.running_mean', 'Mixed_6a.branch3x3dbl_1.bn.running_var', 'Mixed_6a.branch3x3dbl_1.bn.num_batches_tracked', 'Mixed_6a.branch3x3dbl_2.conv.weight', 'Mixed_6a.branch3x3dbl_2.bn.weight', 'Mixed_6a.branch3x3dbl_2.bn.bias', 'Mixed_6a.branch3x3dbl_2.bn.running_mean', 'Mixed_6a.branch3x3dbl_2.bn.running_var', 'Mixed_6a.branch3x3dbl_2.bn.num_batches_tracked', 'Mixed_6a.branch3x3dbl_3.conv.weight', 'Mixed_6a.branch3x3dbl_3.bn.weight', 'Mixed_6a.branch3x3dbl_3.bn.bias', 'Mixed_6a.branch3x3dbl_3.bn.running_mean', 'Mixed_6a.branch3x3dbl_3.bn.running_var', 'Mixed_6a.branch3x3dbl_3.bn.num_batches_tracked', 'Mixed_6b.branch1x1.conv.weight', 'Mixed_6b.branch1x1.bn.weight', 'Mixed_6b.branch1x1.bn.bias', 'Mixed_6b.branch1x1.bn.running_mean', 'Mixed_6b.branch1x1.bn.running_var', 'Mixed_6b.branch1x1.bn.num_batches_tracked', 'Mixed_6b.branch7x7_1.conv.weight', 'Mixed_6b.branch7x7_1.bn.weight', 'Mixed_6b.branch7x7_1.bn.bias', 'Mixed_6b.branch7x7_1.bn.running_mean', 'Mixed_6b.branch7x7_1.bn.running_var', 'Mixed_6b.branch7x7_1.bn.num_batches_tracked', 'Mixed_6b.branch7x7_2.conv.weight', 'Mixed_6b.branch7x7_2.bn.weight', 'Mixed_6b.branch7x7_2.bn.bias', 'Mixed_6b.branch7x7_2.bn.running_mean', 'Mixed_6b.branch7x7_2.bn.running_var', 'Mixed_6b.branch7x7_2.bn.num_batches_tracked', 'Mixed_6b.branch7x7_3.conv.weight', 'Mixed_6b.branch7x7_3.bn.weight', 'Mixed_6b.branch7x7_3.bn.bias', 'Mixed_6b.branch7x7_3.bn.running_mean', 'Mixed_6b.branch7x7_3.bn.running_var', 'Mixed_6b.branch7x7_3.bn.num_batches_tracked', 'Mixed_6b.branch7x7dbl_1.conv.weight', 'Mixed_6b.branch7x7dbl_1.bn.weight', 'Mixed_6b.branch7x7dbl_1.bn.bias', 'Mixed_6b.branch7x7dbl_1.bn.running_mean', 'Mixed_6b.branch7x7dbl_1.bn.running_var', 'Mixed_6b.branch7x7dbl_1.bn.num_batches_tracked', 'Mixed_6b.branch7x7dbl_2.conv.weight', 'Mixed_6b.branch7x7dbl_2.bn.weight', 'Mixed_6b.branch7x7dbl_2.bn.bias', 'Mixed_6b.branch7x7dbl_2.bn.running_mean', 'Mixed_6b.branch7x7dbl_2.bn.running_var', 'Mixed_6b.branch7x7dbl_2.bn.num_batches_tracked', 'Mixed_6b.branch7x7dbl_3.conv.weight', 'Mixed_6b.branch7x7dbl_3.bn.weight', 'Mixed_6b.branch7x7dbl_3.bn.bias', 'Mixed_6b.branch7x7dbl_3.bn.running_mean', 'Mixed_6b.branch7x7dbl_3.bn.running_var', 'Mixed_6b.branch7x7dbl_3.bn.num_batches_tracked', 'Mixed_6b.branch7x7dbl_4.conv.weight', 'Mixed_6b.branch7x7dbl_4.bn.weight', 'Mixed_6b.branch7x7dbl_4.bn.bias', 'Mixed_6b.branch7x7dbl_4.bn.running_mean', 'Mixed_6b.branch7x7dbl_4.bn.running_var', 'Mixed_6b.branch7x7dbl_4.bn.num_batches_tracked', 'Mixed_6b.branch7x7dbl_5.conv.weight', 'Mixed_6b.branch7x7dbl_5.bn.weight', 'Mixed_6b.branch7x7dbl_5.bn.bias', 'Mixed_6b.branch7x7dbl_5.bn.running_mean', 'Mixed_6b.branch7x7dbl_5.bn.running_var', 'Mixed_6b.branch7x7dbl_5.bn.num_batches_tracked', 'Mixed_6b.branch_pool.conv.weight', 'Mixed_6b.branch_pool.bn.weight', 'Mixed_6b.branch_pool.bn.bias', 'Mixed_6b.branch_pool.bn.running_mean', 'Mixed_6b.branch_pool.bn.running_var', 'Mixed_6b.branch_pool.bn.num_batches_tracked', 'Mixed_6c.branch1x1.conv.weight', 'Mixed_6c.branch1x1.bn.weight', 'Mixed_6c.branch1x1.bn.bias', 'Mixed_6c.branch1x1.bn.running_mean', 'Mixed_6c.branch1x1.bn.running_var', 'Mixed_6c.branch1x1.bn.num_batches_tracked', 'Mixed_6c.branch7x7_1.conv.weight', 'Mixed_6c.branch7x7_1.bn.weight', 'Mixed_6c.branch7x7_1.bn.bias', 'Mixed_6c.branch7x7_1.bn.running_mean', 'Mixed_6c.branch7x7_1.bn.running_var', 'Mixed_6c.branch7x7_1.bn.num_batches_tracked', 'Mixed_6c.branch7x7_2.conv.weight', 'Mixed_6c.branch7x7_2.bn.weight', 'Mixed_6c.branch7x7_2.bn.bias', 'Mixed_6c.branch7x7_2.bn.running_mean', 'Mixed_6c.branch7x7_2.bn.running_var', 'Mixed_6c.branch7x7_2.bn.num_batches_tracked', 'Mixed_6c.branch7x7_3.conv.weight', 'Mixed_6c.branch7x7_3.bn.weight', 'Mixed_6c.branch7x7_3.bn.bias', 'Mixed_6c.branch7x7_3.bn.running_mean', 'Mixed_6c.branch7x7_3.bn.running_var', 'Mixed_6c.branch7x7_3.bn.num_batches_tracked', 'Mixed_6c.branch7x7dbl_1.conv.weight', 'Mixed_6c.branch7x7dbl_1.bn.weight', 'Mixed_6c.branch7x7dbl_1.bn.bias', 'Mixed_6c.branch7x7dbl_1.bn.running_mean', 'Mixed_6c.branch7x7dbl_1.bn.running_var', 'Mixed_6c.branch7x7dbl_1.bn.num_batches_tracked', 'Mixed_6c.branch7x7dbl_2.conv.weight', 'Mixed_6c.branch7x7dbl_2.bn.weight', 'Mixed_6c.branch7x7dbl_2.bn.bias', 'Mixed_6c.branch7x7dbl_2.bn.running_mean', 'Mixed_6c.branch7x7dbl_2.bn.running_var', 'Mixed_6c.branch7x7dbl_2.bn.num_batches_tracked', 'Mixed_6c.branch7x7dbl_3.conv.weight', 'Mixed_6c.branch7x7dbl_3.bn.weight', 'Mixed_6c.branch7x7dbl_3.bn.bias', 'Mixed_6c.branch7x7dbl_3.bn.running_mean', 'Mixed_6c.branch7x7dbl_3.bn.running_var', 'Mixed_6c.branch7x7dbl_3.bn.num_batches_tracked', 'Mixed_6c.branch7x7dbl_4.conv.weight', 'Mixed_6c.branch7x7dbl_4.bn.weight', 'Mixed_6c.branch7x7dbl_4.bn.bias', 'Mixed_6c.branch7x7dbl_4.bn.running_mean', 'Mixed_6c.branch7x7dbl_4.bn.running_var', 'Mixed_6c.branch7x7dbl_4.bn.num_batches_tracked', 'Mixed_6c.branch7x7dbl_5.conv.weight', 'Mixed_6c.branch7x7dbl_5.bn.weight', 'Mixed_6c.branch7x7dbl_5.bn.bias', 'Mixed_6c.branch7x7dbl_5.bn.running_mean', 'Mixed_6c.branch7x7dbl_5.bn.running_var', 'Mixed_6c.branch7x7dbl_5.bn.num_batches_tracked', 'Mixed_6c.branch_pool.conv.weight', 'Mixed_6c.branch_pool.bn.weight', 'Mixed_6c.branch_pool.bn.bias', 'Mixed_6c.branch_pool.bn.running_mean', 'Mixed_6c.branch_pool.bn.running_var', 'Mixed_6c.branch_pool.bn.num_batches_tracked', 'Mixed_6d.branch1x1.conv.weight', 'Mixed_6d.branch1x1.bn.weight', 'Mixed_6d.branch1x1.bn.bias', 'Mixed_6d.branch1x1.bn.running_mean', 'Mixed_6d.branch1x1.bn.running_var', 'Mixed_6d.branch1x1.bn.num_batches_tracked', 'Mixed_6d.branch7x7_1.conv.weight', 'Mixed_6d.branch7x7_1.bn.weight', 'Mixed_6d.branch7x7_1.bn.bias', 'Mixed_6d.branch7x7_1.bn.running_mean', 'Mixed_6d.branch7x7_1.bn.running_var', 'Mixed_6d.branch7x7_1.bn.num_batches_tracked', 'Mixed_6d.branch7x7_2.conv.weight', 'Mixed_6d.branch7x7_2.bn.weight', 'Mixed_6d.branch7x7_2.bn.bias', 'Mixed_6d.branch7x7_2.bn.running_mean', 'Mixed_6d.branch7x7_2.bn.running_var', 'Mixed_6d.branch7x7_2.bn.num_batches_tracked', 'Mixed_6d.branch7x7_3.conv.weight', 'Mixed_6d.branch7x7_3.bn.weight', 'Mixed_6d.branch7x7_3.bn.bias', 'Mixed_6d.branch7x7_3.bn.running_mean', 'Mixed_6d.branch7x7_3.bn.running_var', 'Mixed_6d.branch7x7_3.bn.num_batches_tracked', 'Mixed_6d.branch7x7dbl_1.conv.weight', 'Mixed_6d.branch7x7dbl_1.bn.weight', 'Mixed_6d.branch7x7dbl_1.bn.bias', 'Mixed_6d.branch7x7dbl_1.bn.running_mean', 'Mixed_6d.branch7x7dbl_1.bn.running_var', 'Mixed_6d.branch7x7dbl_1.bn.num_batches_tracked', 'Mixed_6d.branch7x7dbl_2.conv.weight', 'Mixed_6d.branch7x7dbl_2.bn.weight', 'Mixed_6d.branch7x7dbl_2.bn.bias', 'Mixed_6d.branch7x7dbl_2.bn.running_mean', 'Mixed_6d.branch7x7dbl_2.bn.running_var', 'Mixed_6d.branch7x7dbl_2.bn.num_batches_tracked', 'Mixed_6d.branch7x7dbl_3.conv.weight', 'Mixed_6d.branch7x7dbl_3.bn.weight', 'Mixed_6d.branch7x7dbl_3.bn.bias', 'Mixed_6d.branch7x7dbl_3.bn.running_mean', 'Mixed_6d.branch7x7dbl_3.bn.running_var', 'Mixed_6d.branch7x7dbl_3.bn.num_batches_tracked', 'Mixed_6d.branch7x7dbl_4.conv.weight', 'Mixed_6d.branch7x7dbl_4.bn.weight', 'Mixed_6d.branch7x7dbl_4.bn.bias', 'Mixed_6d.branch7x7dbl_4.bn.running_mean', 'Mixed_6d.branch7x7dbl_4.bn.running_var', 'Mixed_6d.branch7x7dbl_4.bn.num_batches_tracked', 'Mixed_6d.branch7x7dbl_5.conv.weight', 'Mixed_6d.branch7x7dbl_5.bn.weight', 'Mixed_6d.branch7x7dbl_5.bn.bias', 'Mixed_6d.branch7x7dbl_5.bn.running_mean', 'Mixed_6d.branch7x7dbl_5.bn.running_var', 'Mixed_6d.branch7x7dbl_5.bn.num_batches_tracked', 'Mixed_6d.branch_pool.conv.weight', 'Mixed_6d.branch_pool.bn.weight', 'Mixed_6d.branch_pool.bn.bias', 'Mixed_6d.branch_pool.bn.running_mean', 'Mixed_6d.branch_pool.bn.running_var', 'Mixed_6d.branch_pool.bn.num_batches_tracked', 'Mixed_6e.branch1x1.conv.weight', 'Mixed_6e.branch1x1.bn.weight', 'Mixed_6e.branch1x1.bn.bias', 'Mixed_6e.branch1x1.bn.running_mean', 'Mixed_6e.branch1x1.bn.running_var', 'Mixed_6e.branch1x1.bn.num_batches_tracked', 'Mixed_6e.branch7x7_1.conv.weight', 'Mixed_6e.branch7x7_1.bn.weight', 'Mixed_6e.branch7x7_1.bn.bias', 'Mixed_6e.branch7x7_1.bn.running_mean', 'Mixed_6e.branch7x7_1.bn.running_var', 'Mixed_6e.branch7x7_1.bn.num_batches_tracked', 'Mixed_6e.branch7x7_2.conv.weight', 'Mixed_6e.branch7x7_2.bn.weight', 'Mixed_6e.branch7x7_2.bn.bias', 'Mixed_6e.branch7x7_2.bn.running_mean', 'Mixed_6e.branch7x7_2.bn.running_var', 'Mixed_6e.branch7x7_2.bn.num_batches_tracked', 'Mixed_6e.branch7x7_3.conv.weight', 'Mixed_6e.branch7x7_3.bn.weight', 'Mixed_6e.branch7x7_3.bn.bias', 'Mixed_6e.branch7x7_3.bn.running_mean', 'Mixed_6e.branch7x7_3.bn.running_var', 'Mixed_6e.branch7x7_3.bn.num_batches_tracked', 'Mixed_6e.branch7x7dbl_1.conv.weight', 'Mixed_6e.branch7x7dbl_1.bn.weight', 'Mixed_6e.branch7x7dbl_1.bn.bias', 'Mixed_6e.branch7x7dbl_1.bn.running_mean', 'Mixed_6e.branch7x7dbl_1.bn.running_var', 'Mixed_6e.branch7x7dbl_1.bn.num_batches_tracked', 'Mixed_6e.branch7x7dbl_2.conv.weight', 'Mixed_6e.branch7x7dbl_2.bn.weight', 'Mixed_6e.branch7x7dbl_2.bn.bias', 'Mixed_6e.branch7x7dbl_2.bn.running_mean', 'Mixed_6e.branch7x7dbl_2.bn.running_var', 'Mixed_6e.branch7x7dbl_2.bn.num_batches_tracked', 'Mixed_6e.branch7x7dbl_3.conv.weight', 'Mixed_6e.branch7x7dbl_3.bn.weight', 'Mixed_6e.branch7x7dbl_3.bn.bias', 'Mixed_6e.branch7x7dbl_3.bn.running_mean', 'Mixed_6e.branch7x7dbl_3.bn.running_var', 'Mixed_6e.branch7x7dbl_3.bn.num_batches_tracked', 'Mixed_6e.branch7x7dbl_4.conv.weight', 'Mixed_6e.branch7x7dbl_4.bn.weight', 'Mixed_6e.branch7x7dbl_4.bn.bias', 'Mixed_6e.branch7x7dbl_4.bn.running_mean', 'Mixed_6e.branch7x7dbl_4.bn.running_var', 'Mixed_6e.branch7x7dbl_4.bn.num_batches_tracked', 'Mixed_6e.branch7x7dbl_5.conv.weight', 'Mixed_6e.branch7x7dbl_5.bn.weight', 'Mixed_6e.branch7x7dbl_5.bn.bias', 'Mixed_6e.branch7x7dbl_5.bn.running_mean', 'Mixed_6e.branch7x7dbl_5.bn.running_var', 'Mixed_6e.branch7x7dbl_5.bn.num_batches_tracked', 'Mixed_6e.branch_pool.conv.weight', 'Mixed_6e.branch_pool.bn.weight', 'Mixed_6e.branch_pool.bn.bias', 'Mixed_6e.branch_pool.bn.running_mean', 'Mixed_6e.branch_pool.bn.running_var', 'Mixed_6e.branch_pool.bn.num_batches_tracked', 'AuxLogits.conv0.conv.weight', 'AuxLogits.conv0.bn.weight', 'AuxLogits.conv0.bn.bias', 'AuxLogits.conv0.bn.running_mean', 'AuxLogits.conv0.bn.running_var', 'AuxLogits.conv0.bn.num_batches_tracked', 'AuxLogits.conv1.conv.weight', 'AuxLogits.conv1.bn.weight', 'AuxLogits.conv1.bn.bias', 'AuxLogits.conv1.bn.running_mean', 'AuxLogits.conv1.bn.running_var', 'AuxLogits.conv1.bn.num_batches_tracked', 'AuxLogits.fc.weight', 'AuxLogits.fc.bias', 'Mixed_7a.branch3x3_1.conv.weight', 'Mixed_7a.branch3x3_1.bn.weight', 'Mixed_7a.branch3x3_1.bn.bias', 'Mixed_7a.branch3x3_1.bn.running_mean', 'Mixed_7a.branch3x3_1.bn.running_var', 'Mixed_7a.branch3x3_1.bn.num_batches_tracked', 'Mixed_7a.branch3x3_2.conv.weight', 'Mixed_7a.branch3x3_2.bn.weight', 'Mixed_7a.branch3x3_2.bn.bias', 'Mixed_7a.branch3x3_2.bn.running_mean', 'Mixed_7a.branch3x3_2.bn.running_var', 'Mixed_7a.branch3x3_2.bn.num_batches_tracked', 'Mixed_7a.branch7x7x3_1.conv.weight', 'Mixed_7a.branch7x7x3_1.bn.weight', 'Mixed_7a.branch7x7x3_1.bn.bias', 'Mixed_7a.branch7x7x3_1.bn.running_mean', 'Mixed_7a.branch7x7x3_1.bn.running_var', 'Mixed_7a.branch7x7x3_1.bn.num_batches_tracked', 'Mixed_7a.branch7x7x3_2.conv.weight', 'Mixed_7a.branch7x7x3_2.bn.weight', 'Mixed_7a.branch7x7x3_2.bn.bias', 'Mixed_7a.branch7x7x3_2.bn.running_mean', 'Mixed_7a.branch7x7x3_2.bn.running_var', 'Mixed_7a.branch7x7x3_2.bn.num_batches_tracked', 'Mixed_7a.branch7x7x3_3.conv.weight', 'Mixed_7a.branch7x7x3_3.bn.weight', 'Mixed_7a.branch7x7x3_3.bn.bias', 'Mixed_7a.branch7x7x3_3.bn.running_mean', 'Mixed_7a.branch7x7x3_3.bn.running_var', 'Mixed_7a.branch7x7x3_3.bn.num_batches_tracked', 'Mixed_7a.branch7x7x3_4.conv.weight', 'Mixed_7a.branch7x7x3_4.bn.weight', 'Mixed_7a.branch7x7x3_4.bn.bias', 'Mixed_7a.branch7x7x3_4.bn.running_mean', 'Mixed_7a.branch7x7x3_4.bn.running_var', 'Mixed_7a.branch7x7x3_4.bn.num_batches_tracked', 'Mixed_7b.branch1x1.conv.weight', 'Mixed_7b.branch1x1.bn.weight', 'Mixed_7b.branch1x1.bn.bias', 'Mixed_7b.branch1x1.bn.running_mean', 'Mixed_7b.branch1x1.bn.running_var', 'Mixed_7b.branch1x1.bn.num_batches_tracked', 'Mixed_7b.branch3x3_1.conv.weight', 'Mixed_7b.branch3x3_1.bn.weight', 'Mixed_7b.branch3x3_1.bn.bias', 'Mixed_7b.branch3x3_1.bn.running_mean', 'Mixed_7b.branch3x3_1.bn.running_var', 'Mixed_7b.branch3x3_1.bn.num_batches_tracked', 'Mixed_7b.branch3x3_2a.conv.weight', 'Mixed_7b.branch3x3_2a.bn.weight', 'Mixed_7b.branch3x3_2a.bn.bias', 'Mixed_7b.branch3x3_2a.bn.running_mean', 'Mixed_7b.branch3x3_2a.bn.running_var', 'Mixed_7b.branch3x3_2a.bn.num_batches_tracked', 'Mixed_7b.branch3x3_2b.conv.weight', 'Mixed_7b.branch3x3_2b.bn.weight', 'Mixed_7b.branch3x3_2b.bn.bias', 'Mixed_7b.branch3x3_2b.bn.running_mean', 'Mixed_7b.branch3x3_2b.bn.running_var', 'Mixed_7b.branch3x3_2b.bn.num_batches_tracked', 'Mixed_7b.branch3x3dbl_1.conv.weight', 'Mixed_7b.branch3x3dbl_1.bn.weight', 'Mixed_7b.branch3x3dbl_1.bn.bias', 'Mixed_7b.branch3x3dbl_1.bn.running_mean', 'Mixed_7b.branch3x3dbl_1.bn.running_var', 'Mixed_7b.branch3x3dbl_1.bn.num_batches_tracked', 'Mixed_7b.branch3x3dbl_2.conv.weight', 'Mixed_7b.branch3x3dbl_2.bn.weight', 'Mixed_7b.branch3x3dbl_2.bn.bias', 'Mixed_7b.branch3x3dbl_2.bn.running_mean', 'Mixed_7b.branch3x3dbl_2.bn.running_var', 'Mixed_7b.branch3x3dbl_2.bn.num_batches_tracked', 'Mixed_7b.branch3x3dbl_3a.conv.weight', 'Mixed_7b.branch3x3dbl_3a.bn.weight', 'Mixed_7b.branch3x3dbl_3a.bn.bias', 'Mixed_7b.branch3x3dbl_3a.bn.running_mean', 'Mixed_7b.branch3x3dbl_3a.bn.running_var', 'Mixed_7b.branch3x3dbl_3a.bn.num_batches_tracked', 'Mixed_7b.branch3x3dbl_3b.conv.weight', 'Mixed_7b.branch3x3dbl_3b.bn.weight', 'Mixed_7b.branch3x3dbl_3b.bn.bias', 'Mixed_7b.branch3x3dbl_3b.bn.running_mean', 'Mixed_7b.branch3x3dbl_3b.bn.running_var', 'Mixed_7b.branch3x3dbl_3b.bn.num_batches_tracked', 'Mixed_7b.branch_pool.conv.weight', 'Mixed_7b.branch_pool.bn.weight', 'Mixed_7b.branch_pool.bn.bias', 'Mixed_7b.branch_pool.bn.running_mean', 'Mixed_7b.branch_pool.bn.running_var', 'Mixed_7b.branch_pool.bn.num_batches_tracked', 'Mixed_7c.branch1x1.conv.weight', 'Mixed_7c.branch1x1.bn.weight', 'Mixed_7c.branch1x1.bn.bias', 'Mixed_7c.branch1x1.bn.running_mean', 'Mixed_7c.branch1x1.bn.running_var', 'Mixed_7c.branch1x1.bn.num_batches_tracked', 'Mixed_7c.branch3x3_1.conv.weight', 'Mixed_7c.branch3x3_1.bn.weight', 'Mixed_7c.branch3x3_1.bn.bias', 'Mixed_7c.branch3x3_1.bn.running_mean', 'Mixed_7c.branch3x3_1.bn.running_var', 'Mixed_7c.branch3x3_1.bn.num_batches_tracked', 'Mixed_7c.branch3x3_2a.conv.weight', 'Mixed_7c.branch3x3_2a.bn.weight', 'Mixed_7c.branch3x3_2a.bn.bias', 'Mixed_7c.branch3x3_2a.bn.running_mean', 'Mixed_7c.branch3x3_2a.bn.running_var', 'Mixed_7c.branch3x3_2a.bn.num_batches_tracked', 'Mixed_7c.branch3x3_2b.conv.weight', 'Mixed_7c.branch3x3_2b.bn.weight', 'Mixed_7c.branch3x3_2b.bn.bias', 'Mixed_7c.branch3x3_2b.bn.running_mean', 'Mixed_7c.branch3x3_2b.bn.running_var', 'Mixed_7c.branch3x3_2b.bn.num_batches_tracked', 'Mixed_7c.branch3x3dbl_1.conv.weight', 'Mixed_7c.branch3x3dbl_1.bn.weight', 'Mixed_7c.branch3x3dbl_1.bn.bias', 'Mixed_7c.branch3x3dbl_1.bn.running_mean', 'Mixed_7c.branch3x3dbl_1.bn.running_var', 'Mixed_7c.branch3x3dbl_1.bn.num_batches_tracked', 'Mixed_7c.branch3x3dbl_2.conv.weight', 'Mixed_7c.branch3x3dbl_2.bn.weight', 'Mixed_7c.branch3x3dbl_2.bn.bias', 'Mixed_7c.branch3x3dbl_2.bn.running_mean', 'Mixed_7c.branch3x3dbl_2.bn.running_var', 'Mixed_7c.branch3x3dbl_2.bn.num_batches_tracked', 'Mixed_7c.branch3x3dbl_3a.conv.weight', 'Mixed_7c.branch3x3dbl_3a.bn.weight', 'Mixed_7c.branch3x3dbl_3a.bn.bias', 'Mixed_7c.branch3x3dbl_3a.bn.running_mean', 'Mixed_7c.branch3x3dbl_3a.bn.running_var', 'Mixed_7c.branch3x3dbl_3a.bn.num_batches_tracked', 'Mixed_7c.branch3x3dbl_3b.conv.weight', 'Mixed_7c.branch3x3dbl_3b.bn.weight', 'Mixed_7c.branch3x3dbl_3b.bn.bias', 'Mixed_7c.branch3x3dbl_3b.bn.running_mean', 'Mixed_7c.branch3x3dbl_3b.bn.running_var', 'Mixed_7c.branch3x3dbl_3b.bn.num_batches_tracked', 'Mixed_7c.branch_pool.conv.weight', 'Mixed_7c.branch_pool.bn.weight', 'Mixed_7c.branch_pool.bn.bias', 'Mixed_7c.branch_pool.bn.running_mean', 'Mixed_7c.branch_pool.bn.running_var', 'Mixed_7c.branch_pool.bn.num_batches_tracked', 'fc.weight', 'fc.bias'])"
      ]
     },
     "execution_count": 70,
     "metadata": {},
     "output_type": "execute_result"
    }
   ],
   "source": [
    "model.state_dict().keys()"
   ]
  },
  {
   "cell_type": "code",
   "execution_count": 104,
   "id": "eaa522b8",
   "metadata": {},
   "outputs": [],
   "source": [
    "model.fc = nn.Linear(2048,100,bias=True)"
   ]
  },
  {
   "cell_type": "code",
   "execution_count": 105,
   "id": "5541dd29",
   "metadata": {},
   "outputs": [
    {
     "data": {
      "text/plain": [
       "<All keys matched successfully>"
      ]
     },
     "execution_count": 105,
     "metadata": {},
     "output_type": "execute_result"
    }
   ],
   "source": [
    "model.load_state_dict(weights['model_state'])"
   ]
  },
  {
   "cell_type": "code",
   "execution_count": null,
   "id": "cdaff4d2",
   "metadata": {},
   "outputs": [],
   "source": [
    "model.features()"
   ]
  },
  {
   "cell_type": "code",
   "execution_count": null,
   "id": "6c30ee95",
   "metadata": {
    "scrolled": true
   },
   "outputs": [],
   "source": [
    "# for Inception v3\n",
    "dataset_loader = DataLoader(dataset=dataset, batch_size=batch_size, shuffle=True)\n",
    "# get feature vectors\n",
    "feature_vector_all = torch.empty([0,49])\n",
    "labels_all = torch.empty([0,1])\n",
    "for i, data in enumerate(dataset_loader):\n",
    "    images, labels = data\n",
    "    labels = labels.unsqueeze(1)\n",
    "    labels_all = torch.vstack((labels_all, labels))\n",
    "    feature_map = model(images)\n",
    "    max_pool_output = torch.max(feature_map,dim=1).values\n",
    "    feature_vector = max_pool_output.view(-1,49)  \n",
    "    feature_vector_all = torch.vstack((feature_vector_all, feature_vector))  \n",
    "    print(feature_vector_all.size())\n",
    "    print(labels_all.size())\n",
    "#     # for debug\n",
    "    if i == 1:\n",
    "        break\n"
   ]
  },
  {
   "cell_type": "code",
   "execution_count": null,
   "id": "649a9431",
   "metadata": {},
   "outputs": [],
   "source": [
    "model.__dict__"
   ]
  },
  {
   "cell_type": "code",
   "execution_count": 156,
   "id": "7f9f906e",
   "metadata": {},
   "outputs": [
    {
     "data": {
      "text/plain": [
       "torch.Size([4, 3, 224, 224])"
      ]
     },
     "execution_count": 156,
     "metadata": {},
     "output_type": "execute_result"
    }
   ],
   "source": [
    "images.size()"
   ]
  },
  {
   "cell_type": "code",
   "execution_count": 159,
   "id": "b36b8310",
   "metadata": {},
   "outputs": [
    {
     "data": {
      "text/plain": [
       "torch.Size([4, 768, 12, 12])"
      ]
     },
     "execution_count": 159,
     "metadata": {},
     "output_type": "execute_result"
    }
   ],
   "source": [
    "imagesss.size()"
   ]
  },
  {
   "cell_type": "code",
   "execution_count": null,
   "id": "576e39ac",
   "metadata": {},
   "outputs": [],
   "source": [
    "imagesss = torch.clone(images)\n",
    "for i,k in enumerate(model._modules.items()):\n",
    "    print(i)\n",
    "    imagesss = k[1](imagesss)\n",
    "    \n",
    "    "
   ]
  },
  {
   "cell_type": "markdown",
   "id": "b5e4c64c",
   "metadata": {},
   "source": [
    "## import model VGG16"
   ]
  },
  {
   "cell_type": "code",
   "execution_count": null,
   "id": "8f5566e7",
   "metadata": {},
   "outputs": [],
   "source": [
    "model = models.vgg16()\n",
    "# for VGG16\n",
    "dataset_loader = DataLoader(dataset=dataset, batch_size=batch_size, shuffle=True)\n",
    "# get feature vectors\n",
    "feature_vector_all = torch.empty([0,49])\n",
    "labels_all = torch.empty([0,1])\n",
    "for i, data in enumerate(dataset_loader):\n",
    "    images, labels = data\n",
    "    img_to_show = images[0].detach().numpy().transpose(1, 2, 0)\n",
    "    plt.imshow(img_to_show)\n",
    "    labels = labels.unsqueeze(1)\n",
    "    labels_all = torch.vstack((labels_all, labels))\n",
    "    feature_map = model.features(images)\n",
    "    max_pool_output = torch.max(feature_map,dim=1).values\n",
    "    feature_vector = max_pool_output.view(-1,49)  \n",
    "    feature_vector_all = torch.vstack((feature_vector_all, feature_vector))  \n",
    "    print(feature_vector_all.size())\n",
    "    print(labels_all.size())\n",
    "#     # for debug\n",
    "    if i == 200:\n",
    "        break"
   ]
  },
  {
   "cell_type": "code",
   "execution_count": 31,
   "id": "27ab2787",
   "metadata": {},
   "outputs": [
    {
     "name": "stdout",
     "output_type": "stream",
     "text": [
      "788\n",
      "torch.Size([788, 1])\n"
     ]
    }
   ],
   "source": [
    "print(len(feature_vector_all))\n",
    "print(labels_all[:-4].size())"
   ]
  },
  {
   "cell_type": "code",
   "execution_count": 34,
   "id": "fc7ca045",
   "metadata": {},
   "outputs": [],
   "source": [
    "feature_vector_filename = f'feature_vector_random_{len(feature_vector_all)}.pt'\n",
    "labels_filename = f'labels_random_{len(labels_all[:-4])}.pt'\n",
    "torch.save(feature_vector_all, feature_vector_filename)\n",
    "torch.save(labels_all[:-4], labels_filename)"
   ]
  },
  {
   "cell_type": "code",
   "execution_count": 6,
   "id": "e4fe1d2f",
   "metadata": {},
   "outputs": [],
   "source": [
    "feature_vector_filename = f'feature_vector_random_788.pt'\n",
    "labels_filename = f'labels_random_788.pt'\n",
    "x = torch.load(feature_vector_filename).detach().numpy()\n",
    "y = torch.load(labels_filename).numpy()"
   ]
  },
  {
   "cell_type": "code",
   "execution_count": 19,
   "id": "8e38625d",
   "metadata": {},
   "outputs": [],
   "source": [
    "#PCA\n",
    "pca = PCA(n_components=2)\n",
    "principalComponents = pca.fit_transform(x)\n",
    "PCADf = pd.DataFrame(data = principalComponents\n",
    "             , columns = ['principal component 1', 'principal component 2'])\n",
    "PCADf['label'] = y\n",
    "\n",
    "# KPCA \n",
    "kpca = KPCA(n_components=2, kernel=\"rbf\", gamma=10, fit_inverse_transform=True, alpha=0.1)\n",
    "kpcaComponents = kpca.fit_transform(x)\n",
    "KPCADf = pd.DataFrame(data = kpcaComponents\n",
    "             , columns = ['principal component 1', 'principal component 2'])\n",
    "KPCADf['label'] = y\n",
    "\n",
    "# KPCA \n",
    "kpca = KPCA(n_components=2, kernel=\"rbf\", gamma=10, fit_inverse_transform=True, alpha=0.1)\n",
    "kpcaComponents = kpca.fit_transform(x)\n",
    "KPCADf = pd.DataFrame(data = kpcaComponents\n",
    "             , columns = ['principal component 1', 'principal component 2'])\n",
    "KPCADf['label'] = y\n"
   ]
  },
  {
   "cell_type": "code",
   "execution_count": 38,
   "id": "9a2df406",
   "metadata": {},
   "outputs": [
    {
     "name": "stdout",
     "output_type": "stream",
     "text": [
      "1.1326718\n",
      "1.0103271\n",
      "0.8976179\n",
      "0.8120478\n",
      "0.7314951\n",
      "0.6626135\n",
      "0.6023894\n",
      "0.54569405\n",
      "0.5012984\n",
      "0.45877334\n",
      "0.41718897\n",
      "0.38576016\n",
      "0.35506034\n",
      "0.3286698\n",
      "0.30367517\n",
      "0.28033668\n",
      "0.2594719\n",
      "0.24096617\n",
      "0.22351287\n",
      "0.2068006\n",
      "0.1908556\n",
      "0.17671983\n",
      "0.16266406\n",
      "0.14944547\n",
      "0.13764578\n",
      "0.12651956\n",
      "0.116217814\n",
      "0.10688189\n",
      "0.09793354\n",
      "0.0895091\n",
      "0.08161593\n",
      "0.07416383\n",
      "0.06707252\n",
      "0.060646854\n",
      "0.054512113\n",
      "0.048534963\n",
      "0.043066986\n",
      "0.037703615\n",
      "0.032749288\n",
      "0.028155679\n",
      "0.02388732\n",
      "0.019856911\n",
      "0.016172484\n",
      "0.012769682\n",
      "0.009464258\n",
      "0.006436378\n",
      "0.0039700125\n",
      "0.0018745839\n",
      "1.2224512e-12\n"
     ]
    }
   ],
   "source": [
    "MSE_list = []\n",
    "for i in range(1,50):\n",
    "    pca = PCA(n_components=i)\n",
    "    principalComponents = pca.fit_transform(x)\n",
    "    pca_inverse = pca.inverse_transform(principalComponents)\n",
    "    pca_MSE = np.mean((x-pca_inverse)**2)\n",
    "    print(pca_MSE)\n",
    "    MSE_list.append(pca_MSE)"
   ]
  },
  {
   "cell_type": "code",
   "execution_count": 31,
   "id": "71f545d2",
   "metadata": {},
   "outputs": [
    {
     "data": {
      "image/png": "[encoded data removed]",
      "text/plain": [
       "<Figure size 432x288 with 1 Axes>"
      ]
     },
     "metadata": {
      "needs_background": "light"
     },
     "output_type": "display_data"
    }
   ],
   "source": [
    "plt.figure()\n",
    "plt.plot(range(1,50), MSE_list)   \n",
    "plt.show()"
   ]
  },
  {
   "cell_type": "code",
   "execution_count": 28,
   "id": "29c6a311",
   "metadata": {},
   "outputs": [
    {
     "data": {
      "text/plain": [
       "1.0103271"
      ]
     },
     "execution_count": 28,
     "metadata": {},
     "output_type": "execute_result"
    }
   ],
   "source": [
    "pca2_MSE"
   ]
  },
  {
   "cell_type": "code",
   "execution_count": 26,
   "id": "f621669b",
   "metadata": {},
   "outputs": [
    {
     "data": {
      "text/plain": [
       "2.5"
      ]
     },
     "execution_count": 26,
     "metadata": {},
     "output_type": "execute_result"
    }
   ],
   "source": [
    "import numpy as np\n",
    "np.mean(np.array([[1,2],[3,4]]))"
   ]
  },
  {
   "cell_type": "code",
   "execution_count": 8,
   "id": "6857a2df",
   "metadata": {},
   "outputs": [
    {
     "data": {
      "text/plain": [
       "0.0    567\n",
       "1.0    221\n",
       "Name: label, dtype: int64"
      ]
     },
     "execution_count": 8,
     "metadata": {},
     "output_type": "execute_result"
    }
   ],
   "source": [
    "PCADf['label'].value_counts()"
   ]
  },
  {
   "cell_type": "code",
   "execution_count": 39,
   "id": "0e236110",
   "metadata": {},
   "outputs": [
    {
     "data": {
      "image/png": "[encoded data removed]",
      "text/plain": [
       "<Figure size 576x576 with 1 Axes>"
      ]
     },
     "metadata": {
      "needs_background": "light"
     },
     "output_type": "display_data"
    }
   ],
   "source": [
    "def plot_2D_MSI_MSS_decomposition(decompDf, decompType):\n",
    "    fig = plt.figure(figsize = (8,8))\n",
    "    ax = fig.add_subplot(1,1,1) \n",
    "    ax.set_xlabel('Principal Component 1', fontsize = 15)\n",
    "    ax.set_ylabel('Principal Component 2', fontsize = 15)\n",
    "    ax.set_title(f'2 component {decompType}', fontsize = 20)\n",
    "    targets = [0, 1]\n",
    "    colors = ['r', 'g']\n",
    "    for target, color in zip(targets,colors):\n",
    "        indicesToKeep = decompDf['label'] == target\n",
    "        ax.scatter(decompDf.loc[indicesToKeep, 'principal component 1']\n",
    "                   , decompDf.loc[indicesToKeep, 'principal component 2']\n",
    "                   , c = color\n",
    "                   , s = 50)\n",
    "    ax.legend([\"MSS\", \"MSI\"])\n",
    "    ax.grid()\n",
    "plot_2D_MSI_MSS_decomposition(PCADf, \"PCA\")"
   ]
  },
  {
   "cell_type": "code",
   "execution_count": 41,
   "id": "392ce7e1",
   "metadata": {},
   "outputs": [],
   "source": [
    "from sklearn.cluster import KMeans"
   ]
  },
  {
   "cell_type": "code",
   "execution_count": 42,
   "id": "f129676d",
   "metadata": {},
   "outputs": [],
   "source": [
    "kmeans = KMeans(n_clusters=2, random_state=0).fit(x)"
   ]
  },
  {
   "cell_type": "code",
   "execution_count": 44,
   "id": "39114387",
   "metadata": {},
   "outputs": [
    {
     "data": {
      "text/plain": [
       "(2, 49)"
      ]
     },
     "execution_count": 44,
     "metadata": {},
     "output_type": "execute_result"
    }
   ],
   "source": [
    "kmeans.cluster_centers_.shape"
   ]
  },
  {
   "cell_type": "code",
   "execution_count": 48,
   "id": "7fc42731",
   "metadata": {},
   "outputs": [
    {
     "data": {
      "image/png": "[encoded data removed]",
      "text/plain": [
       "<Figure size 432x432 with 1 Axes>"
      ]
     },
     "metadata": {
      "needs_background": "light"
     },
     "output_type": "display_data"
    }
   ],
   "source": [
    "# Run the Kmeans algorithm and get the index of data points clusters\n",
    "sse = []\n",
    "list_k = list(range(1, 15))\n",
    "\n",
    "for k in list_k:\n",
    "    km = KMeans(n_clusters=k)\n",
    "    km.fit(principalComponents)\n",
    "    sse.append(km.inertia_)\n",
    "\n",
    "# Plot sse against k\n",
    "plt.figure(figsize=(6, 6))\n",
    "plt.plot(list_k, sse, '-o')\n",
    "plt.xlabel(r'Number of clusters *k*')\n",
    "plt.ylabel('Sum of squared distance');"
   ]
  },
  {
   "cell_type": "code",
   "execution_count": 47,
   "id": "472774a6",
   "metadata": {},
   "outputs": [
    {
     "data": {
      "image/png": "[encoded data removed]",
      "text/plain": [
       "<Figure size 432x432 with 1 Axes>"
      ]
     },
     "metadata": {
      "needs_background": "light"
     },
     "output_type": "display_data"
    }
   ],
   "source": [
    "# Run the Kmeans algorithm and get the index of data points clusters\n",
    "sse = []\n",
    "list_k = list(range(1, 15))\n",
    "\n",
    "for k in list_k:\n",
    "    km = KMeans(n_clusters=k)\n",
    "    km.fit(x)\n",
    "    sse.append(km.inertia_)\n",
    "\n",
    "# Plot sse against k\n",
    "plt.figure(figsize=(6, 6))\n",
    "plt.plot(list_k, sse, '-o')\n",
    "plt.xlabel(r'Number of clusters *k*')\n",
    "plt.ylabel('Sum of squared distance');"
   ]
  },
  {
   "cell_type": "code",
   "execution_count": 50,
   "id": "10544738",
   "metadata": {},
   "outputs": [
    {
     "data": {
      "image/png": "[encoded data removed]",
      "text/plain": [
       "<Figure size 576x576 with 1 Axes>"
      ]
     },
     "metadata": {
      "needs_background": "light"
     },
     "output_type": "display_data"
    }
   ],
   "source": [
    "# KPCA-rbf, gamma=10\n",
    "kpca = KPCA(n_components=2, kernel=\"rbf\", gamma=10, fit_inverse_transform=True, alpha=0.1)\n",
    "kpcaComponents = kpca.fit_transform(x)\n",
    "KPCADf = pd.DataFrame(data = kpcaComponents\n",
    "             , columns = ['principal component 1', 'principal component 2'])\n",
    "KPCADf['label'] = y\n",
    "plot_2D_MSI_MSS_decomposition(KPCADf, \": KPCA, rbf, gamma=10\")"
   ]
  },
  {
   "cell_type": "code",
   "execution_count": 11,
   "id": "6f473d99",
   "metadata": {},
   "outputs": [
    {
     "data": {
      "image/png": "[encoded data removed]",
      "text/plain": [
       "<Figure size 576x576 with 1 Axes>"
      ]
     },
     "metadata": {
      "needs_background": "light"
     },
     "output_type": "display_data"
    }
   ],
   "source": [
    "# KPCA-rbf, gamma=50\n",
    "kpca = KPCA(n_components=2, kernel=\"rbf\", gamma=50, fit_inverse_transform=True, alpha=0.1)\n",
    "kpcaComponents = kpca.fit_transform(x)\n",
    "KPCADf = pd.DataFrame(data = kpcaComponents\n",
    "             , columns = ['principal component 1', 'principal component 2'])\n",
    "KPCADf['label'] = y\n",
    "plot_2D_MSI_MSS_decomposition(KPCADf, \"KPCA\")"
   ]
  },
  {
   "cell_type": "code",
   "execution_count": 51,
   "id": "11383b2f",
   "metadata": {},
   "outputs": [
    {
     "data": {
      "image/png": "[encoded data removed]",
      "text/plain": [
       "<Figure size 576x576 with 1 Axes>"
      ]
     },
     "metadata": {
      "needs_background": "light"
     },
     "output_type": "display_data"
    }
   ],
   "source": [
    "# KPCA-poly\n",
    "kpca = KPCA(n_components=2, kernel=\"poly\")\n",
    "kpcaComponents = kpca.fit_transform(x)\n",
    "KPCADf = pd.DataFrame(data = kpcaComponents\n",
    "             , columns = ['principal component 1', 'principal component 2'])\n",
    "KPCADf['label'] = y\n",
    "plot_2D_MSI_MSS_decomposition(KPCADf, \":KPCA, poly\")"
   ]
  },
  {
   "cell_type": "code",
   "execution_count": 153,
   "id": "60c7bc42",
   "metadata": {},
   "outputs": [
    {
     "name": "stdout",
     "output_type": "stream",
     "text": [
      "torch.Size([4, 512, 7, 7])\n",
      "torch.Size([4, 7, 7])\n",
      "torch.Size([4, 49])\n"
     ]
    }
   ],
   "source": [
    "feature_map = model.features(images)\n",
    "print(feature_map.size())\n",
    "max_pool_output = torch.max(feature_map,dim=1).values\n",
    "print(max_pool_output.size())\n",
    "feature_vector = max_pool_output.view(-1,49)\n",
    "print(feature_vector.size())"
   ]
  }
 ],
 "metadata": {
  "kernelspec": {
   "display_name": "Python 3 (ipykernel)",
   "language": "python",
   "name": "python3"
  },
  "language_info": {
   "codemirror_mode": {
    "name": "ipython",
    "version": 3
   },
   "file_extension": ".py",
   "mimetype": "text/x-python",
   "name": "python",
   "nbconvert_exporter": "python",
   "pygments_lexer": "ipython3",
   "version": "3.8.12"
  }
 },
 "nbformat": 4,
 "nbformat_minor": 5
}
